{
  "nbformat": 4,
  "nbformat_minor": 0,
  "metadata": {
    "colab": {
      "name": "plotly",
      "provenance": [],
      "collapsed_sections": []
    },
    "kernelspec": {
      "name": "python3",
      "display_name": "Python 3"
    }
  },
  "cells": [
    {
      "cell_type": "markdown",
      "metadata": {
        "id": "A-OQ8CAJEYZJ",
        "colab_type": "text"
      },
      "source": [
        "# **Breast cancer detection**\n",
        "Prepared by Mr. Hemant Gautam & Mr. Jane Alam\n",
        "\n",
        "Plotly\n",
        "\n",
        "Project- Visualization of Breast Cancer dataset using Plotly.\n",
        "\n",
        "Introduction\n",
        "\n",
        "The aim of this project is to visualize the data, selecting the features, choosing and applying the Plotly and comparing with other features\n",
        "\n",
        "The features from the data set describe characteristics of the cell nuclei and are computed from a digitized image of a fine needle aspirate (FNA) of a breast mass. As described in UCI Machine Learning Repository, the attribute informations are:\n",
        "\n",
        "Attribute Information:\n",
        "\n",
        "1) ID number 2) Diagnosis (M = malignant, B = benign) 3-32)\n",
        "\n",
        "Ten real-valued features are computed for each cell nucleus:\n",
        "\n",
        "a) radius (mean of distances from center to points on the perimeter)\n",
        "\n",
        "b) texture (standard deviation of gray-scale values)\n",
        "\n",
        "c) perimeter\n",
        "\n",
        "d) area\n",
        "\n",
        "e) smoothness (local variation in radius lengths)\n",
        "\n",
        "f) compactness (perimeter^2 / area - 1.0)\n",
        "\n",
        "g) concavity (severity of concave portions of the contour)\n",
        "\n",
        "h) concave points (number of concave portions of the contour)\n",
        "\n",
        "i) symmetry\n",
        "\n",
        "j) fractal dimension (\"coastline approximation\" - 1)"
      ]
    },
    {
      "cell_type": "code",
      "metadata": {
        "id": "v5xcuRESaZ2n",
        "colab_type": "code",
        "colab": {
          "base_uri": "https://localhost:8080/",
          "height": 241
        },
        "outputId": "a8d6f03c-a487-479d-98dd-eb457a5e674e"
      },
      "source": [
        "# Read the data\n",
        "import pandas as pd\n",
        "\n",
        "path = \"https://raw.githubusercontent.com/alamjane/Project/master/Breast%20Cancer.csv\"\n",
        "df = pd.read_csv(path)\n",
        "\n",
        "\n",
        "df.head()"
      ],
      "execution_count": 1,
      "outputs": [
        {
          "output_type": "execute_result",
          "data": {
            "text/html": [
              "<div>\n",
              "<style scoped>\n",
              "    .dataframe tbody tr th:only-of-type {\n",
              "        vertical-align: middle;\n",
              "    }\n",
              "\n",
              "    .dataframe tbody tr th {\n",
              "        vertical-align: top;\n",
              "    }\n",
              "\n",
              "    .dataframe thead th {\n",
              "        text-align: right;\n",
              "    }\n",
              "</style>\n",
              "<table border=\"1\" class=\"dataframe\">\n",
              "  <thead>\n",
              "    <tr style=\"text-align: right;\">\n",
              "      <th></th>\n",
              "      <th>id</th>\n",
              "      <th>diagnosis</th>\n",
              "      <th>radius_mean</th>\n",
              "      <th>texture_mean</th>\n",
              "      <th>perimeter_mean</th>\n",
              "      <th>area_mean</th>\n",
              "      <th>smoothness_mean</th>\n",
              "      <th>compactness_mean</th>\n",
              "      <th>concavity_mean</th>\n",
              "      <th>concave points_mean</th>\n",
              "      <th>symmetry_mean</th>\n",
              "      <th>fractal_dimension_mean</th>\n",
              "      <th>radius_se</th>\n",
              "      <th>texture_se</th>\n",
              "      <th>perimeter_se</th>\n",
              "      <th>area_se</th>\n",
              "      <th>smoothness_se</th>\n",
              "      <th>compactness_se</th>\n",
              "      <th>concavity_se</th>\n",
              "      <th>concave points_se</th>\n",
              "      <th>symmetry_se</th>\n",
              "      <th>fractal_dimension_se</th>\n",
              "      <th>radius_worst</th>\n",
              "      <th>texture_worst</th>\n",
              "      <th>perimeter_worst</th>\n",
              "      <th>area_worst</th>\n",
              "      <th>smoothness_worst</th>\n",
              "      <th>compactness_worst</th>\n",
              "      <th>concavity_worst</th>\n",
              "      <th>concave points_worst</th>\n",
              "      <th>symmetry_worst</th>\n",
              "      <th>fractal_dimension_worst</th>\n",
              "      <th>Unnamed: 32</th>\n",
              "    </tr>\n",
              "  </thead>\n",
              "  <tbody>\n",
              "    <tr>\n",
              "      <th>0</th>\n",
              "      <td>842302</td>\n",
              "      <td>M</td>\n",
              "      <td>17.99</td>\n",
              "      <td>10.38</td>\n",
              "      <td>122.80</td>\n",
              "      <td>1001.0</td>\n",
              "      <td>0.11840</td>\n",
              "      <td>0.27760</td>\n",
              "      <td>0.3001</td>\n",
              "      <td>0.14710</td>\n",
              "      <td>0.2419</td>\n",
              "      <td>0.07871</td>\n",
              "      <td>1.0950</td>\n",
              "      <td>0.9053</td>\n",
              "      <td>8.589</td>\n",
              "      <td>153.40</td>\n",
              "      <td>0.006399</td>\n",
              "      <td>0.04904</td>\n",
              "      <td>0.05373</td>\n",
              "      <td>0.01587</td>\n",
              "      <td>0.03003</td>\n",
              "      <td>0.006193</td>\n",
              "      <td>25.38</td>\n",
              "      <td>17.33</td>\n",
              "      <td>184.60</td>\n",
              "      <td>2019.0</td>\n",
              "      <td>0.1622</td>\n",
              "      <td>0.6656</td>\n",
              "      <td>0.7119</td>\n",
              "      <td>0.2654</td>\n",
              "      <td>0.4601</td>\n",
              "      <td>0.11890</td>\n",
              "      <td>NaN</td>\n",
              "    </tr>\n",
              "    <tr>\n",
              "      <th>1</th>\n",
              "      <td>842517</td>\n",
              "      <td>M</td>\n",
              "      <td>20.57</td>\n",
              "      <td>17.77</td>\n",
              "      <td>132.90</td>\n",
              "      <td>1326.0</td>\n",
              "      <td>0.08474</td>\n",
              "      <td>0.07864</td>\n",
              "      <td>0.0869</td>\n",
              "      <td>0.07017</td>\n",
              "      <td>0.1812</td>\n",
              "      <td>0.05667</td>\n",
              "      <td>0.5435</td>\n",
              "      <td>0.7339</td>\n",
              "      <td>3.398</td>\n",
              "      <td>74.08</td>\n",
              "      <td>0.005225</td>\n",
              "      <td>0.01308</td>\n",
              "      <td>0.01860</td>\n",
              "      <td>0.01340</td>\n",
              "      <td>0.01389</td>\n",
              "      <td>0.003532</td>\n",
              "      <td>24.99</td>\n",
              "      <td>23.41</td>\n",
              "      <td>158.80</td>\n",
              "      <td>1956.0</td>\n",
              "      <td>0.1238</td>\n",
              "      <td>0.1866</td>\n",
              "      <td>0.2416</td>\n",
              "      <td>0.1860</td>\n",
              "      <td>0.2750</td>\n",
              "      <td>0.08902</td>\n",
              "      <td>NaN</td>\n",
              "    </tr>\n",
              "    <tr>\n",
              "      <th>2</th>\n",
              "      <td>84300903</td>\n",
              "      <td>M</td>\n",
              "      <td>19.69</td>\n",
              "      <td>21.25</td>\n",
              "      <td>130.00</td>\n",
              "      <td>1203.0</td>\n",
              "      <td>0.10960</td>\n",
              "      <td>0.15990</td>\n",
              "      <td>0.1974</td>\n",
              "      <td>0.12790</td>\n",
              "      <td>0.2069</td>\n",
              "      <td>0.05999</td>\n",
              "      <td>0.7456</td>\n",
              "      <td>0.7869</td>\n",
              "      <td>4.585</td>\n",
              "      <td>94.03</td>\n",
              "      <td>0.006150</td>\n",
              "      <td>0.04006</td>\n",
              "      <td>0.03832</td>\n",
              "      <td>0.02058</td>\n",
              "      <td>0.02250</td>\n",
              "      <td>0.004571</td>\n",
              "      <td>23.57</td>\n",
              "      <td>25.53</td>\n",
              "      <td>152.50</td>\n",
              "      <td>1709.0</td>\n",
              "      <td>0.1444</td>\n",
              "      <td>0.4245</td>\n",
              "      <td>0.4504</td>\n",
              "      <td>0.2430</td>\n",
              "      <td>0.3613</td>\n",
              "      <td>0.08758</td>\n",
              "      <td>NaN</td>\n",
              "    </tr>\n",
              "    <tr>\n",
              "      <th>3</th>\n",
              "      <td>84348301</td>\n",
              "      <td>M</td>\n",
              "      <td>11.42</td>\n",
              "      <td>20.38</td>\n",
              "      <td>77.58</td>\n",
              "      <td>386.1</td>\n",
              "      <td>0.14250</td>\n",
              "      <td>0.28390</td>\n",
              "      <td>0.2414</td>\n",
              "      <td>0.10520</td>\n",
              "      <td>0.2597</td>\n",
              "      <td>0.09744</td>\n",
              "      <td>0.4956</td>\n",
              "      <td>1.1560</td>\n",
              "      <td>3.445</td>\n",
              "      <td>27.23</td>\n",
              "      <td>0.009110</td>\n",
              "      <td>0.07458</td>\n",
              "      <td>0.05661</td>\n",
              "      <td>0.01867</td>\n",
              "      <td>0.05963</td>\n",
              "      <td>0.009208</td>\n",
              "      <td>14.91</td>\n",
              "      <td>26.50</td>\n",
              "      <td>98.87</td>\n",
              "      <td>567.7</td>\n",
              "      <td>0.2098</td>\n",
              "      <td>0.8663</td>\n",
              "      <td>0.6869</td>\n",
              "      <td>0.2575</td>\n",
              "      <td>0.6638</td>\n",
              "      <td>0.17300</td>\n",
              "      <td>NaN</td>\n",
              "    </tr>\n",
              "    <tr>\n",
              "      <th>4</th>\n",
              "      <td>84358402</td>\n",
              "      <td>M</td>\n",
              "      <td>20.29</td>\n",
              "      <td>14.34</td>\n",
              "      <td>135.10</td>\n",
              "      <td>1297.0</td>\n",
              "      <td>0.10030</td>\n",
              "      <td>0.13280</td>\n",
              "      <td>0.1980</td>\n",
              "      <td>0.10430</td>\n",
              "      <td>0.1809</td>\n",
              "      <td>0.05883</td>\n",
              "      <td>0.7572</td>\n",
              "      <td>0.7813</td>\n",
              "      <td>5.438</td>\n",
              "      <td>94.44</td>\n",
              "      <td>0.011490</td>\n",
              "      <td>0.02461</td>\n",
              "      <td>0.05688</td>\n",
              "      <td>0.01885</td>\n",
              "      <td>0.01756</td>\n",
              "      <td>0.005115</td>\n",
              "      <td>22.54</td>\n",
              "      <td>16.67</td>\n",
              "      <td>152.20</td>\n",
              "      <td>1575.0</td>\n",
              "      <td>0.1374</td>\n",
              "      <td>0.2050</td>\n",
              "      <td>0.4000</td>\n",
              "      <td>0.1625</td>\n",
              "      <td>0.2364</td>\n",
              "      <td>0.07678</td>\n",
              "      <td>NaN</td>\n",
              "    </tr>\n",
              "  </tbody>\n",
              "</table>\n",
              "</div>"
            ],
            "text/plain": [
              "         id diagnosis  ...  fractal_dimension_worst  Unnamed: 32\n",
              "0    842302         M  ...                  0.11890          NaN\n",
              "1    842517         M  ...                  0.08902          NaN\n",
              "2  84300903         M  ...                  0.08758          NaN\n",
              "3  84348301         M  ...                  0.17300          NaN\n",
              "4  84358402         M  ...                  0.07678          NaN\n",
              "\n",
              "[5 rows x 33 columns]"
            ]
          },
          "metadata": {
            "tags": []
          },
          "execution_count": 1
        }
      ]
    },
    {
      "cell_type": "code",
      "metadata": {
        "id": "FYKmoR7eaavD",
        "colab_type": "code",
        "colab": {}
      },
      "source": [
        "# Drop useless variables\n",
        "df = df.drop(['Unnamed: 32','id'], axis = 1)\n",
        "\n",
        "# Reassign target\n",
        "df.diagnosis.replace(to_replace = dict(M = 1, B = 0), inplace = True)"
      ],
      "execution_count": 2,
      "outputs": []
    },
    {
      "cell_type": "code",
      "metadata": {
        "id": "BfNa2iOQanyc",
        "colab_type": "code",
        "colab": {
          "base_uri": "https://localhost:8080/",
          "height": 241
        },
        "outputId": "2d2b6919-a2aa-4e7d-de51-3b07d895d89c"
      },
      "source": [
        "df.head()"
      ],
      "execution_count": 3,
      "outputs": [
        {
          "output_type": "execute_result",
          "data": {
            "text/html": [
              "<div>\n",
              "<style scoped>\n",
              "    .dataframe tbody tr th:only-of-type {\n",
              "        vertical-align: middle;\n",
              "    }\n",
              "\n",
              "    .dataframe tbody tr th {\n",
              "        vertical-align: top;\n",
              "    }\n",
              "\n",
              "    .dataframe thead th {\n",
              "        text-align: right;\n",
              "    }\n",
              "</style>\n",
              "<table border=\"1\" class=\"dataframe\">\n",
              "  <thead>\n",
              "    <tr style=\"text-align: right;\">\n",
              "      <th></th>\n",
              "      <th>diagnosis</th>\n",
              "      <th>radius_mean</th>\n",
              "      <th>texture_mean</th>\n",
              "      <th>perimeter_mean</th>\n",
              "      <th>area_mean</th>\n",
              "      <th>smoothness_mean</th>\n",
              "      <th>compactness_mean</th>\n",
              "      <th>concavity_mean</th>\n",
              "      <th>concave points_mean</th>\n",
              "      <th>symmetry_mean</th>\n",
              "      <th>fractal_dimension_mean</th>\n",
              "      <th>radius_se</th>\n",
              "      <th>texture_se</th>\n",
              "      <th>perimeter_se</th>\n",
              "      <th>area_se</th>\n",
              "      <th>smoothness_se</th>\n",
              "      <th>compactness_se</th>\n",
              "      <th>concavity_se</th>\n",
              "      <th>concave points_se</th>\n",
              "      <th>symmetry_se</th>\n",
              "      <th>fractal_dimension_se</th>\n",
              "      <th>radius_worst</th>\n",
              "      <th>texture_worst</th>\n",
              "      <th>perimeter_worst</th>\n",
              "      <th>area_worst</th>\n",
              "      <th>smoothness_worst</th>\n",
              "      <th>compactness_worst</th>\n",
              "      <th>concavity_worst</th>\n",
              "      <th>concave points_worst</th>\n",
              "      <th>symmetry_worst</th>\n",
              "      <th>fractal_dimension_worst</th>\n",
              "    </tr>\n",
              "  </thead>\n",
              "  <tbody>\n",
              "    <tr>\n",
              "      <th>0</th>\n",
              "      <td>1</td>\n",
              "      <td>17.99</td>\n",
              "      <td>10.38</td>\n",
              "      <td>122.80</td>\n",
              "      <td>1001.0</td>\n",
              "      <td>0.11840</td>\n",
              "      <td>0.27760</td>\n",
              "      <td>0.3001</td>\n",
              "      <td>0.14710</td>\n",
              "      <td>0.2419</td>\n",
              "      <td>0.07871</td>\n",
              "      <td>1.0950</td>\n",
              "      <td>0.9053</td>\n",
              "      <td>8.589</td>\n",
              "      <td>153.40</td>\n",
              "      <td>0.006399</td>\n",
              "      <td>0.04904</td>\n",
              "      <td>0.05373</td>\n",
              "      <td>0.01587</td>\n",
              "      <td>0.03003</td>\n",
              "      <td>0.006193</td>\n",
              "      <td>25.38</td>\n",
              "      <td>17.33</td>\n",
              "      <td>184.60</td>\n",
              "      <td>2019.0</td>\n",
              "      <td>0.1622</td>\n",
              "      <td>0.6656</td>\n",
              "      <td>0.7119</td>\n",
              "      <td>0.2654</td>\n",
              "      <td>0.4601</td>\n",
              "      <td>0.11890</td>\n",
              "    </tr>\n",
              "    <tr>\n",
              "      <th>1</th>\n",
              "      <td>1</td>\n",
              "      <td>20.57</td>\n",
              "      <td>17.77</td>\n",
              "      <td>132.90</td>\n",
              "      <td>1326.0</td>\n",
              "      <td>0.08474</td>\n",
              "      <td>0.07864</td>\n",
              "      <td>0.0869</td>\n",
              "      <td>0.07017</td>\n",
              "      <td>0.1812</td>\n",
              "      <td>0.05667</td>\n",
              "      <td>0.5435</td>\n",
              "      <td>0.7339</td>\n",
              "      <td>3.398</td>\n",
              "      <td>74.08</td>\n",
              "      <td>0.005225</td>\n",
              "      <td>0.01308</td>\n",
              "      <td>0.01860</td>\n",
              "      <td>0.01340</td>\n",
              "      <td>0.01389</td>\n",
              "      <td>0.003532</td>\n",
              "      <td>24.99</td>\n",
              "      <td>23.41</td>\n",
              "      <td>158.80</td>\n",
              "      <td>1956.0</td>\n",
              "      <td>0.1238</td>\n",
              "      <td>0.1866</td>\n",
              "      <td>0.2416</td>\n",
              "      <td>0.1860</td>\n",
              "      <td>0.2750</td>\n",
              "      <td>0.08902</td>\n",
              "    </tr>\n",
              "    <tr>\n",
              "      <th>2</th>\n",
              "      <td>1</td>\n",
              "      <td>19.69</td>\n",
              "      <td>21.25</td>\n",
              "      <td>130.00</td>\n",
              "      <td>1203.0</td>\n",
              "      <td>0.10960</td>\n",
              "      <td>0.15990</td>\n",
              "      <td>0.1974</td>\n",
              "      <td>0.12790</td>\n",
              "      <td>0.2069</td>\n",
              "      <td>0.05999</td>\n",
              "      <td>0.7456</td>\n",
              "      <td>0.7869</td>\n",
              "      <td>4.585</td>\n",
              "      <td>94.03</td>\n",
              "      <td>0.006150</td>\n",
              "      <td>0.04006</td>\n",
              "      <td>0.03832</td>\n",
              "      <td>0.02058</td>\n",
              "      <td>0.02250</td>\n",
              "      <td>0.004571</td>\n",
              "      <td>23.57</td>\n",
              "      <td>25.53</td>\n",
              "      <td>152.50</td>\n",
              "      <td>1709.0</td>\n",
              "      <td>0.1444</td>\n",
              "      <td>0.4245</td>\n",
              "      <td>0.4504</td>\n",
              "      <td>0.2430</td>\n",
              "      <td>0.3613</td>\n",
              "      <td>0.08758</td>\n",
              "    </tr>\n",
              "    <tr>\n",
              "      <th>3</th>\n",
              "      <td>1</td>\n",
              "      <td>11.42</td>\n",
              "      <td>20.38</td>\n",
              "      <td>77.58</td>\n",
              "      <td>386.1</td>\n",
              "      <td>0.14250</td>\n",
              "      <td>0.28390</td>\n",
              "      <td>0.2414</td>\n",
              "      <td>0.10520</td>\n",
              "      <td>0.2597</td>\n",
              "      <td>0.09744</td>\n",
              "      <td>0.4956</td>\n",
              "      <td>1.1560</td>\n",
              "      <td>3.445</td>\n",
              "      <td>27.23</td>\n",
              "      <td>0.009110</td>\n",
              "      <td>0.07458</td>\n",
              "      <td>0.05661</td>\n",
              "      <td>0.01867</td>\n",
              "      <td>0.05963</td>\n",
              "      <td>0.009208</td>\n",
              "      <td>14.91</td>\n",
              "      <td>26.50</td>\n",
              "      <td>98.87</td>\n",
              "      <td>567.7</td>\n",
              "      <td>0.2098</td>\n",
              "      <td>0.8663</td>\n",
              "      <td>0.6869</td>\n",
              "      <td>0.2575</td>\n",
              "      <td>0.6638</td>\n",
              "      <td>0.17300</td>\n",
              "    </tr>\n",
              "    <tr>\n",
              "      <th>4</th>\n",
              "      <td>1</td>\n",
              "      <td>20.29</td>\n",
              "      <td>14.34</td>\n",
              "      <td>135.10</td>\n",
              "      <td>1297.0</td>\n",
              "      <td>0.10030</td>\n",
              "      <td>0.13280</td>\n",
              "      <td>0.1980</td>\n",
              "      <td>0.10430</td>\n",
              "      <td>0.1809</td>\n",
              "      <td>0.05883</td>\n",
              "      <td>0.7572</td>\n",
              "      <td>0.7813</td>\n",
              "      <td>5.438</td>\n",
              "      <td>94.44</td>\n",
              "      <td>0.011490</td>\n",
              "      <td>0.02461</td>\n",
              "      <td>0.05688</td>\n",
              "      <td>0.01885</td>\n",
              "      <td>0.01756</td>\n",
              "      <td>0.005115</td>\n",
              "      <td>22.54</td>\n",
              "      <td>16.67</td>\n",
              "      <td>152.20</td>\n",
              "      <td>1575.0</td>\n",
              "      <td>0.1374</td>\n",
              "      <td>0.2050</td>\n",
              "      <td>0.4000</td>\n",
              "      <td>0.1625</td>\n",
              "      <td>0.2364</td>\n",
              "      <td>0.07678</td>\n",
              "    </tr>\n",
              "  </tbody>\n",
              "</table>\n",
              "</div>"
            ],
            "text/plain": [
              "   diagnosis  radius_mean  ...  symmetry_worst  fractal_dimension_worst\n",
              "0          1        17.99  ...          0.4601                  0.11890\n",
              "1          1        20.57  ...          0.2750                  0.08902\n",
              "2          1        19.69  ...          0.3613                  0.08758\n",
              "3          1        11.42  ...          0.6638                  0.17300\n",
              "4          1        20.29  ...          0.2364                  0.07678\n",
              "\n",
              "[5 rows x 31 columns]"
            ]
          },
          "metadata": {
            "tags": []
          },
          "execution_count": 3
        }
      ]
    },
    {
      "cell_type": "code",
      "metadata": {
        "id": "geqHVGCdaplM",
        "colab_type": "code",
        "colab": {
          "base_uri": "https://localhost:8080/",
          "height": 34
        },
        "outputId": "9ae89d73-f6bc-40c4-a097-53d3f188f550"
      },
      "source": [
        "# Checking number of rows and columns\n",
        "\n",
        "df.shape"
      ],
      "execution_count": 4,
      "outputs": [
        {
          "output_type": "execute_result",
          "data": {
            "text/plain": [
              "(569, 31)"
            ]
          },
          "metadata": {
            "tags": []
          },
          "execution_count": 4
        }
      ]
    },
    {
      "cell_type": "code",
      "metadata": {
        "id": "oXtLELVFasIw",
        "colab_type": "code",
        "colab": {
          "base_uri": "https://localhost:8080/",
          "height": 187
        },
        "outputId": "fb188ad4-cc87-4df9-c84e-9b484ee9369b"
      },
      "source": [
        "# Checking columns name\n",
        "\n",
        "df.columns"
      ],
      "execution_count": 5,
      "outputs": [
        {
          "output_type": "execute_result",
          "data": {
            "text/plain": [
              "Index(['diagnosis', 'radius_mean', 'texture_mean', 'perimeter_mean',\n",
              "       'area_mean', 'smoothness_mean', 'compactness_mean', 'concavity_mean',\n",
              "       'concave points_mean', 'symmetry_mean', 'fractal_dimension_mean',\n",
              "       'radius_se', 'texture_se', 'perimeter_se', 'area_se', 'smoothness_se',\n",
              "       'compactness_se', 'concavity_se', 'concave points_se', 'symmetry_se',\n",
              "       'fractal_dimension_se', 'radius_worst', 'texture_worst',\n",
              "       'perimeter_worst', 'area_worst', 'smoothness_worst',\n",
              "       'compactness_worst', 'concavity_worst', 'concave points_worst',\n",
              "       'symmetry_worst', 'fractal_dimension_worst'],\n",
              "      dtype='object')"
            ]
          },
          "metadata": {
            "tags": []
          },
          "execution_count": 5
        }
      ]
    },
    {
      "cell_type": "markdown",
      "metadata": {
        "id": "9xU8NECqC_pV",
        "colab_type": "text"
      },
      "source": [
        "## Importing Plotly library"
      ]
    },
    {
      "cell_type": "code",
      "metadata": {
        "id": "xZ4XXzmEHi3S",
        "colab_type": "code",
        "colab": {
          "base_uri": "https://localhost:8080/",
          "height": 258
        },
        "outputId": "4b01c12f-724f-4e3e-f703-3f562f330712"
      },
      "source": [
        "pip install chart-studio"
      ],
      "execution_count": 9,
      "outputs": [
        {
          "output_type": "stream",
          "text": [
            "Collecting chart-studio\n",
            "\u001b[?25l  Downloading https://files.pythonhosted.org/packages/ca/ce/330794a6b6ca4b9182c38fc69dd2a9cbff60fd49421cb8648ee5fee352dc/chart_studio-1.1.0-py3-none-any.whl (64kB)\n",
            "\u001b[K     |████████████████████████████████| 71kB 1.9MB/s \n",
            "\u001b[?25hRequirement already satisfied: retrying>=1.3.3 in /usr/local/lib/python3.6/dist-packages (from chart-studio) (1.3.3)\n",
            "Requirement already satisfied: requests in /usr/local/lib/python3.6/dist-packages (from chart-studio) (2.23.0)\n",
            "Requirement already satisfied: plotly in /usr/local/lib/python3.6/dist-packages (from chart-studio) (4.4.1)\n",
            "Requirement already satisfied: six in /usr/local/lib/python3.6/dist-packages (from chart-studio) (1.15.0)\n",
            "Requirement already satisfied: idna<3,>=2.5 in /usr/local/lib/python3.6/dist-packages (from requests->chart-studio) (2.10)\n",
            "Requirement already satisfied: certifi>=2017.4.17 in /usr/local/lib/python3.6/dist-packages (from requests->chart-studio) (2020.6.20)\n",
            "Requirement already satisfied: chardet<4,>=3.0.2 in /usr/local/lib/python3.6/dist-packages (from requests->chart-studio) (3.0.4)\n",
            "Requirement already satisfied: urllib3!=1.25.0,!=1.25.1,<1.26,>=1.21.1 in /usr/local/lib/python3.6/dist-packages (from requests->chart-studio) (1.24.3)\n",
            "Installing collected packages: chart-studio\n",
            "Successfully installed chart-studio-1.1.0\n"
          ],
          "name": "stdout"
        }
      ]
    },
    {
      "cell_type": "code",
      "metadata": {
        "id": "MAkErpkub35t",
        "colab_type": "code",
        "colab": {}
      },
      "source": [
        "import chart_studio.plotly\n",
        "import plotly.graph_objs as go\n",
        "from plotly.offline import iplot, init_notebook_mode\n",
        "\n",
        "import plotly.figure_factory as ff"
      ],
      "execution_count": 10,
      "outputs": []
    },
    {
      "cell_type": "markdown",
      "metadata": {
        "id": "re4xCRgXfgXl",
        "colab_type": "text"
      },
      "source": [
        "## **Distplot**"
      ]
    },
    {
      "cell_type": "markdown",
      "metadata": {
        "id": "6EDDph2rfn8w",
        "colab_type": "text"
      },
      "source": [
        "#### Distplots are used to plot a univariate distribution of observations.\n",
        "#### This basically plots a histogram and fits a kernel density estimate(kde)"
      ]
    },
    {
      "cell_type": "markdown",
      "metadata": {
        "id": "JL-vMGoWfz1h",
        "colab_type": "text"
      },
      "source": [
        "#### Distplot of radius_mean"
      ]
    },
    {
      "cell_type": "code",
      "metadata": {
        "id": "Ymq08Z2kb_so",
        "colab_type": "code",
        "colab": {
          "base_uri": "https://localhost:8080/",
          "height": 542
        },
        "outputId": "00bd31e3-7a08-4de6-ccde-383b512882db"
      },
      "source": [
        "fig = ff.create_distplot([df.radius_mean],['radius_mean'],bin_size=5)\n",
        "iplot(fig, filename='Basic Distplot')"
      ],
      "execution_count": 11,
      "outputs": [
        {
          "output_type": "display_data",
          "data": {
            "text/html": [
              "<html>\n",
              "<head><meta charset=\"utf-8\" /></head>\n",
              "<body>\n",
              "    <div>\n",
              "            <script src=\"https://cdnjs.cloudflare.com/ajax/libs/mathjax/2.7.5/MathJax.js?config=TeX-AMS-MML_SVG\"></script><script type=\"text/javascript\">if (window.MathJax) {MathJax.Hub.Config({SVG: {font: \"STIX-Web\"}});}</script>\n",
              "                <script type=\"text/javascript\">window.PlotlyConfig = {MathJaxConfig: 'local'};</script>\n",
              "        <script src=\"https://cdn.plot.ly/plotly-latest.min.js\"></script>    \n",
              "            <div id=\"122dec90-8b95-4768-a941-009565235bd8\" class=\"plotly-graph-div\" style=\"height:525px; width:100%;\"></div>\n",
              "            <script type=\"text/javascript\">\n",
              "                \n",
              "                    window.PLOTLYENV=window.PLOTLYENV || {};\n",
              "                    \n",
              "                if (document.getElementById(\"122dec90-8b95-4768-a941-009565235bd8\")) {\n",
              "                    Plotly.newPlot(\n",
              "                        '122dec90-8b95-4768-a941-009565235bd8',\n",
              "                        [{\"autobinx\": false, \"histnorm\": \"probability density\", \"legendgroup\": \"radius_mean\", \"marker\": {\"color\": \"rgb(31, 119, 180)\"}, \"name\": \"radius_mean\", \"opacity\": 0.7, \"type\": \"histogram\", \"x\": [17.99, 20.57, 19.69, 11.42, 20.29, 12.45, 18.25, 13.71, 13.0, 12.46, 16.02, 15.78, 19.17, 15.85, 13.73, 14.54, 14.68, 16.13, 19.81, 13.54, 13.08, 9.504, 15.34, 21.16, 16.65, 17.14, 14.58, 18.61, 15.3, 17.57, 18.63, 11.84, 17.02, 19.27, 16.13, 16.74, 14.25, 13.03, 14.99, 13.48, 13.44, 10.95, 19.07, 13.28, 13.17, 18.65, 8.196, 13.17, 12.05, 13.49, 11.76, 13.64, 11.94, 18.22, 15.1, 11.52, 19.21, 14.71, 13.05, 8.618, 10.17, 8.597999999999999, 14.25, 9.173, 12.68, 14.78, 9.465, 11.31, 9.029, 12.78, 18.94, 8.888, 17.2, 13.8, 12.31, 16.07, 13.53, 18.05, 20.18, 12.86, 11.45, 13.34, 25.22, 19.1, 12.0, 18.46, 14.48, 19.02, 12.36, 14.64, 14.62, 15.37, 13.27, 13.45, 15.06, 20.26, 12.18, 9.787, 11.6, 14.42, 13.61, 6.981, 12.18, 9.876, 10.49, 13.11, 11.64, 12.36, 22.27, 11.34, 9.777000000000001, 12.63, 14.26, 10.51, 8.726, 11.93, 8.95, 14.87, 15.78, 17.95, 11.41, 18.66, 24.25, 14.5, 13.37, 13.85, 13.61, 19.0, 15.1, 19.79, 12.19, 15.46, 16.16, 15.71, 18.45, 12.77, 11.71, 11.43, 14.95, 11.28, 9.738, 16.11, 11.43, 12.9, 10.75, 11.9, 11.8, 14.95, 14.44, 13.74, 13.0, 8.219, 9.731, 11.15, 13.15, 12.25, 17.68, 16.84, 12.06, 10.9, 11.75, 19.19, 19.59, 12.34, 23.27, 14.97, 10.8, 16.78, 17.47, 14.97, 12.32, 13.43, 15.46, 11.08, 10.66, 8.671, 9.904, 16.46, 13.01, 12.81, 27.22, 21.09, 15.7, 11.41, 15.28, 10.08, 18.31, 11.71, 11.81, 12.3, 14.22, 12.77, 9.72, 12.34, 14.86, 12.91, 13.77, 18.08, 19.18, 14.45, 12.23, 17.54, 23.29, 13.81, 12.47, 15.12, 9.876, 17.01, 13.11, 15.27, 20.58, 11.84, 28.11, 17.42, 14.19, 13.86, 11.89, 10.2, 19.8, 19.53, 13.65, 13.56, 10.18, 15.75, 13.27, 14.34, 10.44, 15.0, 12.62, 12.83, 17.05, 11.32, 11.22, 20.51, 9.567, 14.03, 23.21, 20.48, 14.22, 17.46, 13.64, 12.42, 11.3, 13.75, 19.4, 10.48, 13.2, 12.89, 10.65, 11.52, 20.94, 11.5, 19.73, 17.3, 19.45, 13.96, 19.55, 15.32, 15.66, 15.53, 20.31, 17.35, 17.29, 15.61, 17.19, 20.73, 10.6, 13.59, 12.87, 10.71, 14.29, 11.29, 21.75, 9.742, 17.93, 11.89, 11.33, 18.81, 13.59, 13.85, 19.16, 11.74, 19.4, 16.24, 12.89, 12.58, 11.94, 12.89, 11.26, 11.37, 14.41, 14.96, 12.95, 11.85, 12.72, 13.77, 10.91, 11.76, 14.26, 10.51, 19.53, 12.46, 20.09, 10.49, 11.46, 11.6, 13.2, 9.0, 13.5, 13.05, 11.7, 14.61, 12.76, 11.54, 8.597000000000001, 12.49, 12.18, 18.22, 9.042, 12.43, 10.25, 20.16, 12.86, 20.34, 12.2, 12.67, 14.11, 12.03, 16.27, 16.26, 16.03, 12.98, 11.22, 11.25, 12.3, 17.06, 12.99, 18.77, 10.05, 23.51, 14.42, 9.606, 11.06, 19.68, 11.71, 10.26, 12.06, 14.76, 11.47, 11.95, 11.66, 15.75, 25.73, 15.08, 11.14, 12.56, 13.05, 13.87, 8.878, 9.436, 12.54, 13.3, 12.76, 16.5, 13.4, 20.44, 20.2, 12.21, 21.71, 22.01, 16.35, 15.19, 21.37, 20.64, 13.69, 16.17, 10.57, 13.46, 13.66, 11.08, 11.27, 11.04, 12.05, 12.39, 13.28, 14.6, 12.21, 13.88, 11.27, 19.55, 10.26, 8.734, 15.49, 21.61, 12.1, 14.06, 13.51, 12.8, 11.06, 11.8, 17.91, 11.93, 12.96, 12.94, 12.34, 10.94, 16.14, 12.85, 17.99, 12.27, 11.36, 11.04, 9.397, 14.99, 15.13, 11.89, 9.405, 15.5, 12.7, 11.16, 11.57, 14.69, 11.61, 13.66, 9.742, 10.03, 10.48, 10.8, 11.13, 12.72, 14.9, 12.4, 20.18, 18.82, 14.86, 13.98, 12.87, 14.04, 13.85, 14.02, 10.97, 17.27, 13.78, 10.57, 18.03, 11.99, 17.75, 14.8, 14.53, 21.1, 11.87, 19.59, 12.0, 14.53, 12.62, 13.38, 11.63, 13.21, 13.0, 9.755, 17.08, 27.42, 14.4, 11.6, 13.17, 13.24, 13.14, 9.668, 17.6, 11.62, 9.667, 12.04, 14.92, 12.27, 10.88, 12.83, 14.2, 13.9, 11.49, 16.25, 12.16, 13.9, 13.47, 13.7, 15.73, 12.45, 14.64, 19.44, 11.68, 16.69, 12.25, 17.85, 18.01, 12.46, 13.16, 14.87, 12.65, 12.47, 18.49, 20.59, 15.04, 13.82, 12.54, 23.09, 9.267999999999999, 9.676, 12.22, 11.06, 16.3, 15.46, 11.74, 14.81, 13.4, 14.58, 15.05, 11.34, 18.31, 19.89, 12.88, 12.75, 9.295, 24.63, 11.26, 13.71, 9.847000000000001, 8.571, 13.46, 12.34, 13.94, 12.07, 11.75, 11.67, 13.68, 20.47, 10.96, 20.55, 14.27, 11.69, 7.729, 7.691, 11.54, 14.47, 14.74, 13.21, 13.87, 13.62, 10.32, 10.26, 9.683, 10.82, 10.86, 11.13, 12.77, 9.333, 12.88, 10.29, 10.16, 9.423, 14.59, 11.51, 14.05, 11.2, 15.22, 20.92, 21.56, 20.13, 16.6, 20.6, 7.76], \"xaxis\": \"x\", \"xbins\": {\"end\": 28.11, \"size\": 5, \"start\": 6.981}, \"yaxis\": \"y\"}, {\"legendgroup\": \"radius_mean\", \"marker\": {\"color\": \"rgb(31, 119, 180)\"}, \"mode\": \"lines\", \"name\": \"radius_mean\", \"showlegend\": false, \"type\": \"scatter\", \"x\": [6.981, 7.023258, 7.065516, 7.107774, 7.1500319999999995, 7.19229, 7.234548, 7.276806, 7.319064, 7.3613219999999995, 7.40358, 7.445838, 7.488096, 7.530354, 7.5726119999999995, 7.61487, 7.657128, 7.699386, 7.741644, 7.783901999999999, 7.82616, 7.868418, 7.910676, 7.952934, 7.995191999999999, 8.03745, 8.079708, 8.121966, 8.164223999999999, 8.206482, 8.24874, 8.290998, 8.333256, 8.375513999999999, 8.417772, 8.46003, 8.502288, 8.544546, 8.586803999999999, 8.629062, 8.67132, 8.713578, 8.755836, 8.798093999999999, 8.840352, 8.88261, 8.924868, 8.967126, 9.009384, 9.051642, 9.0939, 9.136158, 9.178415999999999, 9.220673999999999, 9.262932, 9.30519, 9.347448, 9.389706, 9.431964, 9.474222, 9.51648, 9.558738, 9.600995999999999, 9.643253999999999, 9.685512, 9.72777, 9.770028, 9.812286, 9.854544, 9.896802, 9.93906, 9.981318, 10.023575999999998, 10.065833999999999, 10.108092, 10.15035, 10.192608, 10.234866, 10.277124, 10.319382, 10.36164, 10.403898, 10.446155999999998, 10.488413999999999, 10.530672, 10.57293, 10.615188, 10.657446, 10.699704, 10.741962, 10.78422, 10.826478, 10.868735999999998, 10.910993999999999, 10.953251999999999, 10.99551, 11.037768, 11.080026, 11.122284, 11.164541999999999, 11.2068, 11.249058, 11.291315999999998, 11.333573999999999, 11.375831999999999, 11.41809, 11.460348, 11.502606, 11.544864, 11.587121999999999, 11.62938, 11.671638, 11.713895999999998, 11.756153999999999, 11.798411999999999, 11.84067, 11.882928, 11.925186, 11.967444, 12.009701999999999, 12.05196, 12.094218, 12.136475999999998, 12.178733999999999, 12.220991999999999, 12.26325, 12.305508, 12.347766, 12.390024, 12.432281999999999, 12.47454, 12.516798, 12.559055999999998, 12.601313999999999, 12.643571999999999, 12.68583, 12.728088, 12.770346, 12.812604, 12.854861999999999, 12.89712, 12.939378, 12.981635999999998, 13.023893999999999, 13.066151999999999, 13.10841, 13.150668, 13.192926, 13.235184, 13.277441999999999, 13.3197, 13.361958, 13.404215999999998, 13.446473999999998, 13.488731999999999, 13.53099, 13.573248, 13.615506, 13.657764, 13.700021999999999, 13.742279999999997, 13.784538, 13.826795999999998, 13.869053999999998, 13.911311999999999, 13.95357, 13.995828, 14.038086, 14.080344, 14.122601999999999, 14.16486, 14.207118, 14.249375999999998, 14.291633999999998, 14.333891999999999, 14.376149999999999, 14.418408, 14.460666, 14.502924, 14.545181999999999, 14.587439999999999, 14.629698, 14.671955999999998, 14.714213999999998, 14.756471999999999, 14.798729999999999, 14.840988, 14.883246, 14.925504, 14.967761999999999, 15.010019999999999, 15.052278, 15.094536, 15.136793999999998, 15.179052, 15.221309999999999, 15.263568, 15.305826, 15.348083999999998, 15.390341999999999, 15.432599999999999, 15.474857999999998, 15.517116, 15.559374, 15.601631999999999, 15.643889999999999, 15.686148, 15.728406, 15.770663999999998, 15.812921999999999, 15.855179999999999, 15.897437999999998, 15.939696, 15.981954, 16.024212, 16.06647, 16.108728, 16.150986, 16.193244, 16.235501999999997, 16.27776, 16.320017999999997, 16.362276, 16.404533999999998, 16.446792, 16.48905, 16.531308, 16.573566, 16.615823999999996, 16.658082, 16.700339999999997, 16.742597999999997, 16.784855999999998, 16.827114, 16.869372, 16.91163, 16.953888, 16.996146, 17.038404, 17.080661999999997, 17.12292, 17.165177999999997, 17.207436, 17.249693999999998, 17.291952, 17.33421, 17.376468, 17.418726, 17.460983999999996, 17.503242, 17.545499999999997, 17.587757999999997, 17.630015999999998, 17.672274, 17.714532, 17.75679, 17.799048, 17.841305999999996, 17.883564, 17.925821999999997, 17.96808, 18.010337999999997, 18.052596, 18.094853999999998, 18.137112, 18.17937, 18.221628, 18.263886, 18.306143999999996, 18.348402, 18.390659999999997, 18.432918, 18.475175999999998, 18.517434, 18.559692, 18.60195, 18.644208, 18.686465999999996, 18.728724, 18.770981999999997, 18.81324, 18.855497999999997, 18.897756, 18.940013999999998, 18.982272, 19.02453, 19.066788, 19.109046, 19.151303999999996, 19.193562, 19.235819999999997, 19.278078, 19.320335999999998, 19.362594, 19.404851999999998, 19.44711, 19.489368, 19.531625999999996, 19.573884, 19.616141999999996, 19.6584, 19.700657999999997, 19.742916, 19.785173999999998, 19.827431999999998, 19.86969, 19.911948, 19.954206, 19.996463999999996, 20.038722, 20.080979999999997, 20.123238, 20.165495999999997, 20.207754, 20.250011999999998, 20.29227, 20.334528, 20.376785999999996, 20.419044, 20.461301999999996, 20.503559999999997, 20.545817999999997, 20.588076, 20.630333999999998, 20.672591999999998, 20.71485, 20.757108, 20.799366, 20.841623999999996, 20.883882, 20.926139999999997, 20.968398, 21.010655999999997, 21.052914, 21.095171999999998, 21.13743, 21.179688, 21.221945999999996, 21.264204, 21.306461999999996, 21.34872, 21.390977999999997, 21.433236, 21.475493999999998, 21.517751999999998, 21.56001, 21.602268, 21.644526, 21.686783999999996, 21.729042, 21.771299999999997, 21.813558, 21.855815999999997, 21.898074, 21.940331999999998, 21.98259, 22.024848, 22.067105999999995, 22.109364, 22.151621999999996, 22.19388, 22.236137999999997, 22.278396, 22.320653999999998, 22.362911999999998, 22.40517, 22.447428, 22.489686, 22.531943999999996, 22.574202, 22.616459999999996, 22.658718, 22.700975999999997, 22.743234, 22.785491999999998, 22.827749999999998, 22.870008, 22.912265999999995, 22.954524, 22.996781999999996, 23.03904, 23.081297999999997, 23.123556, 23.165813999999997, 23.208072, 23.250329999999998, 23.292587999999995, 23.334846, 23.377104000000003, 23.419362, 23.461619999999996, 23.503878, 23.546135999999997, 23.588393999999994, 23.630651999999998, 23.67291, 23.715168, 23.757426000000002, 23.799684, 23.841941999999996, 23.8842, 23.926457999999997, 23.968715999999993, 24.010973999999997, 24.053232, 24.095489999999998, 24.137748000000002, 24.180006, 24.222263999999996, 24.264522, 24.306779999999996, 24.349038, 24.391295999999997, 24.433553999999994, 24.475811999999998, 24.51807, 24.560328, 24.602586000000002, 24.644844, 24.687101999999996, 24.72936, 24.771617999999997, 24.813875999999993, 24.856133999999997, 24.898392, 24.940649999999998, 24.982908000000002, 25.025166, 25.067423999999995, 25.109682, 25.151939999999996, 25.194198, 25.236455999999997, 25.278713999999994, 25.320971999999998, 25.36323, 25.405488, 25.447746000000002, 25.490004, 25.532261999999996, 25.57452, 25.616777999999996, 25.659035999999993, 25.701293999999997, 25.743552, 25.785809999999998, 25.828068000000002, 25.870326, 25.912583999999995, 25.954842, 25.997099999999996, 26.039357999999993, 26.081615999999997, 26.123874, 26.166131999999998, 26.20839, 26.250647999999998, 26.292906000000002, 26.335164, 26.377421999999996, 26.41968, 26.461937999999996, 26.504195999999993, 26.546453999999997, 26.588712, 26.630969999999998, 26.673228, 26.715486, 26.757743999999995, 26.800002, 26.842259999999996, 26.884517999999993, 26.926775999999997, 26.969034, 27.011291999999997, 27.05355, 27.095807999999998, 27.138066000000002, 27.180324, 27.222581999999996, 27.26484, 27.307097999999996, 27.349355999999993, 27.391613999999997, 27.433872, 27.476129999999998, 27.518388, 27.560646, 27.602903999999995, 27.645162, 27.687419999999996, 27.729677999999993, 27.771935999999997, 27.814194, 27.856451999999997, 27.89871, 27.940967999999998, 27.983226000000002, 28.025484, 28.067741999999996], \"xaxis\": \"x\", \"y\": [0.005491049839253775, 0.005801661168261648, 0.006125845610172297, 0.006463969748922541, 0.0068163956610595, 0.007183479539079372, 0.0075655702462434846, 0.007963007810500198, 0.008376121866644286, 0.00880523005736194, 0.009250636405318808, 0.009712629669927406, 0.010191481703856134, 0.01068744582568783, 0.011200755226377033, 0.011731621428264775, 0.012280232816358963, 0.012846753262353405, 0.01343132086240973, 0.014034046810039181, 0.014655014425472276, 0.015294278362668287, 0.0159518640145753, 0.016627767136386012, 0.01732195370533038, 0.01803436003399268, 0.018764893152230382, 0.01951343147050462, 0.02027982573480832, 0.02106390028040784, 0.021865454588312072, 0.022684265144769882, 0.023520087600197404, 0.02437265921979056, 0.025241701613718637, 0.02612692373027349, 0.027028025090720487, 0.027944699239915452, 0.02887663738208842, 0.02982353216661784, 0.030785081584200638, 0.03176099292964687, 0.032750986783669826, 0.03375480096258608, 0.03477219438186696, 0.03580295077707378, 0.03684688222393982, 0.0379038323983032, 0.038973679516316785, 0.0400563388959148, 0.04115176508195326, 0.04225995347979743, 0.04338094144542643, 0.04451480878437108, 0.04566167761699216, 0.04682171157371648, 0.04799511429083552, 0.04918212718528479, 0.0503830264953763, 0.05159811958366625, 0.052827740507893246, 0.05407224487609156, 0.055332004012434224, 0.05660739847093787, 0.05789881094470231, 0.05920661862869864, 0.06053118510408026, 0.06187285182140015, 0.06323192926879766, 0.06460868791900387, 0.06600334905574042, 0.06741607558560465, 0.0688469629457165, 0.0702960302201214, 0.07176321157911454, 0.07324834815520383, 0.07475118046730847, 0.07627134150099012, 0.07780835054704369, 0.07936160789367211, 0.08093039045881234, 0.08251384843906627, 0.08411100304025008, 0.08572074534196333, 0.08734183633497762, 0.08897290815585396, 0.09061246652823261, 0.09225889440494221, 0.0939104567896763, 0.09556530670174314, 0.09722149223255382, 0.09887696462831425, 0.10052958732007221, 0.10217714581005642, 0.10381735831233498, 0.1054478870364006, 0.10706634999451341, 0.10867033320762298, 0.110257403180549, 0.11182511951488737, 0.11337104752784498, 0.11489277074689128, 0.11638790315370481, 0.11785410105630079, 0.1192890744753522, 0.12069059793941736, 0.12205652059388689, 0.12338477553978008, 0.12467338833083645, 0.12592048457043445, 0.12712429656348934, 0.12828316899239, 0.12939556359998378, 0.13046006287636136, 0.131475372759507, 0.1324403243725298, 0.13335387483198075, 0.13421510717250634, 0.13502322944263037, 0.13577757303466084, 0.13647759031848833, 0.1371228516543012, 0.1377130418629557, 0.13824795623489466, 0.13872749615913008, 0.13915166445295057, 0.13952056047075986, 0.13983437506691015, 0.1400933854826903, 0.1402979502219204, 0.1404485039730483, 0.1405455526284291, 0.14058966844377274, 0.14058148537276477, 0.14052169460378477, 0.1404110403176574, 0.14025031567764126, 0.1400403590555646, 0.13978205049129225, 0.13947630837669506, 0.13912408635009654, 0.13872637038287555, 0.13828417603657703, 0.13779854586655793, 0.1372705469468855, 0.13670126849089592, 0.13609181954248004, 0.13544332671472217, 0.13475693195490285, 0.13403379031798598, 0.13327506773442646, 0.13248193876233388, 0.131655584318567, 0.1307971893880748, 0.1299079407155929, 0.12898902448850516, 0.12804162402414984, 0.12706691747895396, 0.1260660756003984, 0.12504025954584025, 0.1239906187945594, 0.12291828918098008, 0.12182439107778877, 0.12071002775760097, 0.11957628396091097, 0.11842422469629388, 0.11725489429626537, 0.11606931574888348, 0.11486849032117405, 0.11365339748587154, 0.11242499515788562, 0.1111842202414533, 0.10993198948323972, 0.10866920062083896, 0.10739673381033442, 0.1061154533109387, 0.10482620939937923, 0.103529840481746, 0.10222717536609147, 0.10091903565526887, 0.09960623821639895, 0.09828959768104532, 0.09696992892869769, 0.09564804950555386, 0.09432478193086753, 0.09300095584428135, 0.09167740994957717, 0.09035499371310228, 0.08903456877871253, 0.08771701006534188, 0.0864032065181701, 0.08509406148972695, 0.08379049273302712, 0.08249343199487141, 0.08120382420365747, 0.07992262625230545, 0.07865080538309867, 0.0773893371872744, 0.07613920323795308, 0.07490138838038636, 0.07367687770844887, 0.07246665326071874, 0.07127169047333373, 0.07009295443002996, 0.06893139595232535, 0.06778794757469703, 0.06666351945080166, 0.06555899523731495, 0.06447522800183739, 0.06341303620055634, 0.06237319977000914, 0.06135645637539907, 0.060363497855535735, 0.059394966901650824, 0.0584514540041426, 0.057533494697792585, 0.05664156713222664, 0.05577608999043192, 0.05493742077403897, 0.05412585446989858, 0.05334162260826881, 0.05258489271873534, 0.05185576818585187, 0.05115428850245874, 0.050480429914729785, 0.04983410644927091, 0.049215171309038845, 0.04862341862151857, 0.04805858551949309, 0.047520354531880846, 0.04700835625952056, 0.046522172308457205, 0.046061338451243106, 0.045625347985013436, 0.04521365525364776, 0.04482567930018037, 0.044460807614792305, 0.04411839994320194, 0.04379779212008065, 0.043498299892254524, 0.043219222696918046, 0.04295984736087782, 0.04271945168796428, 0.04249730790319489, 0.04229268592403008, 0.042104856431130946, 0.04193309371338531, 0.04177667826460301, 0.041634899112167424, 0.04150705586104654, 0.04139246043988018, 0.04129043853933896, 0.04120033073656012, 0.04112149330316006, 0.04105329869806712, 0.04099513575016016, 0.04094640953939651, 0.040906540988715885, 0.040874966182471696, 0.040851135430417615, 0.04083451209932361, 0.04082457123706842, 0.040820798016516224, 0.04082268602860048, 0.040829735455776756, 0.04084145115834573, 0.040857340707069624, 0.04087691239599656, 0.040899673269465794, 0.04092512719689017, 0.040952773028112656, 0.040982102860922465, 0.041012600450717134, 0.04104373979033386, 0.041074983885779806, 0.04110578375100259, 0.04113557764199766, 0.04116379054749298, 0.04118983395022644, 0.04121310586948445, 0.041232991192147184, 0.041248862296031245, 0.041260079965880374, 0.041265994598968174, 0.04126594769398596, 0.04125927361372678, 0.04124530160907767, 0.04122335808902322, 0.0411927691187686, 0.04115286312572921, 0.041102973791022096, 0.04104244310224223, 0.040970624541722685, 0.04088688638316411, 0.04079061506847833, 0.040681218635918205, 0.04055813017006044, 0.040420811243959236, 0.040268755323792205, 0.040101491106565836, 0.03991858576192434, 0.03971964804980845, 0.03950433128662162, 0.03927233613367996, 0.039023413183028065, 0.03875736531719654, 0.03847404982113915, 0.038173380226414345, 0.037855327869654024, 0.03751992314948056, 0.03716725646828051, 0.03679747884760526, 0.03641080220843443, 0.03600749931008329, 0.03558790334415608, 0.035152407182607016, 0.03470146228166641, 0.03423557724608284, 0.033755316060809795, 0.03326129599989604, 0.032754185224897564, 0.03223470008759212, 0.03170360215410923, 0.03116169496977663, 0.030609820585987303, 0.030048855872201012, 0.029479708637777116, 0.028903313589682098, 0.028320628153204026, 0.02773262818363141, 0.027140303597404568, 0.026544653951518914, 0.025946683999965716, 0.025347399255720573, 0.024747801586270442, 0.024148884869896164, 0.023551630738939695, 0.02295700443508379, 0.0223659508003027, 0.021779390425614695, 0.021198215978114388, 0.020623288725022903, 0.020055435271672344, 0.019495444528492462, 0.018944064920191888, 0.018402001848467932, 0.01786991541773948, 0.017348418431611688, 0.01683807466604738, 0.01633939742355655, 0.01585284837112892, 0.015378836663117464, 0.014917718348847671, 0.01446979606335665, 0.014035318998367696, 0.01361448314935381, 0.013207431833347003, 0.012814256470977656, 0.012434997625085908, 0.012069646287116693, 0.011718145401381334, 0.011380391616143959, 0.011056237249355103, 0.010745492455718542, 0.010447927580631183, 0.010163275685399946, 0.00989123522700869, 0.009631472874608525, 0.009383626443845765, 0.009147307929143764, 0.008922106613142066, 0.008707592231688892, 0.008503318172109083, 0.008308824681948226, 0.008123642065056953, 0.007947293841739445, 0.007779299849777192, 0.0076191792634618845, 0.007466453508347881, 0.007320649050271426, 0.007181300038284273, 0.007047950782513262, 0.006920158049573909, 0.006797493160027168, 0.006679543874449021, 0.006565916056964677, 0.006456235107548355, 0.006350147156976565, 0.006247320021006662, 0.0061474439130956285, 0.006050231917732302, 0.005955420229186658, 0.005862768163138224, 0.005772057951188626, 0.005683094330650144, 0.005595703944192762, 0.005509734565891734, 0.005425054171915046, 0.005341549875498857, 0.005259126746956862, 0.005177706540243857, 0.005097226348032844, 0.005017637207367334, 0.004938902677719455, 0.004860997412728337, 0.004783905746027714, 0.004707620310417005, 0.0046321407082114815, 0.004557472248952673, 0.004483624768804817, 0.004410611543940411, 0.004338448308066404, 0.004267152382001588, 0.004196741920923308, 0.004127235282598661, 0.004058650517638361, 0.003991004980598446, 0.003924315058639619, 0.0038585960124682826, 0.0037938619224555164, 0.0037301257311862387, 0.0036673993722505125, 0.0036056939738710785, 0.0035450201249782104, 0.0034853881906036326, 0.003426808662975395, 0.0033692925344553266, 0.003312851678467517, 0.003257499224813287, 0.0032032499162458145, 0.0031501204338719724, 0.0030981296798448183, 0.0030472990068887745, 0.0029976523854393466, 0.0029492165005594586, 0.00290202077228896, 0.002856097294668976, 0.002811480690332077, 0.0027682078792360945, 0.0027263177618172397, 0.0026858508185217374, 0.002646848629317101, 0.0026093533183608815, 0.002573406930492437, 0.0025390507475888473, 0.002506324554070214, 0.00247526586193322, 0.0024459091066187442, 0.002418284825765698, 0.002392418833458576, 0.002368331402931168, 0.0023460364708388724, 0.002325540876154697, 0.0023068436464794852, 0.0022899353440897206, 0.002274797483383084, 0.002261402030532596, 0.0022497109951375473, 0.0022396761224792805, 0.002231238693669579, 0.002224329439539869, 0.0022188685725821225, 0.00221476593964127, 0.0022119212963988056, 0.002210224703003695, 0.0022095570385256436, 0.0022097906302531974, 0.0022107899922603424, 0.0022124126661446945, 0.0022145101554211493, 0.0022169289437582364, 0.0022195115860897214, 0.0022220978606378857, 0.0022245259690615742, 0.00222663377130261, 0.002228260041256613, 0.0022292457291434717, 0.0022294352164002724, 0.002228677549063788, 0.0022268276359458327, 0.002223747398425109, 0.0022193068593729572, 0.0022133851595844286, 0.002205871491084869, 0.0021966659378080985, 0.0021856802153763424, 0.0021728383030337798, 0.00215807696217385, 0.0021413461373333918, 0.002122609236982789, 0.002101843292898731, 0.0020790389983444094, 0.0020542006266810547, 0.0020273458333758664, 0.0019985053456379742, 0.001967722545090496, 0.001935052949959946, 0.001900563604222715, 0.0018643323819835717, 0.001826447216065393], \"yaxis\": \"y\"}, {\"legendgroup\": \"radius_mean\", \"marker\": {\"color\": \"rgb(31, 119, 180)\", \"symbol\": \"line-ns-open\"}, \"mode\": \"markers\", \"name\": \"radius_mean\", \"showlegend\": false, \"type\": \"scatter\", \"x\": [17.99, 20.57, 19.69, 11.42, 20.29, 12.45, 18.25, 13.71, 13.0, 12.46, 16.02, 15.78, 19.17, 15.85, 13.73, 14.54, 14.68, 16.13, 19.81, 13.54, 13.08, 9.504, 15.34, 21.16, 16.65, 17.14, 14.58, 18.61, 15.3, 17.57, 18.63, 11.84, 17.02, 19.27, 16.13, 16.74, 14.25, 13.03, 14.99, 13.48, 13.44, 10.95, 19.07, 13.28, 13.17, 18.65, 8.196, 13.17, 12.05, 13.49, 11.76, 13.64, 11.94, 18.22, 15.1, 11.52, 19.21, 14.71, 13.05, 8.618, 10.17, 8.597999999999999, 14.25, 9.173, 12.68, 14.78, 9.465, 11.31, 9.029, 12.78, 18.94, 8.888, 17.2, 13.8, 12.31, 16.07, 13.53, 18.05, 20.18, 12.86, 11.45, 13.34, 25.22, 19.1, 12.0, 18.46, 14.48, 19.02, 12.36, 14.64, 14.62, 15.37, 13.27, 13.45, 15.06, 20.26, 12.18, 9.787, 11.6, 14.42, 13.61, 6.981, 12.18, 9.876, 10.49, 13.11, 11.64, 12.36, 22.27, 11.34, 9.777000000000001, 12.63, 14.26, 10.51, 8.726, 11.93, 8.95, 14.87, 15.78, 17.95, 11.41, 18.66, 24.25, 14.5, 13.37, 13.85, 13.61, 19.0, 15.1, 19.79, 12.19, 15.46, 16.16, 15.71, 18.45, 12.77, 11.71, 11.43, 14.95, 11.28, 9.738, 16.11, 11.43, 12.9, 10.75, 11.9, 11.8, 14.95, 14.44, 13.74, 13.0, 8.219, 9.731, 11.15, 13.15, 12.25, 17.68, 16.84, 12.06, 10.9, 11.75, 19.19, 19.59, 12.34, 23.27, 14.97, 10.8, 16.78, 17.47, 14.97, 12.32, 13.43, 15.46, 11.08, 10.66, 8.671, 9.904, 16.46, 13.01, 12.81, 27.22, 21.09, 15.7, 11.41, 15.28, 10.08, 18.31, 11.71, 11.81, 12.3, 14.22, 12.77, 9.72, 12.34, 14.86, 12.91, 13.77, 18.08, 19.18, 14.45, 12.23, 17.54, 23.29, 13.81, 12.47, 15.12, 9.876, 17.01, 13.11, 15.27, 20.58, 11.84, 28.11, 17.42, 14.19, 13.86, 11.89, 10.2, 19.8, 19.53, 13.65, 13.56, 10.18, 15.75, 13.27, 14.34, 10.44, 15.0, 12.62, 12.83, 17.05, 11.32, 11.22, 20.51, 9.567, 14.03, 23.21, 20.48, 14.22, 17.46, 13.64, 12.42, 11.3, 13.75, 19.4, 10.48, 13.2, 12.89, 10.65, 11.52, 20.94, 11.5, 19.73, 17.3, 19.45, 13.96, 19.55, 15.32, 15.66, 15.53, 20.31, 17.35, 17.29, 15.61, 17.19, 20.73, 10.6, 13.59, 12.87, 10.71, 14.29, 11.29, 21.75, 9.742, 17.93, 11.89, 11.33, 18.81, 13.59, 13.85, 19.16, 11.74, 19.4, 16.24, 12.89, 12.58, 11.94, 12.89, 11.26, 11.37, 14.41, 14.96, 12.95, 11.85, 12.72, 13.77, 10.91, 11.76, 14.26, 10.51, 19.53, 12.46, 20.09, 10.49, 11.46, 11.6, 13.2, 9.0, 13.5, 13.05, 11.7, 14.61, 12.76, 11.54, 8.597000000000001, 12.49, 12.18, 18.22, 9.042, 12.43, 10.25, 20.16, 12.86, 20.34, 12.2, 12.67, 14.11, 12.03, 16.27, 16.26, 16.03, 12.98, 11.22, 11.25, 12.3, 17.06, 12.99, 18.77, 10.05, 23.51, 14.42, 9.606, 11.06, 19.68, 11.71, 10.26, 12.06, 14.76, 11.47, 11.95, 11.66, 15.75, 25.73, 15.08, 11.14, 12.56, 13.05, 13.87, 8.878, 9.436, 12.54, 13.3, 12.76, 16.5, 13.4, 20.44, 20.2, 12.21, 21.71, 22.01, 16.35, 15.19, 21.37, 20.64, 13.69, 16.17, 10.57, 13.46, 13.66, 11.08, 11.27, 11.04, 12.05, 12.39, 13.28, 14.6, 12.21, 13.88, 11.27, 19.55, 10.26, 8.734, 15.49, 21.61, 12.1, 14.06, 13.51, 12.8, 11.06, 11.8, 17.91, 11.93, 12.96, 12.94, 12.34, 10.94, 16.14, 12.85, 17.99, 12.27, 11.36, 11.04, 9.397, 14.99, 15.13, 11.89, 9.405, 15.5, 12.7, 11.16, 11.57, 14.69, 11.61, 13.66, 9.742, 10.03, 10.48, 10.8, 11.13, 12.72, 14.9, 12.4, 20.18, 18.82, 14.86, 13.98, 12.87, 14.04, 13.85, 14.02, 10.97, 17.27, 13.78, 10.57, 18.03, 11.99, 17.75, 14.8, 14.53, 21.1, 11.87, 19.59, 12.0, 14.53, 12.62, 13.38, 11.63, 13.21, 13.0, 9.755, 17.08, 27.42, 14.4, 11.6, 13.17, 13.24, 13.14, 9.668, 17.6, 11.62, 9.667, 12.04, 14.92, 12.27, 10.88, 12.83, 14.2, 13.9, 11.49, 16.25, 12.16, 13.9, 13.47, 13.7, 15.73, 12.45, 14.64, 19.44, 11.68, 16.69, 12.25, 17.85, 18.01, 12.46, 13.16, 14.87, 12.65, 12.47, 18.49, 20.59, 15.04, 13.82, 12.54, 23.09, 9.267999999999999, 9.676, 12.22, 11.06, 16.3, 15.46, 11.74, 14.81, 13.4, 14.58, 15.05, 11.34, 18.31, 19.89, 12.88, 12.75, 9.295, 24.63, 11.26, 13.71, 9.847000000000001, 8.571, 13.46, 12.34, 13.94, 12.07, 11.75, 11.67, 13.68, 20.47, 10.96, 20.55, 14.27, 11.69, 7.729, 7.691, 11.54, 14.47, 14.74, 13.21, 13.87, 13.62, 10.32, 10.26, 9.683, 10.82, 10.86, 11.13, 12.77, 9.333, 12.88, 10.29, 10.16, 9.423, 14.59, 11.51, 14.05, 11.2, 15.22, 20.92, 21.56, 20.13, 16.6, 20.6, 7.76], \"xaxis\": \"x\", \"y\": [\"radius_mean\", \"radius_mean\", \"radius_mean\", \"radius_mean\", \"radius_mean\", \"radius_mean\", \"radius_mean\", \"radius_mean\", \"radius_mean\", \"radius_mean\", \"radius_mean\", \"radius_mean\", \"radius_mean\", \"radius_mean\", \"radius_mean\", \"radius_mean\", \"radius_mean\", \"radius_mean\", \"radius_mean\", \"radius_mean\", \"radius_mean\", \"radius_mean\", \"radius_mean\", \"radius_mean\", \"radius_mean\", \"radius_mean\", \"radius_mean\", \"radius_mean\", \"radius_mean\", \"radius_mean\", \"radius_mean\", \"radius_mean\", \"radius_mean\", \"radius_mean\", \"radius_mean\", \"radius_mean\", \"radius_mean\", \"radius_mean\", \"radius_mean\", \"radius_mean\", \"radius_mean\", \"radius_mean\", \"radius_mean\", \"radius_mean\", \"radius_mean\", \"radius_mean\", \"radius_mean\", \"radius_mean\", \"radius_mean\", \"radius_mean\", \"radius_mean\", \"radius_mean\", \"radius_mean\", \"radius_mean\", \"radius_mean\", \"radius_mean\", \"radius_mean\", \"radius_mean\", \"radius_mean\", \"radius_mean\", \"radius_mean\", \"radius_mean\", \"radius_mean\", \"radius_mean\", \"radius_mean\", \"radius_mean\", \"radius_mean\", \"radius_mean\", \"radius_mean\", \"radius_mean\", \"radius_mean\", \"radius_mean\", \"radius_mean\", \"radius_mean\", \"radius_mean\", \"radius_mean\", \"radius_mean\", \"radius_mean\", \"radius_mean\", \"radius_mean\", \"radius_mean\", \"radius_mean\", \"radius_mean\", \"radius_mean\", \"radius_mean\", \"radius_mean\", \"radius_mean\", \"radius_mean\", \"radius_mean\", \"radius_mean\", \"radius_mean\", \"radius_mean\", \"radius_mean\", \"radius_mean\", \"radius_mean\", \"radius_mean\", \"radius_mean\", \"radius_mean\", \"radius_mean\", \"radius_mean\", \"radius_mean\", \"radius_mean\", \"radius_mean\", \"radius_mean\", \"radius_mean\", \"radius_mean\", \"radius_mean\", \"radius_mean\", \"radius_mean\", \"radius_mean\", \"radius_mean\", \"radius_mean\", \"radius_mean\", \"radius_mean\", \"radius_mean\", \"radius_mean\", \"radius_mean\", \"radius_mean\", \"radius_mean\", \"radius_mean\", \"radius_mean\", \"radius_mean\", \"radius_mean\", \"radius_mean\", \"radius_mean\", \"radius_mean\", \"radius_mean\", \"radius_mean\", \"radius_mean\", \"radius_mean\", \"radius_mean\", \"radius_mean\", \"radius_mean\", \"radius_mean\", \"radius_mean\", \"radius_mean\", \"radius_mean\", \"radius_mean\", \"radius_mean\", \"radius_mean\", \"radius_mean\", \"radius_mean\", \"radius_mean\", \"radius_mean\", \"radius_mean\", \"radius_mean\", \"radius_mean\", \"radius_mean\", \"radius_mean\", \"radius_mean\", \"radius_mean\", \"radius_mean\", \"radius_mean\", \"radius_mean\", \"radius_mean\", \"radius_mean\", \"radius_mean\", \"radius_mean\", \"radius_mean\", \"radius_mean\", \"radius_mean\", \"radius_mean\", \"radius_mean\", \"radius_mean\", \"radius_mean\", \"radius_mean\", \"radius_mean\", \"radius_mean\", \"radius_mean\", \"radius_mean\", \"radius_mean\", \"radius_mean\", \"radius_mean\", \"radius_mean\", \"radius_mean\", \"radius_mean\", \"radius_mean\", \"radius_mean\", \"radius_mean\", \"radius_mean\", \"radius_mean\", \"radius_mean\", \"radius_mean\", \"radius_mean\", \"radius_mean\", \"radius_mean\", \"radius_mean\", \"radius_mean\", \"radius_mean\", \"radius_mean\", \"radius_mean\", \"radius_mean\", \"radius_mean\", \"radius_mean\", \"radius_mean\", \"radius_mean\", \"radius_mean\", \"radius_mean\", \"radius_mean\", \"radius_mean\", \"radius_mean\", \"radius_mean\", \"radius_mean\", \"radius_mean\", \"radius_mean\", \"radius_mean\", \"radius_mean\", \"radius_mean\", \"radius_mean\", \"radius_mean\", \"radius_mean\", \"radius_mean\", \"radius_mean\", \"radius_mean\", \"radius_mean\", \"radius_mean\", \"radius_mean\", \"radius_mean\", \"radius_mean\", \"radius_mean\", \"radius_mean\", \"radius_mean\", \"radius_mean\", \"radius_mean\", \"radius_mean\", \"radius_mean\", \"radius_mean\", \"radius_mean\", \"radius_mean\", \"radius_mean\", \"radius_mean\", \"radius_mean\", \"radius_mean\", \"radius_mean\", \"radius_mean\", \"radius_mean\", \"radius_mean\", \"radius_mean\", \"radius_mean\", \"radius_mean\", \"radius_mean\", \"radius_mean\", \"radius_mean\", \"radius_mean\", \"radius_mean\", \"radius_mean\", \"radius_mean\", \"radius_mean\", \"radius_mean\", \"radius_mean\", \"radius_mean\", \"radius_mean\", \"radius_mean\", \"radius_mean\", \"radius_mean\", \"radius_mean\", \"radius_mean\", \"radius_mean\", \"radius_mean\", \"radius_mean\", \"radius_mean\", \"radius_mean\", \"radius_mean\", \"radius_mean\", \"radius_mean\", \"radius_mean\", \"radius_mean\", \"radius_mean\", \"radius_mean\", \"radius_mean\", \"radius_mean\", \"radius_mean\", \"radius_mean\", \"radius_mean\", \"radius_mean\", \"radius_mean\", \"radius_mean\", \"radius_mean\", \"radius_mean\", \"radius_mean\", \"radius_mean\", \"radius_mean\", \"radius_mean\", \"radius_mean\", \"radius_mean\", \"radius_mean\", \"radius_mean\", \"radius_mean\", \"radius_mean\", \"radius_mean\", \"radius_mean\", \"radius_mean\", \"radius_mean\", \"radius_mean\", \"radius_mean\", \"radius_mean\", \"radius_mean\", \"radius_mean\", \"radius_mean\", \"radius_mean\", \"radius_mean\", \"radius_mean\", \"radius_mean\", \"radius_mean\", \"radius_mean\", \"radius_mean\", \"radius_mean\", \"radius_mean\", \"radius_mean\", \"radius_mean\", \"radius_mean\", \"radius_mean\", \"radius_mean\", \"radius_mean\", \"radius_mean\", \"radius_mean\", \"radius_mean\", \"radius_mean\", \"radius_mean\", \"radius_mean\", \"radius_mean\", \"radius_mean\", \"radius_mean\", \"radius_mean\", \"radius_mean\", \"radius_mean\", \"radius_mean\", \"radius_mean\", \"radius_mean\", \"radius_mean\", \"radius_mean\", \"radius_mean\", \"radius_mean\", \"radius_mean\", \"radius_mean\", \"radius_mean\", \"radius_mean\", \"radius_mean\", \"radius_mean\", \"radius_mean\", \"radius_mean\", \"radius_mean\", \"radius_mean\", \"radius_mean\", \"radius_mean\", \"radius_mean\", \"radius_mean\", \"radius_mean\", \"radius_mean\", \"radius_mean\", \"radius_mean\", \"radius_mean\", \"radius_mean\", \"radius_mean\", \"radius_mean\", \"radius_mean\", \"radius_mean\", \"radius_mean\", \"radius_mean\", \"radius_mean\", \"radius_mean\", \"radius_mean\", \"radius_mean\", \"radius_mean\", \"radius_mean\", \"radius_mean\", \"radius_mean\", \"radius_mean\", \"radius_mean\", \"radius_mean\", \"radius_mean\", \"radius_mean\", \"radius_mean\", \"radius_mean\", \"radius_mean\", \"radius_mean\", \"radius_mean\", \"radius_mean\", \"radius_mean\", \"radius_mean\", \"radius_mean\", \"radius_mean\", \"radius_mean\", \"radius_mean\", \"radius_mean\", \"radius_mean\", \"radius_mean\", \"radius_mean\", \"radius_mean\", \"radius_mean\", \"radius_mean\", \"radius_mean\", \"radius_mean\", \"radius_mean\", \"radius_mean\", \"radius_mean\", \"radius_mean\", \"radius_mean\", \"radius_mean\", \"radius_mean\", \"radius_mean\", \"radius_mean\", \"radius_mean\", \"radius_mean\", \"radius_mean\", \"radius_mean\", \"radius_mean\", \"radius_mean\", \"radius_mean\", \"radius_mean\", \"radius_mean\", \"radius_mean\", \"radius_mean\", \"radius_mean\", \"radius_mean\", \"radius_mean\", \"radius_mean\", \"radius_mean\", \"radius_mean\", \"radius_mean\", \"radius_mean\", \"radius_mean\", \"radius_mean\", \"radius_mean\", \"radius_mean\", \"radius_mean\", \"radius_mean\", \"radius_mean\", \"radius_mean\", \"radius_mean\", \"radius_mean\", \"radius_mean\", \"radius_mean\", \"radius_mean\", \"radius_mean\", \"radius_mean\", \"radius_mean\", \"radius_mean\", \"radius_mean\", \"radius_mean\", \"radius_mean\", \"radius_mean\", \"radius_mean\", \"radius_mean\", \"radius_mean\", \"radius_mean\", \"radius_mean\", \"radius_mean\", \"radius_mean\", \"radius_mean\", \"radius_mean\", \"radius_mean\", \"radius_mean\", \"radius_mean\", \"radius_mean\", \"radius_mean\", \"radius_mean\", \"radius_mean\", \"radius_mean\", \"radius_mean\", \"radius_mean\", \"radius_mean\", \"radius_mean\", \"radius_mean\", \"radius_mean\", \"radius_mean\", \"radius_mean\", \"radius_mean\", \"radius_mean\", \"radius_mean\", \"radius_mean\", \"radius_mean\", \"radius_mean\", \"radius_mean\", \"radius_mean\", \"radius_mean\", \"radius_mean\", \"radius_mean\", \"radius_mean\", \"radius_mean\", \"radius_mean\", \"radius_mean\", \"radius_mean\", \"radius_mean\", \"radius_mean\", \"radius_mean\", \"radius_mean\", \"radius_mean\", \"radius_mean\", \"radius_mean\", \"radius_mean\", \"radius_mean\", \"radius_mean\", \"radius_mean\", \"radius_mean\", \"radius_mean\", \"radius_mean\", \"radius_mean\", \"radius_mean\", \"radius_mean\", \"radius_mean\", \"radius_mean\", \"radius_mean\", \"radius_mean\", \"radius_mean\", \"radius_mean\", \"radius_mean\", \"radius_mean\", \"radius_mean\", \"radius_mean\", \"radius_mean\", \"radius_mean\", \"radius_mean\", \"radius_mean\", \"radius_mean\", \"radius_mean\", \"radius_mean\", \"radius_mean\", \"radius_mean\", \"radius_mean\", \"radius_mean\", \"radius_mean\", \"radius_mean\", \"radius_mean\", \"radius_mean\", \"radius_mean\", \"radius_mean\", \"radius_mean\", \"radius_mean\", \"radius_mean\", \"radius_mean\", \"radius_mean\", \"radius_mean\", \"radius_mean\", \"radius_mean\", \"radius_mean\", \"radius_mean\", \"radius_mean\", \"radius_mean\", \"radius_mean\", \"radius_mean\", \"radius_mean\", \"radius_mean\", \"radius_mean\", \"radius_mean\", \"radius_mean\", \"radius_mean\", \"radius_mean\", \"radius_mean\", \"radius_mean\", \"radius_mean\", \"radius_mean\", \"radius_mean\", \"radius_mean\", \"radius_mean\", \"radius_mean\", \"radius_mean\", \"radius_mean\", \"radius_mean\", \"radius_mean\", \"radius_mean\", \"radius_mean\", \"radius_mean\", \"radius_mean\", \"radius_mean\", \"radius_mean\", \"radius_mean\", \"radius_mean\", \"radius_mean\"], \"yaxis\": \"y2\"}],\n",
              "                        {\"barmode\": \"overlay\", \"hovermode\": \"closest\", \"legend\": {\"traceorder\": \"reversed\"}, \"template\": {\"data\": {\"bar\": [{\"error_x\": {\"color\": \"#2a3f5f\"}, \"error_y\": {\"color\": \"#2a3f5f\"}, \"marker\": {\"line\": {\"color\": \"#E5ECF6\", \"width\": 0.5}}, \"type\": \"bar\"}], \"barpolar\": [{\"marker\": {\"line\": {\"color\": \"#E5ECF6\", \"width\": 0.5}}, \"type\": \"barpolar\"}], \"carpet\": [{\"aaxis\": {\"endlinecolor\": \"#2a3f5f\", \"gridcolor\": \"white\", \"linecolor\": \"white\", \"minorgridcolor\": \"white\", \"startlinecolor\": \"#2a3f5f\"}, \"baxis\": {\"endlinecolor\": \"#2a3f5f\", \"gridcolor\": \"white\", \"linecolor\": \"white\", \"minorgridcolor\": \"white\", \"startlinecolor\": \"#2a3f5f\"}, \"type\": \"carpet\"}], \"choropleth\": [{\"colorbar\": {\"outlinewidth\": 0, \"ticks\": \"\"}, \"type\": \"choropleth\"}], \"contour\": [{\"colorbar\": {\"outlinewidth\": 0, \"ticks\": \"\"}, \"colorscale\": [[0.0, \"#0d0887\"], [0.1111111111111111, \"#46039f\"], [0.2222222222222222, \"#7201a8\"], [0.3333333333333333, \"#9c179e\"], [0.4444444444444444, \"#bd3786\"], [0.5555555555555556, \"#d8576b\"], [0.6666666666666666, \"#ed7953\"], [0.7777777777777778, \"#fb9f3a\"], [0.8888888888888888, \"#fdca26\"], [1.0, \"#f0f921\"]], \"type\": \"contour\"}], \"contourcarpet\": [{\"colorbar\": {\"outlinewidth\": 0, \"ticks\": \"\"}, \"type\": \"contourcarpet\"}], \"heatmap\": [{\"colorbar\": {\"outlinewidth\": 0, \"ticks\": \"\"}, \"colorscale\": [[0.0, \"#0d0887\"], [0.1111111111111111, \"#46039f\"], [0.2222222222222222, \"#7201a8\"], [0.3333333333333333, \"#9c179e\"], [0.4444444444444444, \"#bd3786\"], [0.5555555555555556, \"#d8576b\"], [0.6666666666666666, \"#ed7953\"], [0.7777777777777778, \"#fb9f3a\"], [0.8888888888888888, \"#fdca26\"], [1.0, \"#f0f921\"]], \"type\": \"heatmap\"}], \"heatmapgl\": [{\"colorbar\": {\"outlinewidth\": 0, \"ticks\": \"\"}, \"colorscale\": [[0.0, \"#0d0887\"], [0.1111111111111111, \"#46039f\"], [0.2222222222222222, \"#7201a8\"], [0.3333333333333333, \"#9c179e\"], [0.4444444444444444, \"#bd3786\"], [0.5555555555555556, \"#d8576b\"], [0.6666666666666666, \"#ed7953\"], [0.7777777777777778, \"#fb9f3a\"], [0.8888888888888888, \"#fdca26\"], [1.0, \"#f0f921\"]], \"type\": \"heatmapgl\"}], \"histogram\": [{\"marker\": {\"colorbar\": {\"outlinewidth\": 0, \"ticks\": \"\"}}, \"type\": \"histogram\"}], \"histogram2d\": [{\"colorbar\": {\"outlinewidth\": 0, \"ticks\": \"\"}, \"colorscale\": [[0.0, \"#0d0887\"], [0.1111111111111111, \"#46039f\"], [0.2222222222222222, \"#7201a8\"], [0.3333333333333333, \"#9c179e\"], [0.4444444444444444, \"#bd3786\"], [0.5555555555555556, \"#d8576b\"], [0.6666666666666666, \"#ed7953\"], [0.7777777777777778, \"#fb9f3a\"], [0.8888888888888888, \"#fdca26\"], [1.0, \"#f0f921\"]], \"type\": \"histogram2d\"}], \"histogram2dcontour\": [{\"colorbar\": {\"outlinewidth\": 0, \"ticks\": \"\"}, \"colorscale\": [[0.0, \"#0d0887\"], [0.1111111111111111, \"#46039f\"], [0.2222222222222222, \"#7201a8\"], [0.3333333333333333, \"#9c179e\"], [0.4444444444444444, \"#bd3786\"], [0.5555555555555556, \"#d8576b\"], [0.6666666666666666, \"#ed7953\"], [0.7777777777777778, \"#fb9f3a\"], [0.8888888888888888, \"#fdca26\"], [1.0, \"#f0f921\"]], \"type\": \"histogram2dcontour\"}], \"mesh3d\": [{\"colorbar\": {\"outlinewidth\": 0, \"ticks\": \"\"}, \"type\": \"mesh3d\"}], \"parcoords\": [{\"line\": {\"colorbar\": {\"outlinewidth\": 0, \"ticks\": \"\"}}, \"type\": \"parcoords\"}], \"pie\": [{\"automargin\": true, \"type\": \"pie\"}], \"scatter\": [{\"marker\": {\"colorbar\": {\"outlinewidth\": 0, \"ticks\": \"\"}}, \"type\": \"scatter\"}], \"scatter3d\": [{\"line\": {\"colorbar\": {\"outlinewidth\": 0, \"ticks\": \"\"}}, \"marker\": {\"colorbar\": {\"outlinewidth\": 0, \"ticks\": \"\"}}, \"type\": \"scatter3d\"}], \"scattercarpet\": [{\"marker\": {\"colorbar\": {\"outlinewidth\": 0, \"ticks\": \"\"}}, \"type\": \"scattercarpet\"}], \"scattergeo\": [{\"marker\": {\"colorbar\": {\"outlinewidth\": 0, \"ticks\": \"\"}}, \"type\": \"scattergeo\"}], \"scattergl\": [{\"marker\": {\"colorbar\": {\"outlinewidth\": 0, \"ticks\": \"\"}}, \"type\": \"scattergl\"}], \"scattermapbox\": [{\"marker\": {\"colorbar\": {\"outlinewidth\": 0, \"ticks\": \"\"}}, \"type\": \"scattermapbox\"}], \"scatterpolar\": [{\"marker\": {\"colorbar\": {\"outlinewidth\": 0, \"ticks\": \"\"}}, \"type\": \"scatterpolar\"}], \"scatterpolargl\": [{\"marker\": {\"colorbar\": {\"outlinewidth\": 0, \"ticks\": \"\"}}, \"type\": \"scatterpolargl\"}], \"scatterternary\": [{\"marker\": {\"colorbar\": {\"outlinewidth\": 0, \"ticks\": \"\"}}, \"type\": \"scatterternary\"}], \"surface\": [{\"colorbar\": {\"outlinewidth\": 0, \"ticks\": \"\"}, \"colorscale\": [[0.0, \"#0d0887\"], [0.1111111111111111, \"#46039f\"], [0.2222222222222222, \"#7201a8\"], [0.3333333333333333, \"#9c179e\"], [0.4444444444444444, \"#bd3786\"], [0.5555555555555556, \"#d8576b\"], [0.6666666666666666, \"#ed7953\"], [0.7777777777777778, \"#fb9f3a\"], [0.8888888888888888, \"#fdca26\"], [1.0, \"#f0f921\"]], \"type\": \"surface\"}], \"table\": [{\"cells\": {\"fill\": {\"color\": \"#EBF0F8\"}, \"line\": {\"color\": \"white\"}}, \"header\": {\"fill\": {\"color\": \"#C8D4E3\"}, \"line\": {\"color\": \"white\"}}, \"type\": \"table\"}]}, \"layout\": {\"annotationdefaults\": {\"arrowcolor\": \"#2a3f5f\", \"arrowhead\": 0, \"arrowwidth\": 1}, \"coloraxis\": {\"colorbar\": {\"outlinewidth\": 0, \"ticks\": \"\"}}, \"colorscale\": {\"diverging\": [[0, \"#8e0152\"], [0.1, \"#c51b7d\"], [0.2, \"#de77ae\"], [0.3, \"#f1b6da\"], [0.4, \"#fde0ef\"], [0.5, \"#f7f7f7\"], [0.6, \"#e6f5d0\"], [0.7, \"#b8e186\"], [0.8, \"#7fbc41\"], [0.9, \"#4d9221\"], [1, \"#276419\"]], \"sequential\": [[0.0, \"#0d0887\"], [0.1111111111111111, \"#46039f\"], [0.2222222222222222, \"#7201a8\"], [0.3333333333333333, \"#9c179e\"], [0.4444444444444444, \"#bd3786\"], [0.5555555555555556, \"#d8576b\"], [0.6666666666666666, \"#ed7953\"], [0.7777777777777778, \"#fb9f3a\"], [0.8888888888888888, \"#fdca26\"], [1.0, \"#f0f921\"]], \"sequentialminus\": [[0.0, \"#0d0887\"], [0.1111111111111111, \"#46039f\"], [0.2222222222222222, \"#7201a8\"], [0.3333333333333333, \"#9c179e\"], [0.4444444444444444, \"#bd3786\"], [0.5555555555555556, \"#d8576b\"], [0.6666666666666666, \"#ed7953\"], [0.7777777777777778, \"#fb9f3a\"], [0.8888888888888888, \"#fdca26\"], [1.0, \"#f0f921\"]]}, \"colorway\": [\"#636efa\", \"#EF553B\", \"#00cc96\", \"#ab63fa\", \"#FFA15A\", \"#19d3f3\", \"#FF6692\", \"#B6E880\", \"#FF97FF\", \"#FECB52\"], \"font\": {\"color\": \"#2a3f5f\"}, \"geo\": {\"bgcolor\": \"white\", \"lakecolor\": \"white\", \"landcolor\": \"#E5ECF6\", \"showlakes\": true, \"showland\": true, \"subunitcolor\": \"white\"}, \"hoverlabel\": {\"align\": \"left\"}, \"hovermode\": \"closest\", \"mapbox\": {\"style\": \"light\"}, \"paper_bgcolor\": \"white\", \"plot_bgcolor\": \"#E5ECF6\", \"polar\": {\"angularaxis\": {\"gridcolor\": \"white\", \"linecolor\": \"white\", \"ticks\": \"\"}, \"bgcolor\": \"#E5ECF6\", \"radialaxis\": {\"gridcolor\": \"white\", \"linecolor\": \"white\", \"ticks\": \"\"}}, \"scene\": {\"xaxis\": {\"backgroundcolor\": \"#E5ECF6\", \"gridcolor\": \"white\", \"gridwidth\": 2, \"linecolor\": \"white\", \"showbackground\": true, \"ticks\": \"\", \"zerolinecolor\": \"white\"}, \"yaxis\": {\"backgroundcolor\": \"#E5ECF6\", \"gridcolor\": \"white\", \"gridwidth\": 2, \"linecolor\": \"white\", \"showbackground\": true, \"ticks\": \"\", \"zerolinecolor\": \"white\"}, \"zaxis\": {\"backgroundcolor\": \"#E5ECF6\", \"gridcolor\": \"white\", \"gridwidth\": 2, \"linecolor\": \"white\", \"showbackground\": true, \"ticks\": \"\", \"zerolinecolor\": \"white\"}}, \"shapedefaults\": {\"line\": {\"color\": \"#2a3f5f\"}}, \"ternary\": {\"aaxis\": {\"gridcolor\": \"white\", \"linecolor\": \"white\", \"ticks\": \"\"}, \"baxis\": {\"gridcolor\": \"white\", \"linecolor\": \"white\", \"ticks\": \"\"}, \"bgcolor\": \"#E5ECF6\", \"caxis\": {\"gridcolor\": \"white\", \"linecolor\": \"white\", \"ticks\": \"\"}}, \"title\": {\"x\": 0.05}, \"xaxis\": {\"automargin\": true, \"gridcolor\": \"white\", \"linecolor\": \"white\", \"ticks\": \"\", \"title\": {\"standoff\": 15}, \"zerolinecolor\": \"white\", \"zerolinewidth\": 2}, \"yaxis\": {\"automargin\": true, \"gridcolor\": \"white\", \"linecolor\": \"white\", \"ticks\": \"\", \"title\": {\"standoff\": 15}, \"zerolinecolor\": \"white\", \"zerolinewidth\": 2}}}, \"xaxis\": {\"anchor\": \"y2\", \"domain\": [0.0, 1.0], \"zeroline\": false}, \"yaxis\": {\"anchor\": \"free\", \"domain\": [0.35, 1], \"position\": 0.0}, \"yaxis2\": {\"anchor\": \"x\", \"domain\": [0, 0.25], \"dtick\": 1, \"showticklabels\": false}},\n",
              "                        {\"responsive\": true}\n",
              "                    ).then(function(){\n",
              "                            \n",
              "var gd = document.getElementById('122dec90-8b95-4768-a941-009565235bd8');\n",
              "var x = new MutationObserver(function (mutations, observer) {{\n",
              "        var display = window.getComputedStyle(gd).display;\n",
              "        if (!display || display === 'none') {{\n",
              "            console.log([gd, 'removed!']);\n",
              "            Plotly.purge(gd);\n",
              "            observer.disconnect();\n",
              "        }}\n",
              "}});\n",
              "\n",
              "// Listen for the removal of the full notebook cells\n",
              "var notebookContainer = gd.closest('#notebook-container');\n",
              "if (notebookContainer) {{\n",
              "    x.observe(notebookContainer, {childList: true});\n",
              "}}\n",
              "\n",
              "// Listen for the clearing of the current output cell\n",
              "var outputEl = gd.closest('.output');\n",
              "if (outputEl) {{\n",
              "    x.observe(outputEl, {childList: true});\n",
              "}}\n",
              "\n",
              "                        })\n",
              "                };\n",
              "                \n",
              "            </script>\n",
              "        </div>\n",
              "</body>\n",
              "</html>"
            ]
          },
          "metadata": {
            "tags": []
          }
        }
      ]
    },
    {
      "cell_type": "markdown",
      "metadata": {
        "id": "ackUA4Mrf5qv",
        "colab_type": "text"
      },
      "source": [
        "#### Distplot of area_mean"
      ]
    },
    {
      "cell_type": "code",
      "metadata": {
        "id": "Yc0Ak8DLcDFv",
        "colab_type": "code",
        "colab": {
          "base_uri": "https://localhost:8080/",
          "height": 542
        },
        "outputId": "a46c88a2-3943-4858-d9e2-18ed54409723"
      },
      "source": [
        "fig = ff.create_distplot([df.area_mean],['area_mean'],bin_size=5)\n",
        "iplot(fig, filename='Basic Distplot')"
      ],
      "execution_count": 12,
      "outputs": [
        {
          "output_type": "display_data",
          "data": {
            "text/html": [
              "<html>\n",
              "<head><meta charset=\"utf-8\" /></head>\n",
              "<body>\n",
              "    <div>\n",
              "            <script src=\"https://cdnjs.cloudflare.com/ajax/libs/mathjax/2.7.5/MathJax.js?config=TeX-AMS-MML_SVG\"></script><script type=\"text/javascript\">if (window.MathJax) {MathJax.Hub.Config({SVG: {font: \"STIX-Web\"}});}</script>\n",
              "                <script type=\"text/javascript\">window.PlotlyConfig = {MathJaxConfig: 'local'};</script>\n",
              "        <script src=\"https://cdn.plot.ly/plotly-latest.min.js\"></script>    \n",
              "            <div id=\"6b21770a-f038-478a-84a0-756563fe508b\" class=\"plotly-graph-div\" style=\"height:525px; width:100%;\"></div>\n",
              "            <script type=\"text/javascript\">\n",
              "                \n",
              "                    window.PLOTLYENV=window.PLOTLYENV || {};\n",
              "                    \n",
              "                if (document.getElementById(\"6b21770a-f038-478a-84a0-756563fe508b\")) {\n",
              "                    Plotly.newPlot(\n",
              "                        '6b21770a-f038-478a-84a0-756563fe508b',\n",
              "                        [{\"autobinx\": false, \"histnorm\": \"probability density\", \"legendgroup\": \"area_mean\", \"marker\": {\"color\": \"rgb(31, 119, 180)\"}, \"name\": \"area_mean\", \"opacity\": 0.7, \"type\": \"histogram\", \"x\": [1001.0, 1326.0, 1203.0, 386.1, 1297.0, 477.1, 1040.0, 577.9, 519.8, 475.9, 797.8, 781.0, 1123.0, 782.7, 578.3, 658.8, 684.5, 798.8, 1260.0, 566.3, 520.0, 273.9, 704.4, 1404.0, 904.6, 912.7, 644.8, 1094.0, 732.4, 955.1, 1088.0, 440.6, 899.3, 1162.0, 807.2, 869.5, 633.0, 523.8, 698.8, 559.2, 563.0, 371.1, 1104.0, 545.2, 531.5, 1076.0, 201.9, 534.6, 449.3, 561.0, 427.9, 571.8, 437.6, 1033.0, 712.8, 409.0, 1152.0, 656.9, 527.2, 224.5, 311.9, 221.8, 645.7, 260.9, 499.0, 668.3, 269.4, 394.1, 250.5, 502.5, 1130.0, 244.0, 929.4, 584.1, 470.9, 817.7, 559.2, 1006.0, 1245.0, 506.3, 401.5, 520.0, 1878.0, 1132.0, 443.3, 1075.0, 648.2, 1076.0, 466.1, 651.9, 662.7, 728.2, 551.7, 555.1, 705.6, 1264.0, 451.1, 294.5, 412.6, 642.5, 582.7, 143.5, 458.7, 298.3, 336.1, 530.2, 412.5, 466.7, 1509.0, 396.5, 290.2, 480.4, 629.9, 334.2, 230.9, 438.6, 245.2, 682.5, 782.6, 982.0, 403.3, 1077.0, 1761.0, 640.7, 553.5, 588.7, 572.6, 1138.0, 674.5, 1192.0, 455.8, 748.9, 809.8, 761.7, 1075.0, 506.3, 423.6, 399.8, 678.1, 384.8, 288.5, 813.0, 398.0, 512.2, 355.3, 432.8, 432.0, 689.5, 640.1, 585.0, 519.4, 203.9, 300.2, 381.9, 538.9, 460.3, 963.7, 880.2, 448.6, 366.8, 419.8, 1157.0, 1214.0, 464.5, 1686.0, 690.2, 357.6, 886.3, 984.6, 685.9, 464.1, 565.4, 736.9, 372.7, 349.6, 227.2, 302.4, 832.9, 526.4, 508.8, 2250.0, 1311.0, 766.6, 402.0, 710.6, 317.5, 1041.0, 420.3, 428.9, 463.7, 609.9, 507.4, 288.1, 477.4, 671.4, 516.4, 588.9, 1024.0, 1148.0, 642.7, 461.0, 951.6, 1685.0, 597.8, 481.9, 716.6, 295.4, 904.3, 529.4, 725.5, 1290.0, 428.0, 2499.0, 948.0, 610.7, 578.9, 432.2, 321.2, 1230.0, 1223.0, 568.9, 561.3, 313.1, 761.3, 546.4, 641.2, 329.6, 684.5, 496.4, 503.2, 895.0, 395.7, 386.8, 1319.0, 279.6, 603.4, 1670.0, 1306.0, 623.9, 920.6, 575.3, 476.5, 389.4, 590.0, 1155.0, 337.7, 541.6, 512.2, 347.0, 406.3, 1364.0, 407.4, 1206.0, 928.2, 1169.0, 602.4, 1207.0, 713.3, 773.5, 744.9, 1288.0, 933.1, 947.8, 758.6, 928.3, 1419.0, 346.4, 561.0, 512.2, 344.9, 632.6, 388.0, 1491.0, 289.9, 998.9, 435.6, 396.6, 1102.0, 572.3, 587.4, 1138.0, 427.3, 1145.0, 805.1, 516.6, 489.0, 441.0, 515.9, 394.1, 396.0, 651.0, 687.3, 513.7, 432.7, 492.1, 582.7, 363.7, 431.1, 633.1, 334.2, 1217.0, 471.3, 1247.0, 334.3, 403.1, 417.2, 537.3, 246.3, 566.2, 530.6, 418.7, 664.9, 504.1, 409.1, 221.2, 481.6, 461.4, 1027.0, 244.5, 477.3, 324.2, 1274.0, 504.8, 1264.0, 457.9, 489.9, 616.5, 446.0, 813.7, 826.8, 793.2, 514.0, 387.3, 390.0, 464.4, 918.6, 514.3, 1092.0, 310.8, 1747.0, 641.2, 280.5, 373.9, 1194.0, 420.3, 321.6, 445.3, 668.7, 402.7, 426.7, 421.0, 758.6, 2010.0, 716.6, 384.6, 485.8, 512.0, 593.7, 241.0, 278.6, 491.9, 546.1, 496.6, 838.1, 552.4, 1293.0, 1234.0, 458.4, 1546.0, 1482.0, 840.4, 711.8, 1386.0, 1335.0, 579.1, 788.5, 338.3, 562.1, 580.6, 361.6, 386.3, 372.7, 447.8, 462.9, 541.8, 664.7, 462.0, 596.6, 392.0, 1174.0, 321.6, 234.3, 744.7, 1407.0, 446.2, 609.1, 558.1, 508.3, 378.2, 431.9, 994.0, 442.7, 525.2, 507.6, 469.1, 370.0, 800.0, 514.5, 991.7, 466.1, 399.8, 373.2, 268.8, 693.7, 719.5, 433.8, 271.2, 803.1, 495.0, 380.3, 409.7, 656.1, 408.2, 575.3, 289.7, 307.3, 333.6, 359.9, 381.1, 501.3, 685.0, 467.8, 1250.0, 1110.0, 673.7, 599.5, 509.2, 611.2, 592.6, 606.5, 371.5, 928.8, 585.9, 340.9, 990.0, 441.3, 981.6, 674.8, 659.7, 1384.0, 432.0, 1191.0, 442.5, 644.2, 492.9, 557.2, 415.1, 537.9, 520.2, 290.9, 930.9, 2501.0, 646.1, 412.7, 537.3, 542.9, 536.9, 286.3, 980.5, 408.8, 289.1, 449.9, 686.9, 465.4, 358.9, 506.9, 618.4, 599.4, 404.9, 815.8, 455.3, 602.9, 546.3, 571.1, 747.2, 476.7, 666.0, 1167.0, 420.5, 857.6, 466.5, 992.1, 1007.0, 477.3, 538.7, 680.9, 485.6, 480.1, 1068.0, 1320.0, 689.4, 595.9, 476.3, 1682.0, 248.7, 272.5, 453.1, 366.5, 819.8, 731.3, 426.0, 680.7, 556.7, 658.8, 701.9, 391.2, 1052.0, 1214.0, 493.1, 493.8, 257.8, 1841.0, 388.1, 571.0, 293.2, 221.3, 551.1, 468.5, 594.2, 445.2, 422.9, 416.2, 575.5, 1299.0, 365.6, 1308.0, 629.8, 406.4, 178.8, 170.4, 402.9, 656.4, 668.6, 538.4, 584.8, 573.2, 324.9, 320.8, 285.7, 361.6, 360.5, 378.4, 507.9, 264.0, 514.3, 321.4, 311.7, 271.3, 657.1, 403.5, 600.4, 386.0, 716.9, 1347.0, 1479.0, 1261.0, 858.1, 1265.0, 181.0], \"xaxis\": \"x\", \"xbins\": {\"end\": 2501.0, \"size\": 5, \"start\": 143.5}, \"yaxis\": \"y\"}, {\"legendgroup\": \"area_mean\", \"marker\": {\"color\": \"rgb(31, 119, 180)\"}, \"mode\": \"lines\", \"name\": \"area_mean\", \"showlegend\": false, \"type\": \"scatter\", \"x\": [143.5, 148.215, 152.93, 157.645, 162.36, 167.075, 171.79, 176.505, 181.22, 185.935, 190.65, 195.365, 200.07999999999998, 204.79500000000002, 209.51, 214.225, 218.94, 223.655, 228.37, 233.08499999999998, 237.8, 242.515, 247.23000000000002, 251.945, 256.65999999999997, 261.375, 266.09000000000003, 270.805, 275.52, 280.235, 284.95, 289.66499999999996, 294.38, 299.095, 303.81, 308.525, 313.24, 317.95500000000004, 322.66999999999996, 327.385, 332.1, 336.815, 341.53, 346.245, 350.96000000000004, 355.675, 360.39, 365.105, 369.82, 374.53499999999997, 379.25, 383.96500000000003, 388.68, 393.395, 398.11, 402.825, 407.54, 412.255, 416.97, 421.685, 426.4, 431.115, 435.83, 440.545, 445.26, 449.975, 454.69, 459.405, 464.12, 468.835, 473.55, 478.265, 482.98, 487.695, 492.41, 497.125, 501.84, 506.555, 511.27, 515.985, 520.7, 525.415, 530.13, 534.845, 539.56, 544.275, 548.99, 553.7049999999999, 558.4200000000001, 563.135, 567.85, 572.565, 577.28, 581.995, 586.71, 591.425, 596.14, 600.855, 605.5699999999999, 610.2850000000001, 615.0, 619.7149999999999, 624.4300000000001, 629.145, 633.86, 638.575, 643.29, 648.005, 652.72, 657.435, 662.15, 666.865, 671.58, 676.295, 681.01, 685.725, 690.44, 695.155, 699.87, 704.585, 709.3, 714.015, 718.73, 723.445, 728.16, 732.875, 737.59, 742.305, 747.02, 751.735, 756.45, 761.165, 765.88, 770.595, 775.31, 780.025, 784.74, 789.455, 794.17, 798.885, 803.6, 808.315, 813.03, 817.745, 822.46, 827.175, 831.89, 836.605, 841.32, 846.035, 850.75, 855.465, 860.18, 864.895, 869.61, 874.325, 879.04, 883.755, 888.47, 893.185, 897.9, 902.615, 907.33, 912.045, 916.76, 921.475, 926.19, 930.905, 935.62, 940.335, 945.05, 949.765, 954.48, 959.195, 963.91, 968.625, 973.34, 978.055, 982.77, 987.485, 992.2, 996.915, 1001.63, 1006.345, 1011.06, 1015.775, 1020.49, 1025.205, 1029.92, 1034.635, 1039.35, 1044.065, 1048.78, 1053.495, 1058.21, 1062.925, 1067.6399999999999, 1072.355, 1077.0700000000002, 1081.7849999999999, 1086.5, 1091.2150000000001, 1095.9299999999998, 1100.645, 1105.3600000000001, 1110.075, 1114.79, 1119.505, 1124.22, 1128.935, 1133.65, 1138.365, 1143.08, 1147.795, 1152.51, 1157.225, 1161.94, 1166.655, 1171.37, 1176.085, 1180.8, 1185.515, 1190.23, 1194.945, 1199.66, 1204.375, 1209.09, 1213.805, 1218.52, 1223.235, 1227.95, 1232.665, 1237.38, 1242.095, 1246.81, 1251.525, 1256.24, 1260.955, 1265.67, 1270.385, 1275.1, 1279.815, 1284.53, 1289.245, 1293.96, 1298.675, 1303.39, 1308.105, 1312.82, 1317.535, 1322.25, 1326.965, 1331.68, 1336.395, 1341.11, 1345.825, 1350.54, 1355.255, 1359.97, 1364.685, 1369.4, 1374.115, 1378.83, 1383.545, 1388.26, 1392.975, 1397.69, 1402.405, 1407.12, 1411.835, 1416.55, 1421.265, 1425.98, 1430.695, 1435.41, 1440.125, 1444.84, 1449.555, 1454.27, 1458.985, 1463.7, 1468.415, 1473.13, 1477.845, 1482.56, 1487.275, 1491.99, 1496.705, 1501.42, 1506.135, 1510.85, 1515.565, 1520.28, 1524.995, 1529.71, 1534.425, 1539.14, 1543.855, 1548.57, 1553.285, 1558.0, 1562.715, 1567.43, 1572.145, 1576.86, 1581.575, 1586.29, 1591.005, 1595.72, 1600.435, 1605.15, 1609.865, 1614.58, 1619.295, 1624.01, 1628.725, 1633.44, 1638.155, 1642.87, 1647.585, 1652.3, 1657.015, 1661.73, 1666.445, 1671.16, 1675.875, 1680.59, 1685.305, 1690.02, 1694.735, 1699.45, 1704.165, 1708.88, 1713.595, 1718.31, 1723.025, 1727.74, 1732.455, 1737.17, 1741.885, 1746.6, 1751.315, 1756.03, 1760.745, 1765.46, 1770.175, 1774.89, 1779.605, 1784.32, 1789.035, 1793.75, 1798.465, 1803.18, 1807.895, 1812.61, 1817.325, 1822.04, 1826.755, 1831.47, 1836.185, 1840.9, 1845.615, 1850.33, 1855.045, 1859.76, 1864.475, 1869.19, 1873.905, 1878.62, 1883.335, 1888.05, 1892.765, 1897.48, 1902.195, 1906.91, 1911.625, 1916.34, 1921.055, 1925.77, 1930.485, 1935.2, 1939.915, 1944.63, 1949.345, 1954.06, 1958.775, 1963.49, 1968.205, 1972.92, 1977.635, 1982.35, 1987.065, 1991.78, 1996.495, 2001.21, 2005.925, 2010.64, 2015.355, 2020.07, 2024.785, 2029.5, 2034.215, 2038.93, 2043.645, 2048.3599999999997, 2053.075, 2057.79, 2062.505, 2067.2200000000003, 2071.935, 2076.65, 2081.365, 2086.08, 2090.795, 2095.51, 2100.225, 2104.94, 2109.6549999999997, 2114.37, 2119.085, 2123.8, 2128.5150000000003, 2133.23, 2137.9449999999997, 2142.66, 2147.375, 2152.09, 2156.8050000000003, 2161.52, 2166.2349999999997, 2170.95, 2175.665, 2180.38, 2185.0950000000003, 2189.81, 2194.525, 2199.24, 2203.955, 2208.67, 2213.385, 2218.1, 2222.815, 2227.53, 2232.245, 2236.96, 2241.675, 2246.39, 2251.105, 2255.82, 2260.535, 2265.25, 2269.965, 2274.68, 2279.395, 2284.11, 2288.825, 2293.54, 2298.255, 2302.97, 2307.685, 2312.4, 2317.115, 2321.83, 2326.545, 2331.26, 2335.975, 2340.69, 2345.405, 2350.12, 2354.835, 2359.55, 2364.265, 2368.98, 2373.695, 2378.41, 2383.125, 2387.84, 2392.555, 2397.27, 2401.985, 2406.7, 2411.415, 2416.13, 2420.845, 2425.56, 2430.275, 2434.99, 2439.705, 2444.42, 2449.135, 2453.85, 2458.565, 2463.28, 2467.995, 2472.71, 2477.425, 2482.14, 2486.855, 2491.57, 2496.285], \"xaxis\": \"x\", \"y\": [0.00023687724862338653, 0.0002517913743966684, 0.0002673119574434499, 0.00028344103943022997, 0.0003001792978324509, 0.0003175260256160068, 0.0003354791167880056, 0.0003540350574486278, 0.00037318892187779203, 0.00039293437310277557, 0.00041326366731868857, 0.0004341676614753356, 0.00045563582330377793, 0.00047765624303575674, 0.0005002156460705216, 0.0005232994058675061, 0.0005468915563900743, 0.0005709748034950816, 0.0005955305347543309, 0.0006205388273057412, 0.0006459784534619886, 0.0006718268839498246, 0.0006980602888108872, 0.0007246535361607801, 0.0007515801891732997, 0.0007788125018263626, 0.0008063214141107016, 0.0008340765475569564, 0.0008620462020765997, 0.0008901973552326721, 0.0009184956651533695, 0.0009469054783713247, 0.0009753898439108448, 0.0010039105349519512, 0.0010324280793721557, 0.0010609018004036864, 0.0010892898685455183, 0.0011175493657370654, 0.0011456363626357864, 0.0011735060096470678, 0.001201112642135325, 0.0012284099000047521, 0.0012553508615815992, 0.0012818881914629177, 0.0013079743017252801, 0.0013335615256172472, 0.0013586023025974597, 0.0013830493733322337, 0.0014068559830382216, 0.0014299760913522761, 0.0014523645867368824, 0.0014739775032893824, 0.0014947722377197871, 0.0015147077641976371, 0.0015337448447443104, 0.001551846232863863, 0.0015689768681622408, 0.0015851040597999954, 0.0016001976567551522, 0.0016142302030373755, 0.0016271770761883014, 0.001639016607621446, 0.0016497301835937234, 0.001659302325854213, 0.001667720751279294, 0.0016749764100714186, 0.00168106350236659, 0.0016859794733583588, 0.001689724987299391, 0.0016923038809815265, 0.0016937230975182997, 0.0016939926014573124, 0.0016931252764314112, 0.001691136806715662, 0.0016880455441905934, 0.001683872362320634, 0.0016786404988400254, 0.0016723753888972942, 0.0016651044904443918, 0.0016568571036690127, 0.0016476641862597941, 0.0016375581662655707, 0.0016265727542633165, 0.0016147427564864984, 0.0016021038904879866, 0.0015886926048210546, 0.0015745459041199411, 0.0015597011808493857, 0.0015441960548719142, 0.001528068221853763, 0.0015113553113963647, 0.0014940947556416242, 0.001476323668956761, 0.0014580787391596612, 0.001439396130599565, 0.0014203113992617544, 0.0014008594199201297, 0.0013810743252194281, 0.0013609894564309008, 0.0013406373254930112, 0.0013200495878237276, 0.0012992570252748168, 0.0012782895384928403, 0.001257176147857738, 0.0012359450020894116, 0.0012146233935468956, 0.0011932377791944602, 0.0011718138061753139, 0.0011503763409168772, 0.0011289495006921802, 0.0011075566865796577, 0.0010862206167980687, 0.0010649633594435757, 0.0010438063637211224, 0.0010227704888406577, 0.0010018760298387453, 0.0009811427396856918, 0.0009605898471454491, 0.0009402360699678411, 0.0009200996231079138, 0.0009001982217830301, 0.0008805490792925623, 0.0008611688996355445, 0.0008420738650665532, 0.0008232796188277281, 0.0008048012433838215, 0.0007866532345664158, 0.0007688494721021389, 0.0007514031870574446, 0.000734326926779069, 0.0007176325179447632, 0.0007013310283637121, 0.0006854327281806704, 0.00066994705114308, 0.0006548825565870219, 0.00064024689278675, 0.0006260467622946253, 0.0006122878898743627, 0.000598974993601483, 0.0005861117596713367, 0.0005737008214177025, 0.0005617437430040957, 0.0005502410082059846, 0.0005391920146551375, 0.0005285950738675166, 0.0005184474173233401, 0.00050874520881222, 0.0004994835631974249, 0.0004906565716913347, 0.00048225733366902637, 0.0004742779949786856, 0.000466709792636497, 0.0004595431057201026, 0.0004527675121992774, 0.00044637185136582255, 0.0004403442914478136, 0.0004346724019173265, 0.0004293432299269183, 0.0004243433802398176, 0.0004196590979535282, 0.0004152763532578899, 0.00041118092741812947, 0.0004073584991325799, 0.0004037947303849263, 0.000400475350893293, 0.0003973862402542294, 0.00039451350688944815, 0.00039184356292748887, 0.0003893631941914585, 0.00038705962451744544, 0.00038492057369555067, 0.0003829343084058385, 0.0003810896856136233, 0.0003793761879908427, 0.0003777839510409753, 0.0003763037817220094, 0.00037492716848308994, 0.0003736462827533353, 0.0003724539720434865, 0.0003713437449401281, 0.00037030974838585343, 0.00036934673774473954, 0.00036845004024880883, 0.00036761551250602764, 0.0003668394928223127, 0.00036611874914782306, 0.0003654504235006825, 0.00036483197374872117, 0.0003642611136417824, 0.0003637357519838341, 0.00036325393181619236, 0.0003628137704515156, 0.000362413401154079, 0.0003620509172066414, 0.000361724319039621, 0.0003614314650260926, 0.00036117002646819424, 0.00036093744721880163, 0.000360730908298693, 0.0003605472977857151, 0.00036038318617038253, 0.0003602348072934514, 0.0003600980449066506, 0.0003599684248290678, 0.00035984111260954974, 0.00035971091655052245, 0.00035957229590121874, 0.00035941937398854893, 0.00035924595602161057, 0.0003590455512807612, 0.00035881139938372575, 0.00035853650030863616, 0.0003582136478463922, 0.000357835466151317, 0.0003573944490588029, 0.00035688300184048903, 0.00035629348507052556, 0.0003556182602797748, 0.00035484973707756957, 0.00035398042142225516, 0.0003530029647216683, 0.0003519102134426251, 0.0003506952589042714, 0.00034935148692381504, 0.00034787262697495974, 0.0003462528005096903, 0.0003444865680834783, 0.00034256897491321035, 0.0003404955944869659, 0.0003382625698361128, 0.0003358666520739647, 0.0003333052358024041, 0.00033057639098933625, 0.00032767889092646376, 0.0003246122358893961, 0.0003213766721411827, 0.00031797320594642104, 0.0003144036122964437, 0.00031067043808682005, 0.0003067769995363594, 0.00030272737369166906, 0.00029852638392251793, 0.00029417957938001075, 0.00028969320846094354, 0.00028507418639653814, 0.0002803300571607545, 0.0002754689499711477, 0.00027049953073229416, 0.0002654309488465752, 0.0002602727798880902, 0.0002550349647010653, 0.0002497277455429406, 0.00024436159994295763, 0.0002389471729883163, 0.00023349520878077873, 0.00022801648182610966, 0.00022252172912630915, 0.00021702158373981307, 0.0002115265105575766, 0.0002060467450132494, 0.00020059223540394838, 0.00019517258944491946, 0.00018979702561758296, 0.00018447432979708857, 0.00017921281756382436, 0.00017402030251477803, 0.00016890407079680868, 0.0001638708619864456, 0.0001589268563415502, 0.00015407766835092476, 0.00014932834641047868, 0.000144683378360751, 0.000140146702532131, 0.00013572172386266105, 0.00013141133458039454, 0.00012721793887922553, 0.00012314348096511055, 0.0001191894758096075, 0.00011535704192039291, 0.0001116469354243609, 0.00010805958475831667, 0.00010459512527506251, 0.00010125343309859517, 9.803415760060144e-05, 9.493675192064977e-05, 9.196050101340861e-05, 8.910454677659384e-05, 8.636790989172557e-05, 8.374950809453879e-05, 8.124817068128621e-05, 7.886264914934992e-05, 7.659162396363816e-05, 7.443370753223229e-05, 7.23874435637651e-05, 7.04513030631936e-05, 6.862367730020736e-05, 6.690286815387465e-05, 6.528707629681653e-05, 6.377438773096266e-05, 6.236275922378143e-05, 6.105000321802698e-05, 5.983377279903376e-05, 5.871154730123362e-05, 5.7680619119967014e-05, 5.673808226621874e-05, 5.588082316131497e-05, 5.510551411682731e-05, 5.440860988315271e-05, 5.378634757990815e-05, 5.323475024401216e-05, 5.2749634148900674e-05, 5.2326619962622384e-05, 5.196114772553129e-05, 5.1648495541911634e-05, 5.138380179607603e-05, 5.1162090624142226e-05, 5.097830029957463e-05, 5.08273141252643e-05, 5.070399336882022e-05, 5.0603211732024596e-05, 5.0519890810984977e-05, 5.04490359810395e-05, 5.038577213029464e-05, 5.032537866786351e-05, 5.026332324719826e-05, 5.019529367086809e-05, 5.011722747994992e-05, 5.0025338777860667e-05, 4.991614189373901e-05, 4.97864715529755e-05, 4.963349929064613e-05, 4.9454745915775386e-05, 4.924808990883802e-05, 4.901177170998186e-05, 4.874439392942738e-05, 4.844491758275263e-05, 4.811265452079316e-05, 4.774725628530628e-05, 4.734869967617916e-05, 4.6917269362801776e-05, 4.645353791051035e-05, 4.59583436221897e-05, 4.5432766614904554e-05, 4.4878103561744514e-05, 4.42958415300907e-05, 4.368763133963171e-05, 4.305526084726905e-05, 4.240062854234079e-05, 4.17257178052784e-05, 4.103257214696103e-05, 4.0323271705788145e-05, 3.959991123606085e-05, 3.88645797758802e-05, 3.8119342136650485e-05, 3.736622231060144e-05, 3.660718884861644e-05, 3.5844142219081094e-05, 3.5078904120329024e-05, 3.4313208685299884e-05, 3.354869548781792e-05, 3.278690423586951e-05, 3.202927101864203e-05, 3.127712596096787e-05, 3.053169213110031e-05, 2.9794085545194168e-05, 2.9065316114084796e-05, 2.8346289384456603e-05, 2.7637808936653817e-05, 2.69405793145307e-05, 2.6255209378135623e-05, 2.5582215986898515e-05, 2.49220279385895e-05, 2.427499010688881e-05, 2.3641367737257687e-05, 2.302135087629877e-05, 2.2415058923387892e-05, 2.182254530460555e-05, 2.1243802277549912e-05, 2.067876588125346e-05, 2.01273210480475e-05, 1.958930689383724e-05, 1.906452219999457e-05, 1.8552731094178653e-05, 1.8053668929188667e-05, 1.7567048348842843e-05, 1.7092565518341972e-05, 1.6629906484130715e-05, 1.617875361546442e-05, 1.5738792067282152e-05, 1.530971619211819e-05, 1.4891235818179357e-05, 1.4483082301843693e-05, 1.4085014256111186e-05, 1.3696822852305447e-05, 1.3318336590845494e-05, 1.2949425438354804e-05, 1.2590004232830716e-05, 1.2240035266053993e-05, 1.1899529962766489e-05, 1.1568549589205652e-05, 1.1247204939078907e-05, 1.0935654962657539e-05, 1.0634104323964201e-05, 1.0342799891575399e-05, 1.0062026189876276e-05, 9.792099859187963e-06, 9.533363194523283e-06, 9.286176853310434e-06, 9.050911841767635e-06, 8.827940907256243e-06, 8.61762947946733e-06, 8.420326316338888e-06, 8.236354020844395e-06, 8.065999601992127e-06, 7.90950525734008e-06, 7.767059554956453e-06, 7.638789189990134e-06, 7.5247514848894635e-06, 7.4249277929083995e-06, 7.339217952026346e-06, 7.267435920991479e-06, 7.209306711148037e-06, 7.16446470733894e-06, 7.132453448841189e-06, 7.11272691738245e-06, 7.104652354215313e-06, 7.10751460242436e-06, 7.120521944552062e-06, 7.142813379698024e-06, 7.173467258912956e-06, 7.211511173402889e-06, 7.25593296719099e-06, 7.305692724840047e-06, 7.35973556597282e-06, 7.417005061960112e-06, 7.476457076555486e-06, 7.537073821675941e-06, 7.597877912145135e-06, 7.657946199165927e-06, 7.716423161655783e-06, 7.772533637391213e-06, 7.825594682144086e-06, 7.875026354575985e-06, 7.920361237461082e-06, 7.961252521656082e-06, 7.997480497906938e-06, 8.028957322811686e-06, 8.055729948745933e-06, 8.07798113296724e-06, 8.096028468085906e-06, 8.11032140423763e-06, 8.121436262219029e-06, 8.130069266139486e-06, 8.137027653387386e-06, 8.1432189484924e-06, 8.149638515380888e-06, 8.15735552917378e-06, 8.167497533687053e-06, 8.181233773806377e-06, 8.199757512586992e-06, 8.22426756097292e-06, 8.255949263163461e-06, 8.295955192640427e-06, 8.345385822505172e-06, 8.40527043889631e-06, 8.476548567745025e-06, 8.560052182894114e-06, 8.656488957623983e-06, 8.76642681190206e-06, 8.890279994258198e-06, 9.028296920189952e-06, 9.18054996857197e-06, 9.346927413882976e-06, 9.527127645422617e-06, 9.72065579537013e-06, 9.926822865881266e-06, 1.0144747411826003e-05, 1.0373359800671406e-05, 1.0611409034889634e-05, 1.085747208562943e-05, 1.1109965649774464e-05, 1.1367160206479994e-05, 1.162719621441089e-05, 1.1888102257776205e-05, 1.2147814918440265e-05, 1.2404200123447304e-05, 1.2655075692749757e-05, 1.2898234791268802e-05, 1.3131469973070696e-05, 1.3352597493788817e-05, 1.3559481560748353e-05, 1.375005818877669e-05, 1.3922358333520838e-05, 1.407452998327018e-05, 1.420485890471286e-05, 1.4311787757553353e-05, 1.4393933317198875e-05, 1.445010157339109e-05, 1.4479300505236676e-05, 1.4480750369004544e-05], \"yaxis\": \"y\"}, {\"legendgroup\": \"area_mean\", \"marker\": {\"color\": \"rgb(31, 119, 180)\", \"symbol\": \"line-ns-open\"}, \"mode\": \"markers\", \"name\": \"area_mean\", \"showlegend\": false, \"type\": \"scatter\", \"x\": [1001.0, 1326.0, 1203.0, 386.1, 1297.0, 477.1, 1040.0, 577.9, 519.8, 475.9, 797.8, 781.0, 1123.0, 782.7, 578.3, 658.8, 684.5, 798.8, 1260.0, 566.3, 520.0, 273.9, 704.4, 1404.0, 904.6, 912.7, 644.8, 1094.0, 732.4, 955.1, 1088.0, 440.6, 899.3, 1162.0, 807.2, 869.5, 633.0, 523.8, 698.8, 559.2, 563.0, 371.1, 1104.0, 545.2, 531.5, 1076.0, 201.9, 534.6, 449.3, 561.0, 427.9, 571.8, 437.6, 1033.0, 712.8, 409.0, 1152.0, 656.9, 527.2, 224.5, 311.9, 221.8, 645.7, 260.9, 499.0, 668.3, 269.4, 394.1, 250.5, 502.5, 1130.0, 244.0, 929.4, 584.1, 470.9, 817.7, 559.2, 1006.0, 1245.0, 506.3, 401.5, 520.0, 1878.0, 1132.0, 443.3, 1075.0, 648.2, 1076.0, 466.1, 651.9, 662.7, 728.2, 551.7, 555.1, 705.6, 1264.0, 451.1, 294.5, 412.6, 642.5, 582.7, 143.5, 458.7, 298.3, 336.1, 530.2, 412.5, 466.7, 1509.0, 396.5, 290.2, 480.4, 629.9, 334.2, 230.9, 438.6, 245.2, 682.5, 782.6, 982.0, 403.3, 1077.0, 1761.0, 640.7, 553.5, 588.7, 572.6, 1138.0, 674.5, 1192.0, 455.8, 748.9, 809.8, 761.7, 1075.0, 506.3, 423.6, 399.8, 678.1, 384.8, 288.5, 813.0, 398.0, 512.2, 355.3, 432.8, 432.0, 689.5, 640.1, 585.0, 519.4, 203.9, 300.2, 381.9, 538.9, 460.3, 963.7, 880.2, 448.6, 366.8, 419.8, 1157.0, 1214.0, 464.5, 1686.0, 690.2, 357.6, 886.3, 984.6, 685.9, 464.1, 565.4, 736.9, 372.7, 349.6, 227.2, 302.4, 832.9, 526.4, 508.8, 2250.0, 1311.0, 766.6, 402.0, 710.6, 317.5, 1041.0, 420.3, 428.9, 463.7, 609.9, 507.4, 288.1, 477.4, 671.4, 516.4, 588.9, 1024.0, 1148.0, 642.7, 461.0, 951.6, 1685.0, 597.8, 481.9, 716.6, 295.4, 904.3, 529.4, 725.5, 1290.0, 428.0, 2499.0, 948.0, 610.7, 578.9, 432.2, 321.2, 1230.0, 1223.0, 568.9, 561.3, 313.1, 761.3, 546.4, 641.2, 329.6, 684.5, 496.4, 503.2, 895.0, 395.7, 386.8, 1319.0, 279.6, 603.4, 1670.0, 1306.0, 623.9, 920.6, 575.3, 476.5, 389.4, 590.0, 1155.0, 337.7, 541.6, 512.2, 347.0, 406.3, 1364.0, 407.4, 1206.0, 928.2, 1169.0, 602.4, 1207.0, 713.3, 773.5, 744.9, 1288.0, 933.1, 947.8, 758.6, 928.3, 1419.0, 346.4, 561.0, 512.2, 344.9, 632.6, 388.0, 1491.0, 289.9, 998.9, 435.6, 396.6, 1102.0, 572.3, 587.4, 1138.0, 427.3, 1145.0, 805.1, 516.6, 489.0, 441.0, 515.9, 394.1, 396.0, 651.0, 687.3, 513.7, 432.7, 492.1, 582.7, 363.7, 431.1, 633.1, 334.2, 1217.0, 471.3, 1247.0, 334.3, 403.1, 417.2, 537.3, 246.3, 566.2, 530.6, 418.7, 664.9, 504.1, 409.1, 221.2, 481.6, 461.4, 1027.0, 244.5, 477.3, 324.2, 1274.0, 504.8, 1264.0, 457.9, 489.9, 616.5, 446.0, 813.7, 826.8, 793.2, 514.0, 387.3, 390.0, 464.4, 918.6, 514.3, 1092.0, 310.8, 1747.0, 641.2, 280.5, 373.9, 1194.0, 420.3, 321.6, 445.3, 668.7, 402.7, 426.7, 421.0, 758.6, 2010.0, 716.6, 384.6, 485.8, 512.0, 593.7, 241.0, 278.6, 491.9, 546.1, 496.6, 838.1, 552.4, 1293.0, 1234.0, 458.4, 1546.0, 1482.0, 840.4, 711.8, 1386.0, 1335.0, 579.1, 788.5, 338.3, 562.1, 580.6, 361.6, 386.3, 372.7, 447.8, 462.9, 541.8, 664.7, 462.0, 596.6, 392.0, 1174.0, 321.6, 234.3, 744.7, 1407.0, 446.2, 609.1, 558.1, 508.3, 378.2, 431.9, 994.0, 442.7, 525.2, 507.6, 469.1, 370.0, 800.0, 514.5, 991.7, 466.1, 399.8, 373.2, 268.8, 693.7, 719.5, 433.8, 271.2, 803.1, 495.0, 380.3, 409.7, 656.1, 408.2, 575.3, 289.7, 307.3, 333.6, 359.9, 381.1, 501.3, 685.0, 467.8, 1250.0, 1110.0, 673.7, 599.5, 509.2, 611.2, 592.6, 606.5, 371.5, 928.8, 585.9, 340.9, 990.0, 441.3, 981.6, 674.8, 659.7, 1384.0, 432.0, 1191.0, 442.5, 644.2, 492.9, 557.2, 415.1, 537.9, 520.2, 290.9, 930.9, 2501.0, 646.1, 412.7, 537.3, 542.9, 536.9, 286.3, 980.5, 408.8, 289.1, 449.9, 686.9, 465.4, 358.9, 506.9, 618.4, 599.4, 404.9, 815.8, 455.3, 602.9, 546.3, 571.1, 747.2, 476.7, 666.0, 1167.0, 420.5, 857.6, 466.5, 992.1, 1007.0, 477.3, 538.7, 680.9, 485.6, 480.1, 1068.0, 1320.0, 689.4, 595.9, 476.3, 1682.0, 248.7, 272.5, 453.1, 366.5, 819.8, 731.3, 426.0, 680.7, 556.7, 658.8, 701.9, 391.2, 1052.0, 1214.0, 493.1, 493.8, 257.8, 1841.0, 388.1, 571.0, 293.2, 221.3, 551.1, 468.5, 594.2, 445.2, 422.9, 416.2, 575.5, 1299.0, 365.6, 1308.0, 629.8, 406.4, 178.8, 170.4, 402.9, 656.4, 668.6, 538.4, 584.8, 573.2, 324.9, 320.8, 285.7, 361.6, 360.5, 378.4, 507.9, 264.0, 514.3, 321.4, 311.7, 271.3, 657.1, 403.5, 600.4, 386.0, 716.9, 1347.0, 1479.0, 1261.0, 858.1, 1265.0, 181.0], \"xaxis\": \"x\", \"y\": [\"area_mean\", \"area_mean\", \"area_mean\", \"area_mean\", \"area_mean\", \"area_mean\", \"area_mean\", \"area_mean\", \"area_mean\", \"area_mean\", \"area_mean\", \"area_mean\", \"area_mean\", \"area_mean\", \"area_mean\", \"area_mean\", \"area_mean\", \"area_mean\", \"area_mean\", \"area_mean\", \"area_mean\", \"area_mean\", \"area_mean\", \"area_mean\", \"area_mean\", \"area_mean\", \"area_mean\", \"area_mean\", \"area_mean\", \"area_mean\", \"area_mean\", \"area_mean\", \"area_mean\", \"area_mean\", \"area_mean\", \"area_mean\", \"area_mean\", \"area_mean\", \"area_mean\", \"area_mean\", \"area_mean\", \"area_mean\", \"area_mean\", \"area_mean\", \"area_mean\", \"area_mean\", \"area_mean\", \"area_mean\", \"area_mean\", \"area_mean\", \"area_mean\", \"area_mean\", \"area_mean\", \"area_mean\", \"area_mean\", \"area_mean\", \"area_mean\", \"area_mean\", \"area_mean\", \"area_mean\", \"area_mean\", \"area_mean\", \"area_mean\", \"area_mean\", \"area_mean\", \"area_mean\", \"area_mean\", \"area_mean\", \"area_mean\", \"area_mean\", \"area_mean\", \"area_mean\", \"area_mean\", \"area_mean\", \"area_mean\", \"area_mean\", \"area_mean\", \"area_mean\", \"area_mean\", \"area_mean\", \"area_mean\", \"area_mean\", \"area_mean\", \"area_mean\", \"area_mean\", \"area_mean\", \"area_mean\", \"area_mean\", \"area_mean\", \"area_mean\", \"area_mean\", \"area_mean\", \"area_mean\", \"area_mean\", \"area_mean\", \"area_mean\", \"area_mean\", \"area_mean\", \"area_mean\", \"area_mean\", \"area_mean\", \"area_mean\", \"area_mean\", \"area_mean\", \"area_mean\", \"area_mean\", \"area_mean\", \"area_mean\", \"area_mean\", \"area_mean\", \"area_mean\", \"area_mean\", \"area_mean\", \"area_mean\", \"area_mean\", \"area_mean\", \"area_mean\", \"area_mean\", \"area_mean\", \"area_mean\", \"area_mean\", \"area_mean\", \"area_mean\", \"area_mean\", \"area_mean\", \"area_mean\", \"area_mean\", \"area_mean\", \"area_mean\", \"area_mean\", \"area_mean\", \"area_mean\", \"area_mean\", \"area_mean\", \"area_mean\", \"area_mean\", \"area_mean\", \"area_mean\", \"area_mean\", \"area_mean\", \"area_mean\", \"area_mean\", \"area_mean\", \"area_mean\", \"area_mean\", \"area_mean\", \"area_mean\", \"area_mean\", \"area_mean\", \"area_mean\", \"area_mean\", \"area_mean\", \"area_mean\", \"area_mean\", \"area_mean\", \"area_mean\", \"area_mean\", \"area_mean\", \"area_mean\", \"area_mean\", \"area_mean\", \"area_mean\", \"area_mean\", \"area_mean\", \"area_mean\", \"area_mean\", \"area_mean\", \"area_mean\", \"area_mean\", \"area_mean\", \"area_mean\", \"area_mean\", \"area_mean\", \"area_mean\", \"area_mean\", \"area_mean\", \"area_mean\", \"area_mean\", \"area_mean\", \"area_mean\", \"area_mean\", \"area_mean\", \"area_mean\", \"area_mean\", \"area_mean\", \"area_mean\", \"area_mean\", \"area_mean\", \"area_mean\", \"area_mean\", \"area_mean\", \"area_mean\", \"area_mean\", \"area_mean\", \"area_mean\", \"area_mean\", \"area_mean\", \"area_mean\", \"area_mean\", \"area_mean\", \"area_mean\", \"area_mean\", \"area_mean\", \"area_mean\", \"area_mean\", \"area_mean\", \"area_mean\", \"area_mean\", \"area_mean\", \"area_mean\", \"area_mean\", \"area_mean\", \"area_mean\", \"area_mean\", \"area_mean\", \"area_mean\", \"area_mean\", \"area_mean\", \"area_mean\", \"area_mean\", \"area_mean\", \"area_mean\", \"area_mean\", \"area_mean\", \"area_mean\", \"area_mean\", \"area_mean\", \"area_mean\", \"area_mean\", \"area_mean\", \"area_mean\", \"area_mean\", \"area_mean\", \"area_mean\", \"area_mean\", \"area_mean\", \"area_mean\", \"area_mean\", \"area_mean\", \"area_mean\", \"area_mean\", \"area_mean\", \"area_mean\", \"area_mean\", \"area_mean\", \"area_mean\", \"area_mean\", \"area_mean\", \"area_mean\", \"area_mean\", \"area_mean\", \"area_mean\", \"area_mean\", \"area_mean\", \"area_mean\", \"area_mean\", \"area_mean\", \"area_mean\", \"area_mean\", \"area_mean\", \"area_mean\", \"area_mean\", \"area_mean\", \"area_mean\", \"area_mean\", \"area_mean\", \"area_mean\", \"area_mean\", \"area_mean\", \"area_mean\", \"area_mean\", \"area_mean\", \"area_mean\", \"area_mean\", \"area_mean\", \"area_mean\", \"area_mean\", \"area_mean\", \"area_mean\", \"area_mean\", \"area_mean\", \"area_mean\", \"area_mean\", \"area_mean\", \"area_mean\", \"area_mean\", \"area_mean\", \"area_mean\", \"area_mean\", \"area_mean\", \"area_mean\", \"area_mean\", \"area_mean\", \"area_mean\", \"area_mean\", \"area_mean\", \"area_mean\", \"area_mean\", \"area_mean\", \"area_mean\", \"area_mean\", \"area_mean\", \"area_mean\", \"area_mean\", \"area_mean\", \"area_mean\", \"area_mean\", \"area_mean\", \"area_mean\", \"area_mean\", \"area_mean\", \"area_mean\", \"area_mean\", \"area_mean\", \"area_mean\", \"area_mean\", \"area_mean\", \"area_mean\", \"area_mean\", \"area_mean\", \"area_mean\", \"area_mean\", \"area_mean\", \"area_mean\", \"area_mean\", \"area_mean\", \"area_mean\", \"area_mean\", \"area_mean\", \"area_mean\", \"area_mean\", \"area_mean\", \"area_mean\", \"area_mean\", \"area_mean\", \"area_mean\", \"area_mean\", \"area_mean\", \"area_mean\", \"area_mean\", \"area_mean\", \"area_mean\", \"area_mean\", \"area_mean\", \"area_mean\", \"area_mean\", \"area_mean\", \"area_mean\", \"area_mean\", \"area_mean\", \"area_mean\", \"area_mean\", \"area_mean\", \"area_mean\", \"area_mean\", \"area_mean\", \"area_mean\", \"area_mean\", \"area_mean\", \"area_mean\", \"area_mean\", \"area_mean\", \"area_mean\", \"area_mean\", \"area_mean\", \"area_mean\", \"area_mean\", \"area_mean\", \"area_mean\", \"area_mean\", \"area_mean\", \"area_mean\", \"area_mean\", \"area_mean\", \"area_mean\", \"area_mean\", \"area_mean\", \"area_mean\", \"area_mean\", \"area_mean\", \"area_mean\", \"area_mean\", \"area_mean\", \"area_mean\", \"area_mean\", \"area_mean\", \"area_mean\", \"area_mean\", \"area_mean\", \"area_mean\", \"area_mean\", \"area_mean\", \"area_mean\", \"area_mean\", \"area_mean\", \"area_mean\", \"area_mean\", \"area_mean\", \"area_mean\", \"area_mean\", \"area_mean\", \"area_mean\", \"area_mean\", \"area_mean\", \"area_mean\", \"area_mean\", \"area_mean\", \"area_mean\", \"area_mean\", \"area_mean\", \"area_mean\", \"area_mean\", \"area_mean\", \"area_mean\", \"area_mean\", \"area_mean\", \"area_mean\", \"area_mean\", \"area_mean\", \"area_mean\", \"area_mean\", \"area_mean\", \"area_mean\", \"area_mean\", \"area_mean\", \"area_mean\", \"area_mean\", \"area_mean\", \"area_mean\", \"area_mean\", \"area_mean\", \"area_mean\", \"area_mean\", \"area_mean\", \"area_mean\", \"area_mean\", \"area_mean\", \"area_mean\", \"area_mean\", \"area_mean\", \"area_mean\", \"area_mean\", \"area_mean\", \"area_mean\", \"area_mean\", \"area_mean\", \"area_mean\", \"area_mean\", \"area_mean\", \"area_mean\", \"area_mean\", \"area_mean\", \"area_mean\", \"area_mean\", \"area_mean\", \"area_mean\", \"area_mean\", \"area_mean\", \"area_mean\", \"area_mean\", \"area_mean\", \"area_mean\", \"area_mean\", \"area_mean\", \"area_mean\", \"area_mean\", \"area_mean\", \"area_mean\", \"area_mean\", \"area_mean\", \"area_mean\", \"area_mean\", \"area_mean\", \"area_mean\", \"area_mean\", \"area_mean\", \"area_mean\", \"area_mean\", \"area_mean\", \"area_mean\", \"area_mean\", \"area_mean\", \"area_mean\", \"area_mean\", \"area_mean\", \"area_mean\", \"area_mean\", \"area_mean\", \"area_mean\", \"area_mean\", \"area_mean\", \"area_mean\", \"area_mean\", \"area_mean\", \"area_mean\", \"area_mean\", \"area_mean\", \"area_mean\", \"area_mean\", \"area_mean\", \"area_mean\", \"area_mean\", \"area_mean\", \"area_mean\", \"area_mean\", \"area_mean\", \"area_mean\", \"area_mean\", \"area_mean\", \"area_mean\", \"area_mean\", \"area_mean\", \"area_mean\", \"area_mean\", \"area_mean\", \"area_mean\", \"area_mean\", \"area_mean\", \"area_mean\", \"area_mean\", \"area_mean\", \"area_mean\", \"area_mean\", \"area_mean\", \"area_mean\", \"area_mean\", \"area_mean\", \"area_mean\", \"area_mean\", \"area_mean\", \"area_mean\", \"area_mean\", \"area_mean\", \"area_mean\", \"area_mean\", \"area_mean\", \"area_mean\", \"area_mean\", \"area_mean\", \"area_mean\", \"area_mean\", \"area_mean\", \"area_mean\", \"area_mean\", \"area_mean\", \"area_mean\", \"area_mean\", \"area_mean\", \"area_mean\", \"area_mean\", \"area_mean\", \"area_mean\", \"area_mean\", \"area_mean\", \"area_mean\", \"area_mean\", \"area_mean\", \"area_mean\", \"area_mean\", \"area_mean\", \"area_mean\", \"area_mean\", \"area_mean\", \"area_mean\", \"area_mean\", \"area_mean\", \"area_mean\", \"area_mean\", \"area_mean\"], \"yaxis\": \"y2\"}],\n",
              "                        {\"barmode\": \"overlay\", \"hovermode\": \"closest\", \"legend\": {\"traceorder\": \"reversed\"}, \"template\": {\"data\": {\"bar\": [{\"error_x\": {\"color\": \"#2a3f5f\"}, \"error_y\": {\"color\": \"#2a3f5f\"}, \"marker\": {\"line\": {\"color\": \"#E5ECF6\", \"width\": 0.5}}, \"type\": \"bar\"}], \"barpolar\": [{\"marker\": {\"line\": {\"color\": \"#E5ECF6\", \"width\": 0.5}}, \"type\": \"barpolar\"}], \"carpet\": [{\"aaxis\": {\"endlinecolor\": \"#2a3f5f\", \"gridcolor\": \"white\", \"linecolor\": \"white\", \"minorgridcolor\": \"white\", \"startlinecolor\": \"#2a3f5f\"}, \"baxis\": {\"endlinecolor\": \"#2a3f5f\", \"gridcolor\": \"white\", \"linecolor\": \"white\", \"minorgridcolor\": \"white\", \"startlinecolor\": \"#2a3f5f\"}, \"type\": \"carpet\"}], \"choropleth\": [{\"colorbar\": {\"outlinewidth\": 0, \"ticks\": \"\"}, \"type\": \"choropleth\"}], \"contour\": [{\"colorbar\": {\"outlinewidth\": 0, \"ticks\": \"\"}, \"colorscale\": [[0.0, \"#0d0887\"], [0.1111111111111111, \"#46039f\"], [0.2222222222222222, \"#7201a8\"], [0.3333333333333333, \"#9c179e\"], [0.4444444444444444, \"#bd3786\"], [0.5555555555555556, \"#d8576b\"], [0.6666666666666666, \"#ed7953\"], [0.7777777777777778, \"#fb9f3a\"], [0.8888888888888888, \"#fdca26\"], [1.0, \"#f0f921\"]], \"type\": \"contour\"}], \"contourcarpet\": [{\"colorbar\": {\"outlinewidth\": 0, \"ticks\": \"\"}, \"type\": \"contourcarpet\"}], \"heatmap\": [{\"colorbar\": {\"outlinewidth\": 0, \"ticks\": \"\"}, \"colorscale\": [[0.0, \"#0d0887\"], [0.1111111111111111, \"#46039f\"], [0.2222222222222222, \"#7201a8\"], [0.3333333333333333, \"#9c179e\"], [0.4444444444444444, \"#bd3786\"], [0.5555555555555556, \"#d8576b\"], [0.6666666666666666, \"#ed7953\"], [0.7777777777777778, \"#fb9f3a\"], [0.8888888888888888, \"#fdca26\"], [1.0, \"#f0f921\"]], \"type\": \"heatmap\"}], \"heatmapgl\": [{\"colorbar\": {\"outlinewidth\": 0, \"ticks\": \"\"}, \"colorscale\": [[0.0, \"#0d0887\"], [0.1111111111111111, \"#46039f\"], [0.2222222222222222, \"#7201a8\"], [0.3333333333333333, \"#9c179e\"], [0.4444444444444444, \"#bd3786\"], [0.5555555555555556, \"#d8576b\"], [0.6666666666666666, \"#ed7953\"], [0.7777777777777778, \"#fb9f3a\"], [0.8888888888888888, \"#fdca26\"], [1.0, \"#f0f921\"]], \"type\": \"heatmapgl\"}], \"histogram\": [{\"marker\": {\"colorbar\": {\"outlinewidth\": 0, \"ticks\": \"\"}}, \"type\": \"histogram\"}], \"histogram2d\": [{\"colorbar\": {\"outlinewidth\": 0, \"ticks\": \"\"}, \"colorscale\": [[0.0, \"#0d0887\"], [0.1111111111111111, \"#46039f\"], [0.2222222222222222, \"#7201a8\"], [0.3333333333333333, \"#9c179e\"], [0.4444444444444444, \"#bd3786\"], [0.5555555555555556, \"#d8576b\"], [0.6666666666666666, \"#ed7953\"], [0.7777777777777778, \"#fb9f3a\"], [0.8888888888888888, \"#fdca26\"], [1.0, \"#f0f921\"]], \"type\": \"histogram2d\"}], \"histogram2dcontour\": [{\"colorbar\": {\"outlinewidth\": 0, \"ticks\": \"\"}, \"colorscale\": [[0.0, \"#0d0887\"], [0.1111111111111111, \"#46039f\"], [0.2222222222222222, \"#7201a8\"], [0.3333333333333333, \"#9c179e\"], [0.4444444444444444, \"#bd3786\"], [0.5555555555555556, \"#d8576b\"], [0.6666666666666666, \"#ed7953\"], [0.7777777777777778, \"#fb9f3a\"], [0.8888888888888888, \"#fdca26\"], [1.0, \"#f0f921\"]], \"type\": \"histogram2dcontour\"}], \"mesh3d\": [{\"colorbar\": {\"outlinewidth\": 0, \"ticks\": \"\"}, \"type\": \"mesh3d\"}], \"parcoords\": [{\"line\": {\"colorbar\": {\"outlinewidth\": 0, \"ticks\": \"\"}}, \"type\": \"parcoords\"}], \"pie\": [{\"automargin\": true, \"type\": \"pie\"}], \"scatter\": [{\"marker\": {\"colorbar\": {\"outlinewidth\": 0, \"ticks\": \"\"}}, \"type\": \"scatter\"}], \"scatter3d\": [{\"line\": {\"colorbar\": {\"outlinewidth\": 0, \"ticks\": \"\"}}, \"marker\": {\"colorbar\": {\"outlinewidth\": 0, \"ticks\": \"\"}}, \"type\": \"scatter3d\"}], \"scattercarpet\": [{\"marker\": {\"colorbar\": {\"outlinewidth\": 0, \"ticks\": \"\"}}, \"type\": \"scattercarpet\"}], \"scattergeo\": [{\"marker\": {\"colorbar\": {\"outlinewidth\": 0, \"ticks\": \"\"}}, \"type\": \"scattergeo\"}], \"scattergl\": [{\"marker\": {\"colorbar\": {\"outlinewidth\": 0, \"ticks\": \"\"}}, \"type\": \"scattergl\"}], \"scattermapbox\": [{\"marker\": {\"colorbar\": {\"outlinewidth\": 0, \"ticks\": \"\"}}, \"type\": \"scattermapbox\"}], \"scatterpolar\": [{\"marker\": {\"colorbar\": {\"outlinewidth\": 0, \"ticks\": \"\"}}, \"type\": \"scatterpolar\"}], \"scatterpolargl\": [{\"marker\": {\"colorbar\": {\"outlinewidth\": 0, \"ticks\": \"\"}}, \"type\": \"scatterpolargl\"}], \"scatterternary\": [{\"marker\": {\"colorbar\": {\"outlinewidth\": 0, \"ticks\": \"\"}}, \"type\": \"scatterternary\"}], \"surface\": [{\"colorbar\": {\"outlinewidth\": 0, \"ticks\": \"\"}, \"colorscale\": [[0.0, \"#0d0887\"], [0.1111111111111111, \"#46039f\"], [0.2222222222222222, \"#7201a8\"], [0.3333333333333333, \"#9c179e\"], [0.4444444444444444, \"#bd3786\"], [0.5555555555555556, \"#d8576b\"], [0.6666666666666666, \"#ed7953\"], [0.7777777777777778, \"#fb9f3a\"], [0.8888888888888888, \"#fdca26\"], [1.0, \"#f0f921\"]], \"type\": \"surface\"}], \"table\": [{\"cells\": {\"fill\": {\"color\": \"#EBF0F8\"}, \"line\": {\"color\": \"white\"}}, \"header\": {\"fill\": {\"color\": \"#C8D4E3\"}, \"line\": {\"color\": \"white\"}}, \"type\": \"table\"}]}, \"layout\": {\"annotationdefaults\": {\"arrowcolor\": \"#2a3f5f\", \"arrowhead\": 0, \"arrowwidth\": 1}, \"coloraxis\": {\"colorbar\": {\"outlinewidth\": 0, \"ticks\": \"\"}}, \"colorscale\": {\"diverging\": [[0, \"#8e0152\"], [0.1, \"#c51b7d\"], [0.2, \"#de77ae\"], [0.3, \"#f1b6da\"], [0.4, \"#fde0ef\"], [0.5, \"#f7f7f7\"], [0.6, \"#e6f5d0\"], [0.7, \"#b8e186\"], [0.8, \"#7fbc41\"], [0.9, \"#4d9221\"], [1, \"#276419\"]], \"sequential\": [[0.0, \"#0d0887\"], [0.1111111111111111, \"#46039f\"], [0.2222222222222222, \"#7201a8\"], [0.3333333333333333, \"#9c179e\"], [0.4444444444444444, \"#bd3786\"], [0.5555555555555556, \"#d8576b\"], [0.6666666666666666, \"#ed7953\"], [0.7777777777777778, \"#fb9f3a\"], [0.8888888888888888, \"#fdca26\"], [1.0, \"#f0f921\"]], \"sequentialminus\": [[0.0, \"#0d0887\"], [0.1111111111111111, \"#46039f\"], [0.2222222222222222, \"#7201a8\"], [0.3333333333333333, \"#9c179e\"], [0.4444444444444444, \"#bd3786\"], [0.5555555555555556, \"#d8576b\"], [0.6666666666666666, \"#ed7953\"], [0.7777777777777778, \"#fb9f3a\"], [0.8888888888888888, \"#fdca26\"], [1.0, \"#f0f921\"]]}, \"colorway\": [\"#636efa\", \"#EF553B\", \"#00cc96\", \"#ab63fa\", \"#FFA15A\", \"#19d3f3\", \"#FF6692\", \"#B6E880\", \"#FF97FF\", \"#FECB52\"], \"font\": {\"color\": \"#2a3f5f\"}, \"geo\": {\"bgcolor\": \"white\", \"lakecolor\": \"white\", \"landcolor\": \"#E5ECF6\", \"showlakes\": true, \"showland\": true, \"subunitcolor\": \"white\"}, \"hoverlabel\": {\"align\": \"left\"}, \"hovermode\": \"closest\", \"mapbox\": {\"style\": \"light\"}, \"paper_bgcolor\": \"white\", \"plot_bgcolor\": \"#E5ECF6\", \"polar\": {\"angularaxis\": {\"gridcolor\": \"white\", \"linecolor\": \"white\", \"ticks\": \"\"}, \"bgcolor\": \"#E5ECF6\", \"radialaxis\": {\"gridcolor\": \"white\", \"linecolor\": \"white\", \"ticks\": \"\"}}, \"scene\": {\"xaxis\": {\"backgroundcolor\": \"#E5ECF6\", \"gridcolor\": \"white\", \"gridwidth\": 2, \"linecolor\": \"white\", \"showbackground\": true, \"ticks\": \"\", \"zerolinecolor\": \"white\"}, \"yaxis\": {\"backgroundcolor\": \"#E5ECF6\", \"gridcolor\": \"white\", \"gridwidth\": 2, \"linecolor\": \"white\", \"showbackground\": true, \"ticks\": \"\", \"zerolinecolor\": \"white\"}, \"zaxis\": {\"backgroundcolor\": \"#E5ECF6\", \"gridcolor\": \"white\", \"gridwidth\": 2, \"linecolor\": \"white\", \"showbackground\": true, \"ticks\": \"\", \"zerolinecolor\": \"white\"}}, \"shapedefaults\": {\"line\": {\"color\": \"#2a3f5f\"}}, \"ternary\": {\"aaxis\": {\"gridcolor\": \"white\", \"linecolor\": \"white\", \"ticks\": \"\"}, \"baxis\": {\"gridcolor\": \"white\", \"linecolor\": \"white\", \"ticks\": \"\"}, \"bgcolor\": \"#E5ECF6\", \"caxis\": {\"gridcolor\": \"white\", \"linecolor\": \"white\", \"ticks\": \"\"}}, \"title\": {\"x\": 0.05}, \"xaxis\": {\"automargin\": true, \"gridcolor\": \"white\", \"linecolor\": \"white\", \"ticks\": \"\", \"title\": {\"standoff\": 15}, \"zerolinecolor\": \"white\", \"zerolinewidth\": 2}, \"yaxis\": {\"automargin\": true, \"gridcolor\": \"white\", \"linecolor\": \"white\", \"ticks\": \"\", \"title\": {\"standoff\": 15}, \"zerolinecolor\": \"white\", \"zerolinewidth\": 2}}}, \"xaxis\": {\"anchor\": \"y2\", \"domain\": [0.0, 1.0], \"zeroline\": false}, \"yaxis\": {\"anchor\": \"free\", \"domain\": [0.35, 1], \"position\": 0.0}, \"yaxis2\": {\"anchor\": \"x\", \"domain\": [0, 0.25], \"dtick\": 1, \"showticklabels\": false}},\n",
              "                        {\"responsive\": true}\n",
              "                    ).then(function(){\n",
              "                            \n",
              "var gd = document.getElementById('6b21770a-f038-478a-84a0-756563fe508b');\n",
              "var x = new MutationObserver(function (mutations, observer) {{\n",
              "        var display = window.getComputedStyle(gd).display;\n",
              "        if (!display || display === 'none') {{\n",
              "            console.log([gd, 'removed!']);\n",
              "            Plotly.purge(gd);\n",
              "            observer.disconnect();\n",
              "        }}\n",
              "}});\n",
              "\n",
              "// Listen for the removal of the full notebook cells\n",
              "var notebookContainer = gd.closest('#notebook-container');\n",
              "if (notebookContainer) {{\n",
              "    x.observe(notebookContainer, {childList: true});\n",
              "}}\n",
              "\n",
              "// Listen for the clearing of the current output cell\n",
              "var outputEl = gd.closest('.output');\n",
              "if (outputEl) {{\n",
              "    x.observe(outputEl, {childList: true});\n",
              "}}\n",
              "\n",
              "                        })\n",
              "                };\n",
              "                \n",
              "            </script>\n",
              "        </div>\n",
              "</body>\n",
              "</html>"
            ]
          },
          "metadata": {
            "tags": []
          }
        }
      ]
    },
    {
      "cell_type": "markdown",
      "metadata": {
        "id": "f1AWVYfSe_93",
        "colab_type": "text"
      },
      "source": [
        "## **Boxplots**"
      ]
    },
    {
      "cell_type": "markdown",
      "metadata": {
        "id": "BErsWwsZfTxG",
        "colab_type": "text"
      },
      "source": [
        "#### A boxplot is a simple way of representing statistical data on a plot in which a rectangle is drawn to represent the second and third quartiles, usually with a vertical line inside to indicate the median value.\n",
        "#### The lower and upper quartiles are shown as horizontal lines either side of the rectangle."
      ]
    },
    {
      "cell_type": "code",
      "metadata": {
        "id": "nfu1Dqr8cF7C",
        "colab_type": "code",
        "colab": {
          "base_uri": "https://localhost:8080/",
          "height": 542
        },
        "outputId": "67f939cb-aa39-4d98-d8ab-70b2c8867936"
      },
      "source": [
        "trace0 = go.Box(y=df[\"radius_mean\"],name=\"radius_mean\")\n",
        "trace1 = go.Box(y=df[\"texture_mean\"],name=\"texture_mean\")\n",
        "trace2 = go.Box(y=df[\"perimeter_mean\"],name=\"perimeter_mean\")\n",
        "trace3 = go.Box(y=df[\"area_mean\"],name=\"area_mean\")\n",
        "trace4 = go.Box(y=df[\"smoothness_mean\"],name=\"smoothness_mean\")\n",
        "trace5 = go.Box(y=df[\"compactness_mean\"],name=\"compactness_mean\")\n",
        "data = [trace0, trace1, trace2,trace3, trace4, trace5]\n",
        "iplot(data)"
      ],
      "execution_count": 13,
      "outputs": [
        {
          "output_type": "display_data",
          "data": {
            "text/html": [
              "<html>\n",
              "<head><meta charset=\"utf-8\" /></head>\n",
              "<body>\n",
              "    <div>\n",
              "            <script src=\"https://cdnjs.cloudflare.com/ajax/libs/mathjax/2.7.5/MathJax.js?config=TeX-AMS-MML_SVG\"></script><script type=\"text/javascript\">if (window.MathJax) {MathJax.Hub.Config({SVG: {font: \"STIX-Web\"}});}</script>\n",
              "                <script type=\"text/javascript\">window.PlotlyConfig = {MathJaxConfig: 'local'};</script>\n",
              "        <script src=\"https://cdn.plot.ly/plotly-latest.min.js\"></script>    \n",
              "            <div id=\"6ffe1d49-18fb-4b8f-b2ff-5f4cc950b6dc\" class=\"plotly-graph-div\" style=\"height:525px; width:100%;\"></div>\n",
              "            <script type=\"text/javascript\">\n",
              "                \n",
              "                    window.PLOTLYENV=window.PLOTLYENV || {};\n",
              "                    \n",
              "                if (document.getElementById(\"6ffe1d49-18fb-4b8f-b2ff-5f4cc950b6dc\")) {\n",
              "                    Plotly.newPlot(\n",
              "                        '6ffe1d49-18fb-4b8f-b2ff-5f4cc950b6dc',\n",
              "                        [{\"name\": \"radius_mean\", \"type\": \"box\", \"y\": [17.99, 20.57, 19.69, 11.42, 20.29, 12.45, 18.25, 13.71, 13.0, 12.46, 16.02, 15.78, 19.17, 15.85, 13.73, 14.54, 14.68, 16.13, 19.81, 13.54, 13.08, 9.504, 15.34, 21.16, 16.65, 17.14, 14.58, 18.61, 15.3, 17.57, 18.63, 11.84, 17.02, 19.27, 16.13, 16.74, 14.25, 13.03, 14.99, 13.48, 13.44, 10.95, 19.07, 13.28, 13.17, 18.65, 8.196, 13.17, 12.05, 13.49, 11.76, 13.64, 11.94, 18.22, 15.1, 11.52, 19.21, 14.71, 13.05, 8.618, 10.17, 8.597999999999999, 14.25, 9.173, 12.68, 14.78, 9.465, 11.31, 9.029, 12.78, 18.94, 8.888, 17.2, 13.8, 12.31, 16.07, 13.53, 18.05, 20.18, 12.86, 11.45, 13.34, 25.22, 19.1, 12.0, 18.46, 14.48, 19.02, 12.36, 14.64, 14.62, 15.37, 13.27, 13.45, 15.06, 20.26, 12.18, 9.787, 11.6, 14.42, 13.61, 6.981, 12.18, 9.876, 10.49, 13.11, 11.64, 12.36, 22.27, 11.34, 9.777000000000001, 12.63, 14.26, 10.51, 8.726, 11.93, 8.95, 14.87, 15.78, 17.95, 11.41, 18.66, 24.25, 14.5, 13.37, 13.85, 13.61, 19.0, 15.1, 19.79, 12.19, 15.46, 16.16, 15.71, 18.45, 12.77, 11.71, 11.43, 14.95, 11.28, 9.738, 16.11, 11.43, 12.9, 10.75, 11.9, 11.8, 14.95, 14.44, 13.74, 13.0, 8.219, 9.731, 11.15, 13.15, 12.25, 17.68, 16.84, 12.06, 10.9, 11.75, 19.19, 19.59, 12.34, 23.27, 14.97, 10.8, 16.78, 17.47, 14.97, 12.32, 13.43, 15.46, 11.08, 10.66, 8.671, 9.904, 16.46, 13.01, 12.81, 27.22, 21.09, 15.7, 11.41, 15.28, 10.08, 18.31, 11.71, 11.81, 12.3, 14.22, 12.77, 9.72, 12.34, 14.86, 12.91, 13.77, 18.08, 19.18, 14.45, 12.23, 17.54, 23.29, 13.81, 12.47, 15.12, 9.876, 17.01, 13.11, 15.27, 20.58, 11.84, 28.11, 17.42, 14.19, 13.86, 11.89, 10.2, 19.8, 19.53, 13.65, 13.56, 10.18, 15.75, 13.27, 14.34, 10.44, 15.0, 12.62, 12.83, 17.05, 11.32, 11.22, 20.51, 9.567, 14.03, 23.21, 20.48, 14.22, 17.46, 13.64, 12.42, 11.3, 13.75, 19.4, 10.48, 13.2, 12.89, 10.65, 11.52, 20.94, 11.5, 19.73, 17.3, 19.45, 13.96, 19.55, 15.32, 15.66, 15.53, 20.31, 17.35, 17.29, 15.61, 17.19, 20.73, 10.6, 13.59, 12.87, 10.71, 14.29, 11.29, 21.75, 9.742, 17.93, 11.89, 11.33, 18.81, 13.59, 13.85, 19.16, 11.74, 19.4, 16.24, 12.89, 12.58, 11.94, 12.89, 11.26, 11.37, 14.41, 14.96, 12.95, 11.85, 12.72, 13.77, 10.91, 11.76, 14.26, 10.51, 19.53, 12.46, 20.09, 10.49, 11.46, 11.6, 13.2, 9.0, 13.5, 13.05, 11.7, 14.61, 12.76, 11.54, 8.597000000000001, 12.49, 12.18, 18.22, 9.042, 12.43, 10.25, 20.16, 12.86, 20.34, 12.2, 12.67, 14.11, 12.03, 16.27, 16.26, 16.03, 12.98, 11.22, 11.25, 12.3, 17.06, 12.99, 18.77, 10.05, 23.51, 14.42, 9.606, 11.06, 19.68, 11.71, 10.26, 12.06, 14.76, 11.47, 11.95, 11.66, 15.75, 25.73, 15.08, 11.14, 12.56, 13.05, 13.87, 8.878, 9.436, 12.54, 13.3, 12.76, 16.5, 13.4, 20.44, 20.2, 12.21, 21.71, 22.01, 16.35, 15.19, 21.37, 20.64, 13.69, 16.17, 10.57, 13.46, 13.66, 11.08, 11.27, 11.04, 12.05, 12.39, 13.28, 14.6, 12.21, 13.88, 11.27, 19.55, 10.26, 8.734, 15.49, 21.61, 12.1, 14.06, 13.51, 12.8, 11.06, 11.8, 17.91, 11.93, 12.96, 12.94, 12.34, 10.94, 16.14, 12.85, 17.99, 12.27, 11.36, 11.04, 9.397, 14.99, 15.13, 11.89, 9.405, 15.5, 12.7, 11.16, 11.57, 14.69, 11.61, 13.66, 9.742, 10.03, 10.48, 10.8, 11.13, 12.72, 14.9, 12.4, 20.18, 18.82, 14.86, 13.98, 12.87, 14.04, 13.85, 14.02, 10.97, 17.27, 13.78, 10.57, 18.03, 11.99, 17.75, 14.8, 14.53, 21.1, 11.87, 19.59, 12.0, 14.53, 12.62, 13.38, 11.63, 13.21, 13.0, 9.755, 17.08, 27.42, 14.4, 11.6, 13.17, 13.24, 13.14, 9.668, 17.6, 11.62, 9.667, 12.04, 14.92, 12.27, 10.88, 12.83, 14.2, 13.9, 11.49, 16.25, 12.16, 13.9, 13.47, 13.7, 15.73, 12.45, 14.64, 19.44, 11.68, 16.69, 12.25, 17.85, 18.01, 12.46, 13.16, 14.87, 12.65, 12.47, 18.49, 20.59, 15.04, 13.82, 12.54, 23.09, 9.267999999999999, 9.676, 12.22, 11.06, 16.3, 15.46, 11.74, 14.81, 13.4, 14.58, 15.05, 11.34, 18.31, 19.89, 12.88, 12.75, 9.295, 24.63, 11.26, 13.71, 9.847000000000001, 8.571, 13.46, 12.34, 13.94, 12.07, 11.75, 11.67, 13.68, 20.47, 10.96, 20.55, 14.27, 11.69, 7.729, 7.691, 11.54, 14.47, 14.74, 13.21, 13.87, 13.62, 10.32, 10.26, 9.683, 10.82, 10.86, 11.13, 12.77, 9.333, 12.88, 10.29, 10.16, 9.423, 14.59, 11.51, 14.05, 11.2, 15.22, 20.92, 21.56, 20.13, 16.6, 20.6, 7.76]}, {\"name\": \"texture_mean\", \"type\": \"box\", \"y\": [10.38, 17.77, 21.25, 20.38, 14.34, 15.7, 19.98, 20.83, 21.82, 24.04, 23.24, 17.89, 24.8, 23.95, 22.61, 27.54, 20.13, 20.68, 22.15, 14.36, 15.71, 12.44, 14.26, 23.04, 21.38, 16.4, 21.53, 20.25, 25.27, 15.05, 25.11, 18.7, 23.98, 26.47, 17.88, 21.59, 21.72, 18.42, 25.2, 20.82, 21.58, 21.35, 24.81, 20.28, 21.81, 17.6, 16.84, 18.66, 14.63, 22.3, 21.6, 16.34, 18.24, 18.7, 22.02, 18.75, 18.57, 21.59, 19.31, 11.79, 14.88, 20.98, 22.15, 13.86, 23.84, 23.94, 21.01, 19.04, 17.33, 16.49, 21.31, 14.64, 24.52, 15.79, 16.52, 19.65, 10.94, 16.15, 23.97, 18.0, 20.97, 15.86, 24.91, 26.29, 15.65, 18.52, 21.46, 24.59, 21.8, 15.24, 24.02, 22.76, 14.76, 18.3, 19.83, 23.03, 17.84, 19.94, 12.84, 19.77, 24.98, 13.43, 20.52, 19.4, 19.29, 15.56, 18.33, 18.54, 19.67, 21.26, 16.99, 20.76, 19.65, 20.19, 15.83, 21.53, 15.76, 16.67, 22.91, 20.01, 10.82, 17.12, 20.2, 10.89, 16.39, 17.21, 24.69, 18.91, 16.39, 25.12, 13.29, 19.48, 21.54, 13.93, 21.91, 22.47, 16.67, 15.39, 17.57, 13.39, 11.97, 18.05, 17.31, 15.92, 14.97, 14.65, 16.58, 18.77, 15.18, 17.91, 20.78, 20.7, 15.34, 13.08, 15.34, 17.94, 20.74, 19.46, 12.74, 12.96, 20.18, 15.94, 18.15, 22.22, 22.04, 19.76, 9.71, 18.8, 24.68, 16.95, 12.39, 19.63, 11.89, 14.71, 15.15, 14.45, 18.06, 20.11, 22.22, 13.06, 21.87, 26.57, 20.31, 14.92, 22.41, 15.11, 18.58, 17.19, 17.39, 15.9, 23.12, 21.41, 18.22, 26.86, 23.21, 16.33, 22.29, 21.84, 22.49, 20.22, 19.56, 19.32, 26.67, 23.75, 18.6, 16.68, 17.27, 20.26, 22.54, 12.91, 22.14, 18.94, 18.47, 25.56, 23.81, 16.93, 18.35, 17.48, 21.56, 32.47, 13.16, 13.9, 17.53, 20.25, 17.02, 13.47, 15.46, 15.51, 23.97, 22.33, 19.08, 27.08, 33.81, 27.81, 15.91, 21.25, 26.97, 21.46, 27.85, 39.28, 15.6, 15.04, 18.19, 23.77, 23.5, 19.86, 17.43, 14.11, 25.22, 14.93, 23.56, 18.45, 19.82, 17.08, 19.33, 17.05, 28.77, 17.27, 23.2, 33.56, 27.06, 23.06, 22.13, 19.38, 22.07, 31.12, 18.95, 21.84, 16.21, 20.39, 16.82, 13.04, 20.99, 15.67, 24.48, 17.36, 14.16, 19.98, 17.84, 15.18, 26.6, 14.02, 18.18, 18.77, 15.7, 18.4, 20.76, 13.12, 19.96, 18.89, 19.73, 19.1, 16.02, 17.46, 13.78, 13.27, 12.35, 18.14, 18.17, 23.09, 18.9, 19.89, 23.86, 18.61, 18.16, 24.49, 15.82, 14.4, 12.71, 13.84, 19.11, 15.69, 13.37, 10.72, 18.6, 16.85, 14.08, 18.87, 18.9, 17.0, 16.18, 19.66, 13.32, 21.51, 15.21, 17.3, 12.88, 17.93, 20.71, 21.88, 15.51, 19.35, 19.86, 14.78, 19.02, 21.0, 14.23, 21.43, 17.53, 24.27, 16.54, 16.84, 14.96, 21.68, 15.45, 14.71, 18.9, 14.74, 16.03, 14.96, 17.07, 19.22, 17.46, 25.74, 14.07, 19.07, 18.59, 16.21, 15.49, 18.32, 18.07, 21.57, 18.84, 18.29, 16.95, 21.78, 26.83, 18.02, 17.25, 21.9, 23.29, 13.21, 15.1, 17.35, 16.07, 16.07, 20.22, 28.21, 15.15, 18.83, 12.96, 14.93, 22.72, 17.48, 13.72, 23.29, 14.09, 16.16, 15.5, 23.21, 12.22, 16.84, 19.97, 22.28, 17.72, 17.18, 18.89, 17.46, 14.83, 17.26, 21.02, 10.91, 18.29, 16.17, 14.95, 18.59, 14.86, 21.37, 20.66, 17.92, 17.57, 16.83, 21.68, 22.11, 29.81, 21.17, 21.7, 21.08, 12.17, 21.41, 19.04, 13.98, 16.02, 19.13, 19.12, 21.28, 14.98, 21.98, 16.62, 17.67, 22.53, 17.68, 19.54, 21.97, 16.94, 19.62, 19.54, 15.98, 19.6, 15.66, 17.2, 25.42, 15.79, 18.32, 16.85, 24.89, 28.03, 17.66, 19.34, 20.52, 21.54, 25.0, 28.23, 13.98, 17.15, 30.72, 29.29, 25.25, 25.13, 28.2, 27.15, 26.27, 26.99, 18.36, 18.22, 20.13, 20.74, 18.1, 23.33, 18.18, 18.49, 28.14, 14.93, 29.97, 15.62, 15.73, 20.53, 16.62, 14.59, 19.51, 18.03, 19.24, 14.06, 17.64, 11.28, 16.41, 16.85, 18.82, 16.17, 20.2, 22.44, 13.23, 20.56, 12.83, 20.54, 20.21, 18.17, 17.31, 17.52, 21.24, 16.74, 24.49, 16.32, 19.83, 12.87, 13.14, 20.04, 17.12, 15.7, 23.95, 14.69, 14.7, 20.52, 13.66, 19.07, 18.61, 20.58, 20.26, 18.22, 16.7, 13.9, 21.6, 19.83, 18.68, 15.68, 13.1, 18.75, 12.27, 13.17, 13.44, 17.56, 20.02, 16.33, 20.67, 17.62, 20.86, 22.55, 24.44, 25.49, 25.44, 14.44, 24.99, 25.42, 28.06, 20.7, 23.23, 16.35, 16.58, 19.34, 24.21, 21.48, 22.44, 29.43, 21.94, 28.92, 27.61, 19.59, 27.88, 22.68, 23.93, 27.15, 29.37, 30.62, 25.09, 22.39, 28.25, 28.08, 29.33, 24.54]}, {\"name\": \"perimeter_mean\", \"type\": \"box\", \"y\": [122.8, 132.9, 130.0, 77.58, 135.1, 82.57, 119.6, 90.2, 87.5, 83.97, 102.7, 103.6, 132.4, 103.7, 93.6, 96.73, 94.74, 108.1, 130.0, 87.46, 85.63, 60.34, 102.5, 137.2, 110.0, 116.0, 97.41, 122.1, 102.4, 115.0, 124.8, 77.93, 112.8, 127.9, 107.0, 110.1, 93.63, 82.61, 95.54, 88.4, 86.18, 71.9, 128.3, 87.32, 85.42, 123.7, 51.71, 85.98, 78.04, 86.91, 74.72, 87.21, 75.71, 120.3, 97.26, 73.34, 125.5, 95.55, 82.61, 54.34, 64.55, 54.66, 96.42, 59.2, 82.69, 97.4, 60.11, 71.8, 58.79, 81.37, 123.6, 58.79, 114.2, 90.43, 79.19, 104.1, 87.91, 120.2, 143.7, 83.19, 73.81, 86.49, 171.5, 129.1, 76.95, 121.1, 94.25, 122.0, 79.78, 95.77, 94.57, 100.2, 84.74, 86.6, 100.3, 132.4, 77.79, 62.11, 74.34, 94.48, 88.05, 43.79, 77.22, 63.95, 67.41, 87.21, 75.17, 79.01, 152.8, 72.48, 62.5, 82.15, 97.83, 68.64, 55.84, 76.53, 58.74, 98.64, 105.7, 114.2, 73.34, 121.4, 166.2, 94.28, 86.1, 88.44, 87.76, 123.4, 99.58, 130.4, 79.08, 101.7, 106.2, 102.0, 120.2, 81.72, 74.72, 73.06, 96.85, 73.0, 61.24, 105.1, 73.66, 83.74, 68.26, 78.11, 78.99, 97.84, 93.97, 88.12, 83.51, 53.27, 63.78, 70.87, 85.31, 78.27, 117.4, 108.4, 76.84, 68.69, 76.1, 126.3, 130.7, 79.85, 152.1, 95.5, 68.77, 109.3, 116.1, 96.22, 78.85, 85.84, 102.5, 70.21, 67.49, 54.42, 64.6, 109.3, 82.01, 81.29, 182.1, 142.7, 101.2, 73.53, 98.92, 63.76, 118.6, 74.68, 75.27, 78.83, 94.37, 82.02, 60.73, 81.15, 100.4, 82.53, 90.63, 117.4, 127.5, 94.49, 78.54, 115.1, 158.9, 91.56, 81.09, 98.78, 62.92, 109.7, 87.02, 98.17, 134.7, 75.51, 188.5, 114.5, 92.87, 90.96, 77.32, 65.05, 129.7, 128.0, 87.88, 88.59, 65.12, 102.6, 84.55, 92.51, 66.62, 97.45, 81.35, 85.26, 113.4, 71.76, 70.79, 134.4, 60.21, 89.79, 153.5, 132.5, 92.55, 113.4, 87.38, 78.61, 73.93, 88.54, 129.1, 66.72, 84.13, 84.95, 68.01, 73.87, 138.9, 73.28, 130.7, 113.0, 126.5, 91.43, 133.6, 103.2, 110.2, 103.7, 132.9, 111.0, 114.4, 100.0, 111.6, 135.7, 69.28, 87.16, 82.38, 69.5, 90.3, 72.23, 147.3, 61.5, 115.2, 76.2, 71.79, 120.9, 86.24, 88.99, 126.2, 74.24, 127.2, 108.8, 84.08, 79.83, 77.87, 81.89, 73.72, 72.17, 96.03, 97.03, 83.14, 75.54, 81.78, 88.06, 69.14, 75.0, 91.22, 66.85, 129.5, 80.43, 134.7, 66.86, 73.59, 74.23, 84.07, 56.36, 85.69, 82.71, 74.33, 92.68, 82.29, 73.73, 54.09, 79.19, 77.25, 118.7, 60.07, 78.6, 66.52, 131.1, 82.82, 135.9, 78.01, 81.25, 90.03, 76.09, 106.9, 107.5, 105.8, 84.52, 71.94, 71.38, 77.88, 111.8, 84.08, 122.9, 64.41, 155.1, 94.15, 61.64, 71.49, 129.9, 75.03, 66.2, 76.66, 94.87, 73.02, 77.23, 73.7, 107.1, 174.2, 98.0, 71.24, 81.92, 85.09, 88.52, 56.74, 59.82, 79.42, 85.24, 81.87, 106.6, 85.48, 133.8, 133.7, 78.31, 140.9, 147.2, 109.0, 97.65, 141.3, 134.8, 87.84, 106.3, 70.15, 85.89, 88.27, 73.3, 73.16, 70.67, 78.75, 80.64, 85.79, 93.97, 78.78, 88.37, 73.38, 128.9, 65.75, 55.27, 102.4, 144.4, 78.07, 89.75, 88.1, 83.05, 70.31, 75.26, 124.4, 76.14, 84.18, 83.18, 78.29, 70.39, 104.3, 82.63, 117.8, 78.41, 72.49, 70.92, 59.75, 97.53, 96.71, 76.39, 59.6, 102.9, 80.88, 70.95, 74.2, 98.22, 75.46, 89.46, 61.93, 63.19, 67.49, 68.79, 70.47, 80.98, 102.1, 81.47, 133.8, 123.7, 94.89, 91.12, 82.67, 89.78, 88.68, 89.59, 71.73, 112.4, 88.37, 66.82, 117.5, 77.61, 117.3, 95.88, 94.25, 138.1, 76.83, 127.7, 76.77, 93.86, 80.62, 86.34, 74.87, 84.1, 82.61, 61.68, 111.2, 186.9, 92.25, 73.88, 84.28, 86.87, 85.98, 61.06, 119.0, 76.38, 61.49, 76.85, 96.45, 77.42, 70.41, 82.89, 92.41, 88.97, 73.99, 109.8, 78.29, 88.73, 87.32, 87.76, 102.8, 82.85, 94.21, 128.1, 75.49, 107.1, 78.18, 114.6, 118.4, 78.83, 84.06, 96.12, 82.69, 80.45, 121.3, 137.8, 98.73, 92.33, 81.25, 152.1, 61.49, 64.12, 79.47, 71.25, 104.7, 103.8, 76.31, 94.66, 88.64, 94.29, 97.26, 72.76, 120.8, 130.5, 84.45, 82.51, 59.96, 165.5, 71.3, 88.73, 63.0, 54.53, 87.44, 78.94, 90.31, 77.83, 75.89, 75.21, 87.76, 134.7, 70.79, 137.8, 93.77, 76.37, 47.98, 48.34, 74.65, 95.81, 94.7, 84.88, 89.77, 87.19, 65.31, 65.85, 61.05, 68.89, 68.51, 71.49, 81.35, 59.01, 82.5, 65.67, 64.73, 59.26, 96.39, 74.52, 91.38, 70.67, 103.4, 143.0, 142.0, 131.2, 108.3, 140.1, 47.92]}, {\"name\": \"area_mean\", \"type\": \"box\", \"y\": [1001.0, 1326.0, 1203.0, 386.1, 1297.0, 477.1, 1040.0, 577.9, 519.8, 475.9, 797.8, 781.0, 1123.0, 782.7, 578.3, 658.8, 684.5, 798.8, 1260.0, 566.3, 520.0, 273.9, 704.4, 1404.0, 904.6, 912.7, 644.8, 1094.0, 732.4, 955.1, 1088.0, 440.6, 899.3, 1162.0, 807.2, 869.5, 633.0, 523.8, 698.8, 559.2, 563.0, 371.1, 1104.0, 545.2, 531.5, 1076.0, 201.9, 534.6, 449.3, 561.0, 427.9, 571.8, 437.6, 1033.0, 712.8, 409.0, 1152.0, 656.9, 527.2, 224.5, 311.9, 221.8, 645.7, 260.9, 499.0, 668.3, 269.4, 394.1, 250.5, 502.5, 1130.0, 244.0, 929.4, 584.1, 470.9, 817.7, 559.2, 1006.0, 1245.0, 506.3, 401.5, 520.0, 1878.0, 1132.0, 443.3, 1075.0, 648.2, 1076.0, 466.1, 651.9, 662.7, 728.2, 551.7, 555.1, 705.6, 1264.0, 451.1, 294.5, 412.6, 642.5, 582.7, 143.5, 458.7, 298.3, 336.1, 530.2, 412.5, 466.7, 1509.0, 396.5, 290.2, 480.4, 629.9, 334.2, 230.9, 438.6, 245.2, 682.5, 782.6, 982.0, 403.3, 1077.0, 1761.0, 640.7, 553.5, 588.7, 572.6, 1138.0, 674.5, 1192.0, 455.8, 748.9, 809.8, 761.7, 1075.0, 506.3, 423.6, 399.8, 678.1, 384.8, 288.5, 813.0, 398.0, 512.2, 355.3, 432.8, 432.0, 689.5, 640.1, 585.0, 519.4, 203.9, 300.2, 381.9, 538.9, 460.3, 963.7, 880.2, 448.6, 366.8, 419.8, 1157.0, 1214.0, 464.5, 1686.0, 690.2, 357.6, 886.3, 984.6, 685.9, 464.1, 565.4, 736.9, 372.7, 349.6, 227.2, 302.4, 832.9, 526.4, 508.8, 2250.0, 1311.0, 766.6, 402.0, 710.6, 317.5, 1041.0, 420.3, 428.9, 463.7, 609.9, 507.4, 288.1, 477.4, 671.4, 516.4, 588.9, 1024.0, 1148.0, 642.7, 461.0, 951.6, 1685.0, 597.8, 481.9, 716.6, 295.4, 904.3, 529.4, 725.5, 1290.0, 428.0, 2499.0, 948.0, 610.7, 578.9, 432.2, 321.2, 1230.0, 1223.0, 568.9, 561.3, 313.1, 761.3, 546.4, 641.2, 329.6, 684.5, 496.4, 503.2, 895.0, 395.7, 386.8, 1319.0, 279.6, 603.4, 1670.0, 1306.0, 623.9, 920.6, 575.3, 476.5, 389.4, 590.0, 1155.0, 337.7, 541.6, 512.2, 347.0, 406.3, 1364.0, 407.4, 1206.0, 928.2, 1169.0, 602.4, 1207.0, 713.3, 773.5, 744.9, 1288.0, 933.1, 947.8, 758.6, 928.3, 1419.0, 346.4, 561.0, 512.2, 344.9, 632.6, 388.0, 1491.0, 289.9, 998.9, 435.6, 396.6, 1102.0, 572.3, 587.4, 1138.0, 427.3, 1145.0, 805.1, 516.6, 489.0, 441.0, 515.9, 394.1, 396.0, 651.0, 687.3, 513.7, 432.7, 492.1, 582.7, 363.7, 431.1, 633.1, 334.2, 1217.0, 471.3, 1247.0, 334.3, 403.1, 417.2, 537.3, 246.3, 566.2, 530.6, 418.7, 664.9, 504.1, 409.1, 221.2, 481.6, 461.4, 1027.0, 244.5, 477.3, 324.2, 1274.0, 504.8, 1264.0, 457.9, 489.9, 616.5, 446.0, 813.7, 826.8, 793.2, 514.0, 387.3, 390.0, 464.4, 918.6, 514.3, 1092.0, 310.8, 1747.0, 641.2, 280.5, 373.9, 1194.0, 420.3, 321.6, 445.3, 668.7, 402.7, 426.7, 421.0, 758.6, 2010.0, 716.6, 384.6, 485.8, 512.0, 593.7, 241.0, 278.6, 491.9, 546.1, 496.6, 838.1, 552.4, 1293.0, 1234.0, 458.4, 1546.0, 1482.0, 840.4, 711.8, 1386.0, 1335.0, 579.1, 788.5, 338.3, 562.1, 580.6, 361.6, 386.3, 372.7, 447.8, 462.9, 541.8, 664.7, 462.0, 596.6, 392.0, 1174.0, 321.6, 234.3, 744.7, 1407.0, 446.2, 609.1, 558.1, 508.3, 378.2, 431.9, 994.0, 442.7, 525.2, 507.6, 469.1, 370.0, 800.0, 514.5, 991.7, 466.1, 399.8, 373.2, 268.8, 693.7, 719.5, 433.8, 271.2, 803.1, 495.0, 380.3, 409.7, 656.1, 408.2, 575.3, 289.7, 307.3, 333.6, 359.9, 381.1, 501.3, 685.0, 467.8, 1250.0, 1110.0, 673.7, 599.5, 509.2, 611.2, 592.6, 606.5, 371.5, 928.8, 585.9, 340.9, 990.0, 441.3, 981.6, 674.8, 659.7, 1384.0, 432.0, 1191.0, 442.5, 644.2, 492.9, 557.2, 415.1, 537.9, 520.2, 290.9, 930.9, 2501.0, 646.1, 412.7, 537.3, 542.9, 536.9, 286.3, 980.5, 408.8, 289.1, 449.9, 686.9, 465.4, 358.9, 506.9, 618.4, 599.4, 404.9, 815.8, 455.3, 602.9, 546.3, 571.1, 747.2, 476.7, 666.0, 1167.0, 420.5, 857.6, 466.5, 992.1, 1007.0, 477.3, 538.7, 680.9, 485.6, 480.1, 1068.0, 1320.0, 689.4, 595.9, 476.3, 1682.0, 248.7, 272.5, 453.1, 366.5, 819.8, 731.3, 426.0, 680.7, 556.7, 658.8, 701.9, 391.2, 1052.0, 1214.0, 493.1, 493.8, 257.8, 1841.0, 388.1, 571.0, 293.2, 221.3, 551.1, 468.5, 594.2, 445.2, 422.9, 416.2, 575.5, 1299.0, 365.6, 1308.0, 629.8, 406.4, 178.8, 170.4, 402.9, 656.4, 668.6, 538.4, 584.8, 573.2, 324.9, 320.8, 285.7, 361.6, 360.5, 378.4, 507.9, 264.0, 514.3, 321.4, 311.7, 271.3, 657.1, 403.5, 600.4, 386.0, 716.9, 1347.0, 1479.0, 1261.0, 858.1, 1265.0, 181.0]}, {\"name\": \"smoothness_mean\", \"type\": \"box\", \"y\": [0.1184, 0.08474, 0.1096, 0.1425, 0.1003, 0.1278, 0.09462999999999999, 0.1189, 0.1273, 0.1186, 0.08206000000000001, 0.0971, 0.0974, 0.08401, 0.1131, 0.1139, 0.09867000000000001, 0.11699999999999999, 0.09831000000000001, 0.09779, 0.1075, 0.1024, 0.1073, 0.09427999999999999, 0.1121, 0.1186, 0.1054, 0.0944, 0.1082, 0.09847, 0.1064, 0.1109, 0.1197, 0.09401, 0.10400000000000001, 0.0961, 0.09823, 0.08983, 0.09387000000000001, 0.1016, 0.08162, 0.1227, 0.09081, 0.1041, 0.09714, 0.1099, 0.086, 0.1158, 0.1031, 0.08752, 0.08637, 0.07685, 0.08261, 0.1148, 0.09056, 0.09523999999999999, 0.1053, 0.1137, 0.0806, 0.09752000000000001, 0.1134, 0.1243, 0.1049, 0.07721, 0.1122, 0.1172, 0.1044, 0.08139, 0.1066, 0.09831000000000001, 0.09009, 0.09783, 0.1071, 0.1007, 0.09172000000000001, 0.09168, 0.1291, 0.1065, 0.1286, 0.09934, 0.1102, 0.1078, 0.1063, 0.1215, 0.09723, 0.09874, 0.09444, 0.09029, 0.08772, 0.1132, 0.08974, 0.092, 0.07355, 0.1022, 0.1039, 0.09078, 0.1045, 0.1024, 0.08983, 0.09752000000000001, 0.09487999999999999, 0.11699999999999999, 0.08012999999999999, 0.1005, 0.09988999999999999, 0.1398, 0.1142, 0.08477, 0.1326, 0.08759, 0.1037, 0.09933, 0.07837000000000001, 0.1122, 0.115, 0.09767999999999999, 0.09462000000000001, 0.1162, 0.1155, 0.08402000000000001, 0.09373, 0.1054, 0.1447, 0.1101, 0.07115, 0.08785, 0.09258, 0.08217, 0.115, 0.1015, 0.1066, 0.1092, 0.1008, 0.09462000000000001, 0.0943, 0.09055, 0.1051, 0.09639, 0.1167, 0.1164, 0.0925, 0.09721, 0.1092, 0.08677, 0.07793, 0.1152, 0.1091, 0.08138, 0.0997, 0.07944, 0.1135, 0.09405, 0.1072, 0.09754, 0.09383999999999999, 0.08653999999999999, 0.1115, 0.07445, 0.09311, 0.07515, 0.1089, 0.08694, 0.11199999999999999, 0.1012, 0.08438999999999999, 0.08421000000000001, 0.09594, 0.08865, 0.1049, 0.09855, 0.1028, 0.09047999999999999, 0.1257, 0.1006, 0.08792, 0.09137999999999999, 0.09698999999999999, 0.09831000000000001, 0.06251, 0.08739, 0.1094, 0.1141, 0.09597, 0.09059, 0.09057, 0.09267, 0.08588, 0.09774, 0.1007, 0.0808, 0.1075, 0.08749, 0.0695, 0.1034, 0.1044, 0.07941000000000001, 0.12, 0.07371, 0.08523, 0.09872, 0.09586, 0.08968, 0.1141, 0.1323, 0.09965, 0.08876, 0.1089, 0.08772, 0.1002, 0.08182, 0.0909, 0.08871, 0.1142, 0.1006, 0.09462999999999999, 0.1026, 0.09362999999999999, 0.08054, 0.09383, 0.0842, 0.09646, 0.1051, 0.1061, 0.1025, 0.08445, 0.09906000000000001, 0.1053, 0.08371, 0.07902999999999999, 0.1088, 0.1141, 0.06883, 0.0778, 0.09158999999999999, 0.08463999999999999, 0.0907, 0.09509, 0.08355, 0.08223, 0.09812, 0.09423, 0.07926, 0.09592, 0.08043, 0.1027, 0.107, 0.07215, 0.0876, 0.09657, 0.1013, 0.1007, 0.09345, 0.1062, 0.1008, 0.1035, 0.1096, 0.0926, 0.1335, 0.1109, 0.1063, 0.1, 0.08662, 0.08999, 0.0784, 0.09726, 0.09469, 0.09688, 0.07956, 0.09425, 0.1082, 0.06429, 0.09834, 0.09401, 0.09037, 0.08855, 0.1225, 0.09379, 0.08922999999999999, 0.07948, 0.09516000000000001, 0.102, 0.07812999999999999, 0.1037, 0.1066, 0.07818, 0.08392999999999999, 0.08605, 0.06955, 0.0802, 0.08713, 0.08757000000000001, 0.08992, 0.1005, 0.08372, 0.09667, 0.09197999999999999, 0.08517999999999999, 0.09967999999999999, 0.06576, 0.1015, 0.115, 0.08451, 0.10800000000000001, 0.1068, 0.08853, 0.07474, 0.08511, 0.07005, 0.07376, 0.08352000000000001, 0.08814, 0.07618, 0.08794, 0.08597, 0.1074, 0.08511, 0.07733999999999999, 0.09746, 0.09967999999999999, 0.07557, 0.1061, 0.0802, 0.1134, 0.11699999999999999, 0.08673, 0.1028, 0.09308999999999999, 0.07683, 0.1169, 0.1165, 0.09491000000000001, 0.09579, 0.1054, 0.08306000000000001, 0.08313, 0.1119, 0.09462000000000001, 0.09116, 0.1007, 0.1069, 0.09751, 0.08481, 0.1033, 0.09797, 0.115, 0.09882, 0.08386, 0.08875, 0.09076000000000001, 0.1158, 0.07561, 0.1243, 0.1149, 0.1024, 0.07274, 0.0876, 0.1082, 0.08743, 0.08292999999999999, 0.1009, 0.07436, 0.08582000000000001, 0.09676, 0.09686, 0.07937000000000001, 0.0915, 0.09905, 0.09231, 0.09383999999999999, 0.1063, 0.09742, 0.07962999999999999, 0.1001, 0.09446, 0.08302000000000001, 0.0988, 0.09072999999999999, 0.07517, 0.08267999999999999, 0.1216, 0.1237, 0.07987000000000001, 0.06935, 0.1042, 0.08363, 0.08682000000000001, 0.08108, 0.07026, 0.08365, 0.10099999999999999, 0.09996000000000001, 0.1039, 0.11599999999999999, 0.1167, 0.1029, 0.08045, 0.1059, 0.08044, 0.07741, 0.09087, 0.12300000000000001, 0.08872000000000001, 0.07351, 0.09879, 0.08682000000000001, 0.1004, 0.09495, 0.07551000000000001, 0.1036, 0.08685, 0.08857999999999999, 0.1077, 0.07969, 0.08515, 0.0832, 0.09773, 0.1044, 0.11199999999999999, 0.08785, 0.1018, 0.08546000000000001, 0.1031, 0.1088, 0.09057, 0.1075, 0.08117, 0.09816, 0.08801, 0.08151, 0.07896, 0.09947, 0.1054, 0.1133, 0.1018, 0.08924, 0.106, 0.09136, 0.08457999999999999, 0.08684, 0.07966000000000001, 0.08915, 0.08331000000000001, 0.08817, 0.08142, 0.08947000000000001, 0.10300000000000001, 0.09997, 0.09179, 0.08388, 0.09684, 0.06613, 0.1032, 0.08437, 0.1099, 0.08582999999999999, 0.09245, 0.09357, 0.08791, 0.08369, 0.07984, 0.09898, 0.1084, 0.06995, 0.08507999999999999, 0.07466, 0.08284, 0.08675, 0.08311, 0.09289, 0.1175, 0.08946, 0.08752, 0.08098, 0.07699, 0.1007, 0.0904, 0.08931, 0.06828, 0.1046, 0.1026, 0.09087, 0.07991000000000001, 0.1071, 0.0995, 0.1043, 0.09514, 0.08641, 0.1089, 0.1128, 0.07497000000000001, 0.08192, 0.07837999999999999, 0.1001, 0.07372000000000001, 0.07335, 0.09587000000000001, 0.1076, 0.08928, 0.1012, 0.1085, 0.09883, 0.1162, 0.1158, 0.09342, 0.1634, 0.1255, 0.1096, 0.1194, 0.09427, 0.1183, 0.08098999999999999, 0.08472, 0.1106, 0.09832, 0.09215, 0.1049, 0.1068, 0.1037, 0.1218, 0.1125, 0.1371, 0.10300000000000001, 0.08511, 0.09916, 0.09492, 0.1036, 0.1075, 0.09003, 0.1248, 0.11, 0.1073, 0.1016, 0.09277, 0.09156, 0.09687, 0.1046, 0.1038, 0.1236, 0.08098, 0.08668, 0.09984, 0.08837, 0.08275, 0.08671, 0.09577999999999999, 0.09246, 0.09434, 0.08877, 0.08491, 0.08192, 0.07431, 0.09566000000000001, 0.08276, 0.0924, 0.08123, 0.0903, 0.1003, 0.08123, 0.08473, 0.09261, 0.09929, 0.07449, 0.1048, 0.1099, 0.111, 0.0978, 0.08455, 0.1178, 0.052629999999999996]}, {\"name\": \"compactness_mean\", \"type\": \"box\", \"y\": [0.2776, 0.07864, 0.1599, 0.2839, 0.1328, 0.17, 0.109, 0.1645, 0.1932, 0.2396, 0.06669, 0.1292, 0.2458, 0.1002, 0.2293, 0.1595, 0.07200000000000001, 0.2022, 0.1027, 0.08129, 0.127, 0.06492, 0.2135, 0.1022, 0.1457, 0.2276, 0.1868, 0.1066, 0.1697, 0.1157, 0.1887, 0.1516, 0.1496, 0.1719, 0.1559, 0.1336, 0.1098, 0.03766, 0.05131, 0.1255, 0.06031, 0.1218, 0.21899999999999997, 0.1436, 0.1047, 0.1686, 0.05943, 0.1231, 0.09092, 0.07697999999999999, 0.04966, 0.06059, 0.047510000000000004, 0.1485, 0.07081, 0.054729999999999994, 0.1267, 0.1365, 0.03789, 0.05272, 0.08061, 0.08963, 0.2008, 0.08751, 0.1262, 0.1479, 0.07773, 0.04701, 0.1413, 0.05234, 0.1029, 0.1531, 0.183, 0.128, 0.06829, 0.08424, 0.1047, 0.2146, 0.3454, 0.09546, 0.09362000000000001, 0.1535, 0.2665, 0.1791, 0.07165, 0.1053, 0.09947, 0.1206, 0.09445, 0.1339, 0.08606, 0.1036, 0.05055, 0.08165, 0.1553, 0.1313, 0.07057000000000001, 0.05301, 0.07525, 0.1141, 0.08511, 0.07568, 0.04038, 0.09697, 0.08578, 0.1765, 0.1017, 0.06815, 0.2768, 0.06575, 0.08404, 0.1209, 0.2233, 0.1303, 0.08201, 0.07849, 0.1243, 0.1649, 0.1752, 0.06722, 0.06685, 0.11, 0.2867, 0.1099, 0.07325, 0.061360000000000005, 0.07862000000000001, 0.08027999999999999, 0.1807, 0.1589, 0.09509, 0.1223, 0.1284, 0.09462000000000001, 0.09709, 0.05761, 0.06095, 0.06888999999999999, 0.1305, 0.1136, 0.04102, 0.1137, 0.09486, 0.09509, 0.05139, 0.1296, 0.17, 0.1167, 0.1021, 0.06376, 0.07589, 0.1305, 0.1599, 0.05113, 0.08498, 0.06679, 0.1665, 0.07222999999999999, 0.052410000000000005, 0.03718, 0.1141, 0.1185, 0.1666, 0.1015, 0.1145, 0.053520000000000005, 0.05736, 0.09182, 0.1603, 0.07885, 0.06981, 0.06287999999999999, 0.1555, 0.057429999999999995, 0.043019999999999996, 0.04276, 0.1294, 0.1556, 0.01938, 0.037739999999999996, 0.1914, 0.2832, 0.08799, 0.08155, 0.1052, 0.04695, 0.08467999999999999, 0.06141, 0.05562, 0.07253, 0.2413, 0.06601, 0.02344, 0.1353, 0.198, 0.05366, 0.1267, 0.08642000000000001, 0.1428, 0.1206, 0.08087000000000001, 0.1198, 0.2084, 0.1768, 0.1058, 0.09587999999999999, 0.07232000000000001, 0.07304, 0.1483, 0.0623, 0.1348, 0.069, 0.1516, 0.1146, 0.1306, 0.1517, 0.1154, 0.059070000000000004, 0.1306, 0.113, 0.08711, 0.1192, 0.08502, 0.1204, 0.04994, 0.07624, 0.07722000000000001, 0.1096, 0.07529, 0.1799, 0.1572, 0.038130000000000004, 0.03574, 0.1074, 0.04087, 0.06945, 0.1682, 0.08348, 0.1039, 0.1298, 0.0663, 0.03393, 0.1325, 0.06807, 0.1558, 0.05971, 0.045239999999999995, 0.1346, 0.07234, 0.07808, 0.1606, 0.059910000000000005, 0.1849, 0.1041, 0.1188, 0.1279, 0.2063, 0.2284, 0.3114, 0.1639, 0.1088, 0.0629, 0.1273, 0.05616, 0.08995, 0.1143, 0.1147, 0.08259, 0.062189999999999995, 0.1289, 0.02675, 0.07608, 0.1961, 0.04689, 0.07027, 0.0721, 0.03872, 0.058839999999999996, 0.04052, 0.07687999999999999, 0.1453, 0.0434, 0.1442, 0.1802, 0.0958, 0.04216, 0.1011, 0.03729, 0.1181, 0.05008, 0.1676, 0.09823, 0.07943, 0.056420000000000005, 0.08392999999999999, 0.06221, 0.04721, 0.05914, 0.0522, 0.06797, 0.1642, 0.1014, 0.1838, 0.06677999999999999, 0.07694, 0.05687999999999999, 0.05251, 0.031160000000000004, 0.03614, 0.03735, 0.05252999999999999, 0.03515, 0.07948, 0.05969, 0.05847, 0.03834, 0.032119999999999996, 0.1117, 0.1972, 0.034539999999999994, 0.1111, 0.08564, 0.08834, 0.1875, 0.06545, 0.07664, 0.05306, 0.038919999999999996, 0.1319, 0.1283, 0.1371, 0.1125, 0.06779, 0.04458, 0.04202, 0.1056, 0.09965, 0.1402, 0.07326, 0.1283, 0.1139, 0.09228, 0.09097000000000001, 0.1339, 0.07281, 0.09158999999999999, 0.05794, 0.0778, 0.05886, 0.1206, 0.0363, 0.2364, 0.2363, 0.09769, 0.06064, 0.1038, 0.1304, 0.054920000000000004, 0.07697999999999999, 0.05956, 0.0265, 0.06373, 0.07952000000000001, 0.08467999999999999, 0.056960000000000004, 0.1131, 0.1669, 0.07175, 0.08562, 0.1954, 0.1497, 0.06934, 0.1515, 0.1076, 0.06373999999999999, 0.1438, 0.166, 0.04726, 0.07547999999999999, 0.2154, 0.1111, 0.07078999999999999, 0.1073, 0.1297, 0.08575, 0.06636, 0.07823, 0.048310000000000006, 0.1114, 0.1318, 0.07542, 0.07428, 0.1562, 0.2087, 0.09758, 0.053610000000000005, 0.1147, 0.08895, 0.04768, 0.06232000000000001, 0.2576, 0.05242, 0.07899, 0.08836000000000001, 0.04571, 0.0746, 0.08501, 0.08316, 0.1304, 0.06526, 0.05313, 0.07804, 0.060529999999999994, 0.1025, 0.04605, 0.0812, 0.06159, 0.1571, 0.05794, 0.05977999999999999, 0.07722000000000001, 0.1836, 0.1168, 0.1147, 0.08333, 0.03912, 0.1013, 0.057429999999999995, 0.03834, 0.045219999999999996, 0.2225, 0.1316, 0.1489, 0.1389, 0.07074, 0.1133, 0.07883, 0.05895, 0.0633, 0.055810000000000005, 0.1113, 0.1109, 0.06717999999999999, 0.04462, 0.1232, 0.09218, 0.1314, 0.0889, 0.078, 0.1175, 0.1064, 0.09871, 0.0645, 0.09242, 0.0543, 0.07426, 0.08574, 0.05205, 0.050730000000000004, 0.04626, 0.111, 0.1988, 0.05223, 0.05855, 0.05994, 0.1223, 0.1089, 0.054279999999999995, 0.2004, 0.1483, 0.06258, 0.06, 0.08549, 0.03398, 0.1069, 0.08269, 0.1108, 0.05319, 0.08227999999999999, 0.1893, 0.07837999999999999, 0.05326, 0.1155, 0.07957, 0.1299, 0.1511, 0.06698, 0.1448, 0.09262999999999999, 0.07112, 0.052000000000000005, 0.06217, 0.1289, 0.04043, 0.05275, 0.08345, 0.1334, 0.0763, 0.1317, 0.1644, 0.1364, 0.1681, 0.1085, 0.1275, 0.2239, 0.2204, 0.1152, 0.1071, 0.06712, 0.187, 0.09661, 0.05016, 0.1469, 0.08918, 0.08597, 0.08499, 0.1248, 0.131, 0.1661, 0.1117, 0.1225, 0.2106, 0.04413, 0.107, 0.08419, 0.07632, 0.1138, 0.06307, 0.09755, 0.09009, 0.09713, 0.09452999999999999, 0.07255, 0.1313, 0.09752000000000001, 0.1739, 0.1154, 0.1552, 0.048780000000000004, 0.1199, 0.11199999999999999, 0.12300000000000001, 0.07214, 0.06877, 0.1018, 0.06747, 0.04994, 0.08066, 0.0503, 0.06602000000000001, 0.04227, 0.08194, 0.042339999999999996, 0.05605, 0.05824, 0.07658, 0.07504, 0.049710000000000004, 0.133, 0.1021, 0.1126, 0.03558, 0.2087, 0.2236, 0.1159, 0.1034, 0.1023, 0.27699999999999997, 0.04362]}],\n",
              "                        {\"template\": {\"data\": {\"bar\": [{\"error_x\": {\"color\": \"#2a3f5f\"}, \"error_y\": {\"color\": \"#2a3f5f\"}, \"marker\": {\"line\": {\"color\": \"#E5ECF6\", \"width\": 0.5}}, \"type\": \"bar\"}], \"barpolar\": [{\"marker\": {\"line\": {\"color\": \"#E5ECF6\", \"width\": 0.5}}, \"type\": \"barpolar\"}], \"carpet\": [{\"aaxis\": {\"endlinecolor\": \"#2a3f5f\", \"gridcolor\": \"white\", \"linecolor\": \"white\", \"minorgridcolor\": \"white\", \"startlinecolor\": \"#2a3f5f\"}, \"baxis\": {\"endlinecolor\": \"#2a3f5f\", \"gridcolor\": \"white\", \"linecolor\": \"white\", \"minorgridcolor\": \"white\", \"startlinecolor\": \"#2a3f5f\"}, \"type\": \"carpet\"}], \"choropleth\": [{\"colorbar\": {\"outlinewidth\": 0, \"ticks\": \"\"}, \"type\": \"choropleth\"}], \"contour\": [{\"colorbar\": {\"outlinewidth\": 0, \"ticks\": \"\"}, \"colorscale\": [[0.0, \"#0d0887\"], [0.1111111111111111, \"#46039f\"], [0.2222222222222222, \"#7201a8\"], [0.3333333333333333, \"#9c179e\"], [0.4444444444444444, \"#bd3786\"], [0.5555555555555556, \"#d8576b\"], [0.6666666666666666, \"#ed7953\"], [0.7777777777777778, \"#fb9f3a\"], [0.8888888888888888, \"#fdca26\"], [1.0, \"#f0f921\"]], \"type\": \"contour\"}], \"contourcarpet\": [{\"colorbar\": {\"outlinewidth\": 0, \"ticks\": \"\"}, \"type\": \"contourcarpet\"}], \"heatmap\": [{\"colorbar\": {\"outlinewidth\": 0, \"ticks\": \"\"}, \"colorscale\": [[0.0, \"#0d0887\"], [0.1111111111111111, \"#46039f\"], [0.2222222222222222, \"#7201a8\"], [0.3333333333333333, \"#9c179e\"], [0.4444444444444444, \"#bd3786\"], [0.5555555555555556, \"#d8576b\"], [0.6666666666666666, \"#ed7953\"], [0.7777777777777778, \"#fb9f3a\"], [0.8888888888888888, \"#fdca26\"], [1.0, \"#f0f921\"]], \"type\": \"heatmap\"}], \"heatmapgl\": [{\"colorbar\": {\"outlinewidth\": 0, \"ticks\": \"\"}, \"colorscale\": [[0.0, \"#0d0887\"], [0.1111111111111111, \"#46039f\"], [0.2222222222222222, \"#7201a8\"], [0.3333333333333333, \"#9c179e\"], [0.4444444444444444, \"#bd3786\"], [0.5555555555555556, \"#d8576b\"], [0.6666666666666666, \"#ed7953\"], [0.7777777777777778, \"#fb9f3a\"], [0.8888888888888888, \"#fdca26\"], [1.0, \"#f0f921\"]], \"type\": \"heatmapgl\"}], \"histogram\": [{\"marker\": {\"colorbar\": {\"outlinewidth\": 0, \"ticks\": \"\"}}, \"type\": \"histogram\"}], \"histogram2d\": [{\"colorbar\": {\"outlinewidth\": 0, \"ticks\": \"\"}, \"colorscale\": [[0.0, \"#0d0887\"], [0.1111111111111111, \"#46039f\"], [0.2222222222222222, \"#7201a8\"], [0.3333333333333333, \"#9c179e\"], [0.4444444444444444, \"#bd3786\"], [0.5555555555555556, \"#d8576b\"], [0.6666666666666666, \"#ed7953\"], [0.7777777777777778, \"#fb9f3a\"], [0.8888888888888888, \"#fdca26\"], [1.0, \"#f0f921\"]], \"type\": \"histogram2d\"}], \"histogram2dcontour\": [{\"colorbar\": {\"outlinewidth\": 0, \"ticks\": \"\"}, \"colorscale\": [[0.0, \"#0d0887\"], [0.1111111111111111, \"#46039f\"], [0.2222222222222222, \"#7201a8\"], [0.3333333333333333, \"#9c179e\"], [0.4444444444444444, \"#bd3786\"], [0.5555555555555556, \"#d8576b\"], [0.6666666666666666, \"#ed7953\"], [0.7777777777777778, \"#fb9f3a\"], [0.8888888888888888, \"#fdca26\"], [1.0, \"#f0f921\"]], \"type\": \"histogram2dcontour\"}], \"mesh3d\": [{\"colorbar\": {\"outlinewidth\": 0, \"ticks\": \"\"}, \"type\": \"mesh3d\"}], \"parcoords\": [{\"line\": {\"colorbar\": {\"outlinewidth\": 0, \"ticks\": \"\"}}, \"type\": \"parcoords\"}], \"pie\": [{\"automargin\": true, \"type\": \"pie\"}], \"scatter\": [{\"marker\": {\"colorbar\": {\"outlinewidth\": 0, \"ticks\": \"\"}}, \"type\": \"scatter\"}], \"scatter3d\": [{\"line\": {\"colorbar\": {\"outlinewidth\": 0, \"ticks\": \"\"}}, \"marker\": {\"colorbar\": {\"outlinewidth\": 0, \"ticks\": \"\"}}, \"type\": \"scatter3d\"}], \"scattercarpet\": [{\"marker\": {\"colorbar\": {\"outlinewidth\": 0, \"ticks\": \"\"}}, \"type\": \"scattercarpet\"}], \"scattergeo\": [{\"marker\": {\"colorbar\": {\"outlinewidth\": 0, \"ticks\": \"\"}}, \"type\": \"scattergeo\"}], \"scattergl\": [{\"marker\": {\"colorbar\": {\"outlinewidth\": 0, \"ticks\": \"\"}}, \"type\": \"scattergl\"}], \"scattermapbox\": [{\"marker\": {\"colorbar\": {\"outlinewidth\": 0, \"ticks\": \"\"}}, \"type\": \"scattermapbox\"}], \"scatterpolar\": [{\"marker\": {\"colorbar\": {\"outlinewidth\": 0, \"ticks\": \"\"}}, \"type\": \"scatterpolar\"}], \"scatterpolargl\": [{\"marker\": {\"colorbar\": {\"outlinewidth\": 0, \"ticks\": \"\"}}, \"type\": \"scatterpolargl\"}], \"scatterternary\": [{\"marker\": {\"colorbar\": {\"outlinewidth\": 0, \"ticks\": \"\"}}, \"type\": \"scatterternary\"}], \"surface\": [{\"colorbar\": {\"outlinewidth\": 0, \"ticks\": \"\"}, \"colorscale\": [[0.0, \"#0d0887\"], [0.1111111111111111, \"#46039f\"], [0.2222222222222222, \"#7201a8\"], [0.3333333333333333, \"#9c179e\"], [0.4444444444444444, \"#bd3786\"], [0.5555555555555556, \"#d8576b\"], [0.6666666666666666, \"#ed7953\"], [0.7777777777777778, \"#fb9f3a\"], [0.8888888888888888, \"#fdca26\"], [1.0, \"#f0f921\"]], \"type\": \"surface\"}], \"table\": [{\"cells\": {\"fill\": {\"color\": \"#EBF0F8\"}, \"line\": {\"color\": \"white\"}}, \"header\": {\"fill\": {\"color\": \"#C8D4E3\"}, \"line\": {\"color\": \"white\"}}, \"type\": \"table\"}]}, \"layout\": {\"annotationdefaults\": {\"arrowcolor\": \"#2a3f5f\", \"arrowhead\": 0, \"arrowwidth\": 1}, \"coloraxis\": {\"colorbar\": {\"outlinewidth\": 0, \"ticks\": \"\"}}, \"colorscale\": {\"diverging\": [[0, \"#8e0152\"], [0.1, \"#c51b7d\"], [0.2, \"#de77ae\"], [0.3, \"#f1b6da\"], [0.4, \"#fde0ef\"], [0.5, \"#f7f7f7\"], [0.6, \"#e6f5d0\"], [0.7, \"#b8e186\"], [0.8, \"#7fbc41\"], [0.9, \"#4d9221\"], [1, \"#276419\"]], \"sequential\": [[0.0, \"#0d0887\"], [0.1111111111111111, \"#46039f\"], [0.2222222222222222, \"#7201a8\"], [0.3333333333333333, \"#9c179e\"], [0.4444444444444444, \"#bd3786\"], [0.5555555555555556, \"#d8576b\"], [0.6666666666666666, \"#ed7953\"], [0.7777777777777778, \"#fb9f3a\"], [0.8888888888888888, \"#fdca26\"], [1.0, \"#f0f921\"]], \"sequentialminus\": [[0.0, \"#0d0887\"], [0.1111111111111111, \"#46039f\"], [0.2222222222222222, \"#7201a8\"], [0.3333333333333333, \"#9c179e\"], [0.4444444444444444, \"#bd3786\"], [0.5555555555555556, \"#d8576b\"], [0.6666666666666666, \"#ed7953\"], [0.7777777777777778, \"#fb9f3a\"], [0.8888888888888888, \"#fdca26\"], [1.0, \"#f0f921\"]]}, \"colorway\": [\"#636efa\", \"#EF553B\", \"#00cc96\", \"#ab63fa\", \"#FFA15A\", \"#19d3f3\", \"#FF6692\", \"#B6E880\", \"#FF97FF\", \"#FECB52\"], \"font\": {\"color\": \"#2a3f5f\"}, \"geo\": {\"bgcolor\": \"white\", \"lakecolor\": \"white\", \"landcolor\": \"#E5ECF6\", \"showlakes\": true, \"showland\": true, \"subunitcolor\": \"white\"}, \"hoverlabel\": {\"align\": \"left\"}, \"hovermode\": \"closest\", \"mapbox\": {\"style\": \"light\"}, \"paper_bgcolor\": \"white\", \"plot_bgcolor\": \"#E5ECF6\", \"polar\": {\"angularaxis\": {\"gridcolor\": \"white\", \"linecolor\": \"white\", \"ticks\": \"\"}, \"bgcolor\": \"#E5ECF6\", \"radialaxis\": {\"gridcolor\": \"white\", \"linecolor\": \"white\", \"ticks\": \"\"}}, \"scene\": {\"xaxis\": {\"backgroundcolor\": \"#E5ECF6\", \"gridcolor\": \"white\", \"gridwidth\": 2, \"linecolor\": \"white\", \"showbackground\": true, \"ticks\": \"\", \"zerolinecolor\": \"white\"}, \"yaxis\": {\"backgroundcolor\": \"#E5ECF6\", \"gridcolor\": \"white\", \"gridwidth\": 2, \"linecolor\": \"white\", \"showbackground\": true, \"ticks\": \"\", \"zerolinecolor\": \"white\"}, \"zaxis\": {\"backgroundcolor\": \"#E5ECF6\", \"gridcolor\": \"white\", \"gridwidth\": 2, \"linecolor\": \"white\", \"showbackground\": true, \"ticks\": \"\", \"zerolinecolor\": \"white\"}}, \"shapedefaults\": {\"line\": {\"color\": \"#2a3f5f\"}}, \"ternary\": {\"aaxis\": {\"gridcolor\": \"white\", \"linecolor\": \"white\", \"ticks\": \"\"}, \"baxis\": {\"gridcolor\": \"white\", \"linecolor\": \"white\", \"ticks\": \"\"}, \"bgcolor\": \"#E5ECF6\", \"caxis\": {\"gridcolor\": \"white\", \"linecolor\": \"white\", \"ticks\": \"\"}}, \"title\": {\"x\": 0.05}, \"xaxis\": {\"automargin\": true, \"gridcolor\": \"white\", \"linecolor\": \"white\", \"ticks\": \"\", \"title\": {\"standoff\": 15}, \"zerolinecolor\": \"white\", \"zerolinewidth\": 2}, \"yaxis\": {\"automargin\": true, \"gridcolor\": \"white\", \"linecolor\": \"white\", \"ticks\": \"\", \"title\": {\"standoff\": 15}, \"zerolinecolor\": \"white\", \"zerolinewidth\": 2}}}},\n",
              "                        {\"responsive\": true}\n",
              "                    ).then(function(){\n",
              "                            \n",
              "var gd = document.getElementById('6ffe1d49-18fb-4b8f-b2ff-5f4cc950b6dc');\n",
              "var x = new MutationObserver(function (mutations, observer) {{\n",
              "        var display = window.getComputedStyle(gd).display;\n",
              "        if (!display || display === 'none') {{\n",
              "            console.log([gd, 'removed!']);\n",
              "            Plotly.purge(gd);\n",
              "            observer.disconnect();\n",
              "        }}\n",
              "}});\n",
              "\n",
              "// Listen for the removal of the full notebook cells\n",
              "var notebookContainer = gd.closest('#notebook-container');\n",
              "if (notebookContainer) {{\n",
              "    x.observe(notebookContainer, {childList: true});\n",
              "}}\n",
              "\n",
              "// Listen for the clearing of the current output cell\n",
              "var outputEl = gd.closest('.output');\n",
              "if (outputEl) {{\n",
              "    x.observe(outputEl, {childList: true});\n",
              "}}\n",
              "\n",
              "                        })\n",
              "                };\n",
              "                \n",
              "            </script>\n",
              "        </div>\n",
              "</body>\n",
              "</html>"
            ]
          },
          "metadata": {
            "tags": []
          }
        }
      ]
    },
    {
      "cell_type": "markdown",
      "metadata": {
        "id": "32H1jUUViBAp",
        "colab_type": "text"
      },
      "source": [
        "The box by itself illustrates the interquartile spread of the distribution; its length determined by the  25%(Q1)  and  75%(Q3)  percentiles. The vertical line inside the box marks the median ( 50% ) of the distribution.\n",
        "\n",
        "The whiskers are the lines extending from the box. They represent the entire scatter of data points, specifically the points that fall within the interval  (Q1−1.5⋅IQR,Q3+1.5⋅IQR) , where  IQR=Q3−Q1  is the interquartile range."
      ]
    },
    {
      "cell_type": "markdown",
      "metadata": {
        "id": "Be8TkFCAezLK",
        "colab_type": "text"
      },
      "source": [
        "## **Violin plots**"
      ]
    },
    {
      "cell_type": "markdown",
      "metadata": {
        "id": "XuiJK-Gee5nJ",
        "colab_type": "text"
      },
      "source": [
        "#### A violin plot is a method of plotting numeric data. It is similar to box plot with a rotated kernel density plot on each side"
      ]
    },
    {
      "cell_type": "code",
      "metadata": {
        "id": "T6BTO1vacJZl",
        "colab_type": "code",
        "colab": {
          "base_uri": "https://localhost:8080/",
          "height": 542
        },
        "outputId": "697235c8-2032-49af-9fbc-8915787a3015"
      },
      "source": [
        "data = []\n",
        "for i in range(5,11):\n",
        "    trace = {\n",
        "            \"type\": 'violin',\n",
        "            \"x\": max(df.iloc[:,i]),\n",
        "            \"y\": df.iloc[:,i],\n",
        "            \"name\": list(df.columns)[i],\n",
        "            \"box\": {\n",
        "                \"visible\": True\n",
        "            },\n",
        "            \"meanline\": {\n",
        "                \"visible\": True\n",
        "            }\n",
        "        }\n",
        "    data.append(trace)\n",
        "        \n",
        "fig = {\n",
        "    \"data\": data,\n",
        "    \"layout\" : {\n",
        "        \"title\": \"Violin plot of all stats\",\n",
        "        \"yaxis\": {\n",
        "            \"zeroline\": False,\n",
        "        }\n",
        "    }\n",
        "}\n",
        "\n",
        "iplot(fig, filename='violin', validate = False)"
      ],
      "execution_count": 14,
      "outputs": [
        {
          "output_type": "display_data",
          "data": {
            "text/html": [
              "<html>\n",
              "<head><meta charset=\"utf-8\" /></head>\n",
              "<body>\n",
              "    <div>\n",
              "            <script src=\"https://cdnjs.cloudflare.com/ajax/libs/mathjax/2.7.5/MathJax.js?config=TeX-AMS-MML_SVG\"></script><script type=\"text/javascript\">if (window.MathJax) {MathJax.Hub.Config({SVG: {font: \"STIX-Web\"}});}</script>\n",
              "                <script type=\"text/javascript\">window.PlotlyConfig = {MathJaxConfig: 'local'};</script>\n",
              "        <script src=\"https://cdn.plot.ly/plotly-latest.min.js\"></script>    \n",
              "            <div id=\"3db0e281-f8be-479d-aae4-67d0bbecbf7a\" class=\"plotly-graph-div\" style=\"height:525px; width:100%;\"></div>\n",
              "            <script type=\"text/javascript\">\n",
              "                \n",
              "                    window.PLOTLYENV=window.PLOTLYENV || {};\n",
              "                    \n",
              "                if (document.getElementById(\"3db0e281-f8be-479d-aae4-67d0bbecbf7a\")) {\n",
              "                    Plotly.newPlot(\n",
              "                        '3db0e281-f8be-479d-aae4-67d0bbecbf7a',\n",
              "                        [{\"box\": {\"visible\": true}, \"meanline\": {\"visible\": true}, \"name\": \"smoothness_mean\", \"type\": \"violin\", \"x\": 0.1634, \"y\": [0.1184, 0.08474, 0.1096, 0.1425, 0.1003, 0.1278, 0.09462999999999999, 0.1189, 0.1273, 0.1186, 0.08206000000000001, 0.0971, 0.0974, 0.08401, 0.1131, 0.1139, 0.09867000000000001, 0.11699999999999999, 0.09831000000000001, 0.09779, 0.1075, 0.1024, 0.1073, 0.09427999999999999, 0.1121, 0.1186, 0.1054, 0.0944, 0.1082, 0.09847, 0.1064, 0.1109, 0.1197, 0.09401, 0.10400000000000001, 0.0961, 0.09823, 0.08983, 0.09387000000000001, 0.1016, 0.08162, 0.1227, 0.09081, 0.1041, 0.09714, 0.1099, 0.086, 0.1158, 0.1031, 0.08752, 0.08637, 0.07685, 0.08261, 0.1148, 0.09056, 0.09523999999999999, 0.1053, 0.1137, 0.0806, 0.09752000000000001, 0.1134, 0.1243, 0.1049, 0.07721, 0.1122, 0.1172, 0.1044, 0.08139, 0.1066, 0.09831000000000001, 0.09009, 0.09783, 0.1071, 0.1007, 0.09172000000000001, 0.09168, 0.1291, 0.1065, 0.1286, 0.09934, 0.1102, 0.1078, 0.1063, 0.1215, 0.09723, 0.09874, 0.09444, 0.09029, 0.08772, 0.1132, 0.08974, 0.092, 0.07355, 0.1022, 0.1039, 0.09078, 0.1045, 0.1024, 0.08983, 0.09752000000000001, 0.09487999999999999, 0.11699999999999999, 0.08012999999999999, 0.1005, 0.09988999999999999, 0.1398, 0.1142, 0.08477, 0.1326, 0.08759, 0.1037, 0.09933, 0.07837000000000001, 0.1122, 0.115, 0.09767999999999999, 0.09462000000000001, 0.1162, 0.1155, 0.08402000000000001, 0.09373, 0.1054, 0.1447, 0.1101, 0.07115, 0.08785, 0.09258, 0.08217, 0.115, 0.1015, 0.1066, 0.1092, 0.1008, 0.09462000000000001, 0.0943, 0.09055, 0.1051, 0.09639, 0.1167, 0.1164, 0.0925, 0.09721, 0.1092, 0.08677, 0.07793, 0.1152, 0.1091, 0.08138, 0.0997, 0.07944, 0.1135, 0.09405, 0.1072, 0.09754, 0.09383999999999999, 0.08653999999999999, 0.1115, 0.07445, 0.09311, 0.07515, 0.1089, 0.08694, 0.11199999999999999, 0.1012, 0.08438999999999999, 0.08421000000000001, 0.09594, 0.08865, 0.1049, 0.09855, 0.1028, 0.09047999999999999, 0.1257, 0.1006, 0.08792, 0.09137999999999999, 0.09698999999999999, 0.09831000000000001, 0.06251, 0.08739, 0.1094, 0.1141, 0.09597, 0.09059, 0.09057, 0.09267, 0.08588, 0.09774, 0.1007, 0.0808, 0.1075, 0.08749, 0.0695, 0.1034, 0.1044, 0.07941000000000001, 0.12, 0.07371, 0.08523, 0.09872, 0.09586, 0.08968, 0.1141, 0.1323, 0.09965, 0.08876, 0.1089, 0.08772, 0.1002, 0.08182, 0.0909, 0.08871, 0.1142, 0.1006, 0.09462999999999999, 0.1026, 0.09362999999999999, 0.08054, 0.09383, 0.0842, 0.09646, 0.1051, 0.1061, 0.1025, 0.08445, 0.09906000000000001, 0.1053, 0.08371, 0.07902999999999999, 0.1088, 0.1141, 0.06883, 0.0778, 0.09158999999999999, 0.08463999999999999, 0.0907, 0.09509, 0.08355, 0.08223, 0.09812, 0.09423, 0.07926, 0.09592, 0.08043, 0.1027, 0.107, 0.07215, 0.0876, 0.09657, 0.1013, 0.1007, 0.09345, 0.1062, 0.1008, 0.1035, 0.1096, 0.0926, 0.1335, 0.1109, 0.1063, 0.1, 0.08662, 0.08999, 0.0784, 0.09726, 0.09469, 0.09688, 0.07956, 0.09425, 0.1082, 0.06429, 0.09834, 0.09401, 0.09037, 0.08855, 0.1225, 0.09379, 0.08922999999999999, 0.07948, 0.09516000000000001, 0.102, 0.07812999999999999, 0.1037, 0.1066, 0.07818, 0.08392999999999999, 0.08605, 0.06955, 0.0802, 0.08713, 0.08757000000000001, 0.08992, 0.1005, 0.08372, 0.09667, 0.09197999999999999, 0.08517999999999999, 0.09967999999999999, 0.06576, 0.1015, 0.115, 0.08451, 0.10800000000000001, 0.1068, 0.08853, 0.07474, 0.08511, 0.07005, 0.07376, 0.08352000000000001, 0.08814, 0.07618, 0.08794, 0.08597, 0.1074, 0.08511, 0.07733999999999999, 0.09746, 0.09967999999999999, 0.07557, 0.1061, 0.0802, 0.1134, 0.11699999999999999, 0.08673, 0.1028, 0.09308999999999999, 0.07683, 0.1169, 0.1165, 0.09491000000000001, 0.09579, 0.1054, 0.08306000000000001, 0.08313, 0.1119, 0.09462000000000001, 0.09116, 0.1007, 0.1069, 0.09751, 0.08481, 0.1033, 0.09797, 0.115, 0.09882, 0.08386, 0.08875, 0.09076000000000001, 0.1158, 0.07561, 0.1243, 0.1149, 0.1024, 0.07274, 0.0876, 0.1082, 0.08743, 0.08292999999999999, 0.1009, 0.07436, 0.08582000000000001, 0.09676, 0.09686, 0.07937000000000001, 0.0915, 0.09905, 0.09231, 0.09383999999999999, 0.1063, 0.09742, 0.07962999999999999, 0.1001, 0.09446, 0.08302000000000001, 0.0988, 0.09072999999999999, 0.07517, 0.08267999999999999, 0.1216, 0.1237, 0.07987000000000001, 0.06935, 0.1042, 0.08363, 0.08682000000000001, 0.08108, 0.07026, 0.08365, 0.10099999999999999, 0.09996000000000001, 0.1039, 0.11599999999999999, 0.1167, 0.1029, 0.08045, 0.1059, 0.08044, 0.07741, 0.09087, 0.12300000000000001, 0.08872000000000001, 0.07351, 0.09879, 0.08682000000000001, 0.1004, 0.09495, 0.07551000000000001, 0.1036, 0.08685, 0.08857999999999999, 0.1077, 0.07969, 0.08515, 0.0832, 0.09773, 0.1044, 0.11199999999999999, 0.08785, 0.1018, 0.08546000000000001, 0.1031, 0.1088, 0.09057, 0.1075, 0.08117, 0.09816, 0.08801, 0.08151, 0.07896, 0.09947, 0.1054, 0.1133, 0.1018, 0.08924, 0.106, 0.09136, 0.08457999999999999, 0.08684, 0.07966000000000001, 0.08915, 0.08331000000000001, 0.08817, 0.08142, 0.08947000000000001, 0.10300000000000001, 0.09997, 0.09179, 0.08388, 0.09684, 0.06613, 0.1032, 0.08437, 0.1099, 0.08582999999999999, 0.09245, 0.09357, 0.08791, 0.08369, 0.07984, 0.09898, 0.1084, 0.06995, 0.08507999999999999, 0.07466, 0.08284, 0.08675, 0.08311, 0.09289, 0.1175, 0.08946, 0.08752, 0.08098, 0.07699, 0.1007, 0.0904, 0.08931, 0.06828, 0.1046, 0.1026, 0.09087, 0.07991000000000001, 0.1071, 0.0995, 0.1043, 0.09514, 0.08641, 0.1089, 0.1128, 0.07497000000000001, 0.08192, 0.07837999999999999, 0.1001, 0.07372000000000001, 0.07335, 0.09587000000000001, 0.1076, 0.08928, 0.1012, 0.1085, 0.09883, 0.1162, 0.1158, 0.09342, 0.1634, 0.1255, 0.1096, 0.1194, 0.09427, 0.1183, 0.08098999999999999, 0.08472, 0.1106, 0.09832, 0.09215, 0.1049, 0.1068, 0.1037, 0.1218, 0.1125, 0.1371, 0.10300000000000001, 0.08511, 0.09916, 0.09492, 0.1036, 0.1075, 0.09003, 0.1248, 0.11, 0.1073, 0.1016, 0.09277, 0.09156, 0.09687, 0.1046, 0.1038, 0.1236, 0.08098, 0.08668, 0.09984, 0.08837, 0.08275, 0.08671, 0.09577999999999999, 0.09246, 0.09434, 0.08877, 0.08491, 0.08192, 0.07431, 0.09566000000000001, 0.08276, 0.0924, 0.08123, 0.0903, 0.1003, 0.08123, 0.08473, 0.09261, 0.09929, 0.07449, 0.1048, 0.1099, 0.111, 0.0978, 0.08455, 0.1178, 0.052629999999999996]}, {\"box\": {\"visible\": true}, \"meanline\": {\"visible\": true}, \"name\": \"compactness_mean\", \"type\": \"violin\", \"x\": 0.3454, \"y\": [0.2776, 0.07864, 0.1599, 0.2839, 0.1328, 0.17, 0.109, 0.1645, 0.1932, 0.2396, 0.06669, 0.1292, 0.2458, 0.1002, 0.2293, 0.1595, 0.07200000000000001, 0.2022, 0.1027, 0.08129, 0.127, 0.06492, 0.2135, 0.1022, 0.1457, 0.2276, 0.1868, 0.1066, 0.1697, 0.1157, 0.1887, 0.1516, 0.1496, 0.1719, 0.1559, 0.1336, 0.1098, 0.03766, 0.05131, 0.1255, 0.06031, 0.1218, 0.21899999999999997, 0.1436, 0.1047, 0.1686, 0.05943, 0.1231, 0.09092, 0.07697999999999999, 0.04966, 0.06059, 0.047510000000000004, 0.1485, 0.07081, 0.054729999999999994, 0.1267, 0.1365, 0.03789, 0.05272, 0.08061, 0.08963, 0.2008, 0.08751, 0.1262, 0.1479, 0.07773, 0.04701, 0.1413, 0.05234, 0.1029, 0.1531, 0.183, 0.128, 0.06829, 0.08424, 0.1047, 0.2146, 0.3454, 0.09546, 0.09362000000000001, 0.1535, 0.2665, 0.1791, 0.07165, 0.1053, 0.09947, 0.1206, 0.09445, 0.1339, 0.08606, 0.1036, 0.05055, 0.08165, 0.1553, 0.1313, 0.07057000000000001, 0.05301, 0.07525, 0.1141, 0.08511, 0.07568, 0.04038, 0.09697, 0.08578, 0.1765, 0.1017, 0.06815, 0.2768, 0.06575, 0.08404, 0.1209, 0.2233, 0.1303, 0.08201, 0.07849, 0.1243, 0.1649, 0.1752, 0.06722, 0.06685, 0.11, 0.2867, 0.1099, 0.07325, 0.061360000000000005, 0.07862000000000001, 0.08027999999999999, 0.1807, 0.1589, 0.09509, 0.1223, 0.1284, 0.09462000000000001, 0.09709, 0.05761, 0.06095, 0.06888999999999999, 0.1305, 0.1136, 0.04102, 0.1137, 0.09486, 0.09509, 0.05139, 0.1296, 0.17, 0.1167, 0.1021, 0.06376, 0.07589, 0.1305, 0.1599, 0.05113, 0.08498, 0.06679, 0.1665, 0.07222999999999999, 0.052410000000000005, 0.03718, 0.1141, 0.1185, 0.1666, 0.1015, 0.1145, 0.053520000000000005, 0.05736, 0.09182, 0.1603, 0.07885, 0.06981, 0.06287999999999999, 0.1555, 0.057429999999999995, 0.043019999999999996, 0.04276, 0.1294, 0.1556, 0.01938, 0.037739999999999996, 0.1914, 0.2832, 0.08799, 0.08155, 0.1052, 0.04695, 0.08467999999999999, 0.06141, 0.05562, 0.07253, 0.2413, 0.06601, 0.02344, 0.1353, 0.198, 0.05366, 0.1267, 0.08642000000000001, 0.1428, 0.1206, 0.08087000000000001, 0.1198, 0.2084, 0.1768, 0.1058, 0.09587999999999999, 0.07232000000000001, 0.07304, 0.1483, 0.0623, 0.1348, 0.069, 0.1516, 0.1146, 0.1306, 0.1517, 0.1154, 0.059070000000000004, 0.1306, 0.113, 0.08711, 0.1192, 0.08502, 0.1204, 0.04994, 0.07624, 0.07722000000000001, 0.1096, 0.07529, 0.1799, 0.1572, 0.038130000000000004, 0.03574, 0.1074, 0.04087, 0.06945, 0.1682, 0.08348, 0.1039, 0.1298, 0.0663, 0.03393, 0.1325, 0.06807, 0.1558, 0.05971, 0.045239999999999995, 0.1346, 0.07234, 0.07808, 0.1606, 0.059910000000000005, 0.1849, 0.1041, 0.1188, 0.1279, 0.2063, 0.2284, 0.3114, 0.1639, 0.1088, 0.0629, 0.1273, 0.05616, 0.08995, 0.1143, 0.1147, 0.08259, 0.062189999999999995, 0.1289, 0.02675, 0.07608, 0.1961, 0.04689, 0.07027, 0.0721, 0.03872, 0.058839999999999996, 0.04052, 0.07687999999999999, 0.1453, 0.0434, 0.1442, 0.1802, 0.0958, 0.04216, 0.1011, 0.03729, 0.1181, 0.05008, 0.1676, 0.09823, 0.07943, 0.056420000000000005, 0.08392999999999999, 0.06221, 0.04721, 0.05914, 0.0522, 0.06797, 0.1642, 0.1014, 0.1838, 0.06677999999999999, 0.07694, 0.05687999999999999, 0.05251, 0.031160000000000004, 0.03614, 0.03735, 0.05252999999999999, 0.03515, 0.07948, 0.05969, 0.05847, 0.03834, 0.032119999999999996, 0.1117, 0.1972, 0.034539999999999994, 0.1111, 0.08564, 0.08834, 0.1875, 0.06545, 0.07664, 0.05306, 0.038919999999999996, 0.1319, 0.1283, 0.1371, 0.1125, 0.06779, 0.04458, 0.04202, 0.1056, 0.09965, 0.1402, 0.07326, 0.1283, 0.1139, 0.09228, 0.09097000000000001, 0.1339, 0.07281, 0.09158999999999999, 0.05794, 0.0778, 0.05886, 0.1206, 0.0363, 0.2364, 0.2363, 0.09769, 0.06064, 0.1038, 0.1304, 0.054920000000000004, 0.07697999999999999, 0.05956, 0.0265, 0.06373, 0.07952000000000001, 0.08467999999999999, 0.056960000000000004, 0.1131, 0.1669, 0.07175, 0.08562, 0.1954, 0.1497, 0.06934, 0.1515, 0.1076, 0.06373999999999999, 0.1438, 0.166, 0.04726, 0.07547999999999999, 0.2154, 0.1111, 0.07078999999999999, 0.1073, 0.1297, 0.08575, 0.06636, 0.07823, 0.048310000000000006, 0.1114, 0.1318, 0.07542, 0.07428, 0.1562, 0.2087, 0.09758, 0.053610000000000005, 0.1147, 0.08895, 0.04768, 0.06232000000000001, 0.2576, 0.05242, 0.07899, 0.08836000000000001, 0.04571, 0.0746, 0.08501, 0.08316, 0.1304, 0.06526, 0.05313, 0.07804, 0.060529999999999994, 0.1025, 0.04605, 0.0812, 0.06159, 0.1571, 0.05794, 0.05977999999999999, 0.07722000000000001, 0.1836, 0.1168, 0.1147, 0.08333, 0.03912, 0.1013, 0.057429999999999995, 0.03834, 0.045219999999999996, 0.2225, 0.1316, 0.1489, 0.1389, 0.07074, 0.1133, 0.07883, 0.05895, 0.0633, 0.055810000000000005, 0.1113, 0.1109, 0.06717999999999999, 0.04462, 0.1232, 0.09218, 0.1314, 0.0889, 0.078, 0.1175, 0.1064, 0.09871, 0.0645, 0.09242, 0.0543, 0.07426, 0.08574, 0.05205, 0.050730000000000004, 0.04626, 0.111, 0.1988, 0.05223, 0.05855, 0.05994, 0.1223, 0.1089, 0.054279999999999995, 0.2004, 0.1483, 0.06258, 0.06, 0.08549, 0.03398, 0.1069, 0.08269, 0.1108, 0.05319, 0.08227999999999999, 0.1893, 0.07837999999999999, 0.05326, 0.1155, 0.07957, 0.1299, 0.1511, 0.06698, 0.1448, 0.09262999999999999, 0.07112, 0.052000000000000005, 0.06217, 0.1289, 0.04043, 0.05275, 0.08345, 0.1334, 0.0763, 0.1317, 0.1644, 0.1364, 0.1681, 0.1085, 0.1275, 0.2239, 0.2204, 0.1152, 0.1071, 0.06712, 0.187, 0.09661, 0.05016, 0.1469, 0.08918, 0.08597, 0.08499, 0.1248, 0.131, 0.1661, 0.1117, 0.1225, 0.2106, 0.04413, 0.107, 0.08419, 0.07632, 0.1138, 0.06307, 0.09755, 0.09009, 0.09713, 0.09452999999999999, 0.07255, 0.1313, 0.09752000000000001, 0.1739, 0.1154, 0.1552, 0.048780000000000004, 0.1199, 0.11199999999999999, 0.12300000000000001, 0.07214, 0.06877, 0.1018, 0.06747, 0.04994, 0.08066, 0.0503, 0.06602000000000001, 0.04227, 0.08194, 0.042339999999999996, 0.05605, 0.05824, 0.07658, 0.07504, 0.049710000000000004, 0.133, 0.1021, 0.1126, 0.03558, 0.2087, 0.2236, 0.1159, 0.1034, 0.1023, 0.27699999999999997, 0.04362]}, {\"box\": {\"visible\": true}, \"meanline\": {\"visible\": true}, \"name\": \"concavity_mean\", \"type\": \"violin\", \"x\": 0.4268, \"y\": [0.3001, 0.0869, 0.1974, 0.2414, 0.198, 0.1578, 0.1127, 0.09366000000000001, 0.1859, 0.2273, 0.03299, 0.09954, 0.2065, 0.09938, 0.2128, 0.1639, 0.07395, 0.1722, 0.1479, 0.06663999999999999, 0.04568, 0.029560000000000003, 0.2077, 0.1097, 0.1525, 0.2229, 0.1425, 0.149, 0.1683, 0.09875, 0.2319, 0.1218, 0.2417, 0.1657, 0.1354, 0.1348, 0.1319, 0.02562, 0.02398, 0.1063, 0.0311, 0.1044, 0.2107, 0.09847, 0.08259, 0.1974, 0.015880000000000002, 0.1226, 0.06592, 0.047510000000000004, 0.016569999999999998, 0.01857, 0.019719999999999998, 0.1772, 0.05252999999999999, 0.03036, 0.1323, 0.1293, 0.000692, 0.02061, 0.01084, 0.03, 0.2135, 0.059879999999999996, 0.1128, 0.1267, 0.02172, 0.03709, 0.313, 0.03653, 0.10800000000000001, 0.08606, 0.1692, 0.07789, 0.03372, 0.09769, 0.06877, 0.1684, 0.3754, 0.03889, 0.04591, 0.1169, 0.3339, 0.1937, 0.041510000000000005, 0.1335, 0.1204, 0.1468, 0.06015, 0.09966, 0.03102, 0.1122, 0.03261, 0.03974, 0.17, 0.1465, 0.0249, 0.006829000000000001, 0.041960000000000004, 0.09387999999999999, 0.08625, 0.0, 0.02383, 0.06154, 0.02995, 0.2071, 0.0707, 0.026430000000000002, 0.4264, 0.051329999999999994, 0.04334, 0.1065, 0.3003, 0.06476, 0.041319999999999996, 0.033280000000000004, 0.09262999999999999, 0.16899999999999998, 0.2133, 0.07293, 0.03512, 0.1457, 0.4268, 0.08842, 0.08092, 0.0142, 0.05285, 0.09271, 0.1138, 0.2545, 0.02855, 0.1466, 0.1043, 0.07135, 0.1153, 0.04711, 0.03592, 0.03503, 0.1539, 0.04635, 0.0, 0.09447, 0.020309999999999998, 0.04894, 0.02251, 0.0371, 0.1659, 0.0905, 0.08487, 0.028810000000000002, 0.03136, 0.1321, 0.4108, 0.019819999999999997, 0.09293, 0.03885, 0.1855, 0.0515, 0.019719999999999998, 0.00309, 0.06842999999999999, 0.1193, 0.2508, 0.0537, 0.1324, 0.019469999999999998, 0.02531, 0.08422, 0.2159, 0.026019999999999998, 0.039869999999999996, 0.05857999999999999, 0.2032, 0.02363, 0.0, 0.0, 0.1307, 0.1793, 0.0015949999999999998, 0.009193000000000002, 0.2871, 0.2487, 0.06592999999999999, 0.061810000000000004, 0.05375, 0.0015970000000000001, 0.08169, 0.03809, 0.023530000000000002, 0.038439999999999995, 0.1981, 0.03112, 0.0, 0.1085, 0.1697, 0.03873, 0.1385, 0.1103, 0.1114, 0.11800000000000001, 0.04187, 0.1036, 0.3523, 0.1558, 0.08005, 0.0755, 0.01756, 0.0695, 0.08705, 0.05892000000000001, 0.16399999999999998, 0.02669, 0.3201, 0.1682, 0.1115, 0.09901, 0.06636, 0.05774, 0.1272, 0.1145, 0.03888, 0.0786, 0.01768, 0.1147, 0.035539999999999995, 0.05724, 0.0066430000000000005, 0.06505, 0.05438, 0.1695, 0.191, 0.01633, 0.004967, 0.1554, 0.01652, 0.01462, 0.195, 0.09042, 0.1103, 0.1417, 0.04705, 0.01053, 0.1548, 0.04697, 0.2049, 0.048310000000000006, 0.04336, 0.1374, 0.023790000000000002, 0.04328, 0.2712, 0.02638, 0.2417, 0.1266, 0.1379, 0.09788999999999999, 0.1784, 0.2448, 0.3176, 0.1751, 0.1519, 0.02891, 0.09697, 0.042089999999999995, 0.09061, 0.1367, 0.06387000000000001, 0.04072, 0.039, 0.08448, 0.00725, 0.03265, 0.2195, 0.01103, 0.05699, 0.059289999999999995, 0.0014869999999999998, 0.0802, 0.019969999999999998, 0.044789999999999996, 0.1921, 0.02245, 0.1626, 0.1948, 0.1115, 0.00186, 0.06573999999999999, 0.0226, 0.09274, 0.02399, 0.1362, 0.0594, 0.06155, 0.02688, 0.01288, 0.01063, 0.01236, 0.02685, 0.02475, 0.02495, 0.2197, 0.0683, 0.2283, 0.022969999999999997, 0.03344, 0.01974, 0.0014609999999999998, 0.0036810000000000002, 0.002758, 0.0045590000000000006, 0.01583, 0.014469999999999998, 0.04052, 0.013669999999999998, 0.0, 0.0044729999999999995, 0.01123, 0.113, 0.1975, 0.01342, 0.06726, 0.1155, 0.038, 0.2565, 0.01994, 0.03193, 0.01765, 0.001546, 0.1478, 0.1799, 0.1204, 0.07107000000000001, 0.005006, 0.0009737, 0.007756, 0.1508, 0.037380000000000004, 0.106, 0.02511, 0.2308, 0.08007, 0.08422, 0.053970000000000004, 0.1863, 0.040060000000000005, 0.03581, 0.007509999999999999, 0.04608, 0.025869999999999997, 0.01171, 0.008306000000000001, 0.2914, 0.3368, 0.1235, 0.04505, 0.10300000000000001, 0.09602999999999999, 0.015019999999999999, 0.04721, 0.0271, 0.001194, 0.03344, 0.02688, 0.058620000000000005, 0.02181, 0.09799, 0.1641, 0.04392, 0.1168, 0.2448, 0.1811, 0.03393, 0.1932, 0.1527, 0.02556, 0.06651, 0.228, 0.012709999999999999, 0.04249, 0.1689, 0.079, 0.035460000000000005, 0.07943, 0.05892000000000001, 0.050769999999999996, 0.0839, 0.06838999999999999, 0.02045, 0.1007, 0.1856, 0.01923, 0.0, 0.1891, 0.281, 0.047830000000000004, 0.026810000000000004, 0.0858, 0.0739, 0.02712, 0.02853, 0.3189, 0.026060000000000003, 0.04057, 0.03296, 0.02109, 0.04944, 0.055, 0.06126, 0.1201, 0.03211, 0.02783, 0.03046, 0.03735, 0.06859, 0.04686, 0.02555, 0.02047, 0.1522, 0.0236, 0.008955, 0.05485, 0.145, 0.07097, 0.09657, 0.008934000000000001, 0.00247, 0.06335, 0.03614, 0.01369, 0.01402, 0.2733, 0.07741, 0.2133, 0.1594, 0.033460000000000004, 0.1126, 0.01797, 0.035339999999999996, 0.01342, 0.02087, 0.09457, 0.1204, 0.01055, 0.01993, 0.109, 0.05441, 0.1698, 0.04069, 0.08817, 0.1572, 0.08777, 0.1655, 0.04055, 0.06895, 0.029660000000000002, 0.028189999999999996, 0.0716, 0.027719999999999998, 0.01206, 0.01541, 0.1007, 0.3635, 0.03476, 0.03367, 0.048589999999999994, 0.10099999999999999, 0.1085, 0.014790000000000001, 0.2136, 0.102, 0.029480000000000003, 0.02367, 0.055389999999999995, 0.0, 0.05115, 0.05835, 0.05063, 0.02224, 0.053079999999999995, 0.2236, 0.029160000000000002, 0.02995, 0.05786, 0.04548, 0.1191, 0.1544, 0.05192000000000001, 0.2256, 0.042789999999999995, 0.036489999999999995, 0.01714, 0.04445, 0.11699999999999999, 0.0071730000000000006, 0.018000000000000002, 0.06824, 0.08017, 0.03609, 0.1491, 0.2188, 0.07721, 0.1357, 0.05927999999999999, 0.1676, 0.0973, 0.1188, 0.08175, 0.04063, 0.055260000000000004, 0.203, 0.06726, 0.03416, 0.1445, 0.08222, 0.07486, 0.043019999999999996, 0.1569, 0.1411, 0.04825, 0.0388, 0.033319999999999995, 0.231, 0.005067, 0.05385, 0.0233, 0.02565, 0.042010000000000006, 0.029580000000000002, 0.10099999999999999, 0.03781, 0.052820000000000006, 0.042, 0.017519999999999997, 0.1523, 0.052629999999999996, 0.2085, 0.1463, 0.04515, 0.0, 0.09252, 0.06737, 0.1009, 0.04105, 0.029869999999999997, 0.03688, 0.02974, 0.01012, 0.04358, 0.02337, 0.01548, 0.0, 0.04824, 0.019969999999999998, 0.03996, 0.06195, 0.059989999999999995, 0.005025, 0.0, 0.1029, 0.1112, 0.04462, 0.0, 0.255, 0.3174, 0.2439, 0.14400000000000002, 0.09251000000000001, 0.3514, 0.0]}, {\"box\": {\"visible\": true}, \"meanline\": {\"visible\": true}, \"name\": \"concave points_mean\", \"type\": \"violin\", \"x\": 0.2012, \"y\": [0.1471, 0.07017000000000001, 0.1279, 0.1052, 0.1043, 0.08089, 0.07400000000000001, 0.05985, 0.09353, 0.08542999999999999, 0.03323, 0.06606000000000001, 0.1118, 0.05364, 0.08025, 0.07364, 0.05259, 0.1028, 0.09498, 0.047810000000000005, 0.0311, 0.02076, 0.09756000000000001, 0.08632000000000001, 0.0917, 0.1401, 0.08782999999999999, 0.07731, 0.08751, 0.07952999999999999, 0.1244, 0.051820000000000005, 0.1203, 0.07593, 0.07752, 0.06018, 0.055979999999999995, 0.029230000000000003, 0.02899, 0.05439, 0.020309999999999998, 0.05669, 0.09961, 0.061579999999999996, 0.052520000000000004, 0.1009, 0.005917, 0.0734, 0.027489999999999997, 0.033839999999999995, 0.01115, 0.017230000000000002, 0.01349, 0.106, 0.033339999999999995, 0.02278, 0.08993999999999999, 0.08123, 0.0041670000000000006, 0.0077989999999999995, 0.0129, 0.009259, 0.08653, 0.0218, 0.06873, 0.09029, 0.015040000000000001, 0.0223, 0.04375, 0.02864, 0.07951, 0.02872, 0.07944, 0.05069, 0.022719999999999997, 0.06638, 0.06556000000000001, 0.10800000000000001, 0.1604, 0.02315, 0.022330000000000003, 0.06987, 0.1845, 0.1469, 0.01863, 0.08795, 0.04938, 0.08271, 0.03745, 0.07064, 0.02957, 0.07483, 0.02648, 0.0278, 0.08815, 0.08682999999999999, 0.029410000000000002, 0.007937, 0.0335, 0.05839, 0.04489, 0.0, 0.0177, 0.030289999999999997, 0.01201, 0.09601, 0.03485, 0.019209999999999998, 0.1823, 0.01899, 0.01778, 0.06021, 0.07798, 0.030680000000000002, 0.01924, 0.02008, 0.02308, 0.08922999999999999, 0.09479, 0.05596, 0.02623, 0.08665, 0.2012, 0.05778, 0.027999999999999997, 0.01141, 0.03085, 0.05627000000000001, 0.08534, 0.1149, 0.02882, 0.08087000000000001, 0.05612999999999999, 0.059329999999999994, 0.06847, 0.027039999999999998, 0.026000000000000002, 0.02875, 0.08624, 0.04796, 0.0, 0.05943, 0.018609999999999998, 0.03088, 0.007875, 0.03003, 0.07415, 0.03562, 0.05532, 0.01329, 0.02645, 0.02168, 0.07857, 0.01786, 0.03483, 0.02331, 0.1054, 0.027710000000000002, 0.01963, 0.006587999999999999, 0.037380000000000004, 0.09667, 0.1286, 0.02822, 0.09702000000000001, 0.01939, 0.016980000000000002, 0.06576, 0.1043, 0.03781, 0.037000000000000005, 0.03438, 0.1097, 0.025830000000000002, 0.0, 0.0, 0.037160000000000006, 0.08866, 0.001852, 0.0133, 0.1878, 0.1496, 0.05189, 0.02361, 0.03263, 0.002404, 0.05814, 0.032389999999999995, 0.01553, 0.01654, 0.06617999999999999, 0.02864, 0.0, 0.04562, 0.08878, 0.02377, 0.06526, 0.05778, 0.06772, 0.0598, 0.041069999999999995, 0.07488, 0.162, 0.09176000000000001, 0.03821, 0.04079, 0.01952, 0.0539, 0.051019999999999996, 0.03157, 0.09561, 0.013930000000000001, 0.1595, 0.06597, 0.06462000000000001, 0.05602000000000001, 0.03142, 0.010709999999999999, 0.08691, 0.06637, 0.02563, 0.04451, 0.01915, 0.06462000000000001, 0.02456, 0.04603, 0.012159999999999999, 0.0378, 0.02036, 0.06861, 0.109, 0.003125, 0.0064340000000000005, 0.0834, 0.016669999999999997, 0.01896, 0.1237, 0.06022, 0.04408, 0.08811000000000001, 0.03731, 0.01108, 0.02854, 0.02344, 0.08886000000000001, 0.0307, 0.01105, 0.0398, 0.01615, 0.029289999999999997, 0.131, 0.02069, 0.0974, 0.08353, 0.08591, 0.05246, 0.1144, 0.1242, 0.1377, 0.08399, 0.09333, 0.02837, 0.07507, 0.02847, 0.06527000000000001, 0.08646000000000001, 0.02642, 0.021419999999999998, 0.01615, 0.028669999999999998, 0.00625, 0.02755, 0.1088, 0.01407, 0.047439999999999996, 0.07404, 0.003333, 0.058429999999999996, 0.01238, 0.037110000000000004, 0.09664, 0.027630000000000002, 0.09464, 0.09052, 0.0339, 0.002924, 0.03791, 0.01171, 0.05587999999999999, 0.021730000000000003, 0.06602000000000001, 0.04819, 0.0337, 0.0228, 0.01924, 0.01917, 0.01369, 0.03515, 0.01374, 0.01875, 0.1062, 0.030989999999999997, 0.128, 0.0178, 0.015019999999999999, 0.013130000000000001, 0.003261, 0.003472, 0.004419, 0.008829, 0.011479999999999999, 0.01877, 0.025480000000000003, 0.008907, 0.0, 0.006423000000000001, 0.005051, 0.0795, 0.04908, 0.01699, 0.03965, 0.07726, 0.034, 0.1504, 0.016919999999999998, 0.02107, 0.02733, 0.005592, 0.08488, 0.07981, 0.07041, 0.0295, 0.0075829999999999995, 0.002941, 0.008535, 0.09934, 0.020980000000000002, 0.0609, 0.01775, 0.141, 0.042230000000000004, 0.02292, 0.03341, 0.1103, 0.0325, 0.02037, 0.008487999999999999, 0.03528, 0.023219999999999998, 0.01787, 0.01162, 0.1242, 0.1913, 0.06552999999999999, 0.014709999999999999, 0.043910000000000005, 0.056029999999999996, 0.020880000000000003, 0.023809999999999998, 0.01406, 0.005449, 0.02424, 0.01781, 0.04835, 0.014730000000000002, 0.07785, 0.1265, 0.02027, 0.08465, 0.1501, 0.08772999999999999, 0.02657, 0.1255, 0.08941, 0.020309999999999998, 0.053970000000000004, 0.059410000000000004, 0.011170000000000001, 0.02471, 0.06367, 0.0555, 0.02074, 0.02978, 0.0288, 0.02864, 0.05271, 0.02534, 0.008506999999999999, 0.027569999999999997, 0.1021, 0.01968, 0.0, 0.09112999999999999, 0.1562, 0.033260000000000005, 0.032510000000000004, 0.053810000000000004, 0.04083, 0.007245999999999999, 0.016380000000000002, 0.1198, 0.01796, 0.01883, 0.0239, 0.02054, 0.02932, 0.04528, 0.01867, 0.08824, 0.02653, 0.021, 0.0248, 0.005128, 0.03876, 0.027389999999999998, 0.02179, 0.01257, 0.08481, 0.02402, 0.010759999999999999, 0.014280000000000001, 0.063, 0.044969999999999996, 0.048119999999999996, 0.01967, 0.005159, 0.022180000000000002, 0.01404, 0.0137, 0.01835, 0.09711, 0.027989999999999998, 0.1259, 0.08744, 0.02877, 0.06462999999999999, 0.0209, 0.029439999999999997, 0.022930000000000002, 0.02652, 0.03613, 0.05736, 0.009937, 0.01111, 0.06254, 0.04274, 0.08292999999999999, 0.0226, 0.02925, 0.1155, 0.02386, 0.09063, 0.01945, 0.06495, 0.022719999999999997, 0.032639999999999995, 0.02017, 0.02068, 0.01762, 0.01043, 0.06431, 0.1689, 0.01737, 0.017769999999999998, 0.0287, 0.02833, 0.0351, 0.005769, 0.1002, 0.055639999999999995, 0.01514, 0.02377, 0.03221, 0.0, 0.01571, 0.030780000000000002, 0.03058, 0.01339, 0.01969, 0.09194, 0.015269999999999999, 0.0207, 0.052660000000000005, 0.0316, 0.062110000000000005, 0.04846, 0.02791, 0.1194, 0.03132, 0.02307, 0.01261, 0.04178, 0.07762000000000001, 0.01149, 0.01256, 0.049510000000000005, 0.05074, 0.02369, 0.09183, 0.1121, 0.06142, 0.06759, 0.03279, 0.1003, 0.052520000000000004, 0.07038, 0.02166, 0.04268, 0.045630000000000004, 0.0852, 0.026389999999999997, 0.02541, 0.08172, 0.04349, 0.04335, 0.025939999999999998, 0.09451, 0.09431, 0.053029999999999994, 0.02995, 0.02421, 0.1471, 0.005664, 0.03783, 0.02416, 0.0151, 0.03152, 0.02647, 0.06615, 0.02798, 0.0444, 0.02157, 0.0188, 0.1015, 0.027880000000000002, 0.1322, 0.06139, 0.04531, 0.0, 0.013640000000000001, 0.025939999999999998, 0.0389, 0.03027, 0.03275, 0.02369, 0.02443, 0.005495, 0.024380000000000002, 0.009615, 0.008159999999999999, 0.0, 0.02257, 0.01499, 0.012819999999999998, 0.02343, 0.02738, 0.01116, 0.0, 0.037360000000000004, 0.04105, 0.043039999999999995, 0.0, 0.09429, 0.1474, 0.1389, 0.09791, 0.053020000000000005, 0.152, 0.0]}, {\"box\": {\"visible\": true}, \"meanline\": {\"visible\": true}, \"name\": \"symmetry_mean\", \"type\": \"violin\", \"x\": 0.304, \"y\": [0.2419, 0.1812, 0.2069, 0.2597, 0.1809, 0.2087, 0.1794, 0.2196, 0.235, 0.203, 0.1528, 0.1842, 0.2397, 0.1847, 0.2069, 0.2303, 0.1586, 0.2164, 0.1582, 0.1885, 0.1967, 0.1815, 0.2521, 0.1769, 0.1995, 0.304, 0.2252, 0.1697, 0.1926, 0.1739, 0.2183, 0.2301, 0.2248, 0.1853, 0.1998, 0.1896, 0.1885, 0.1467, 0.1565, 0.172, 0.1784, 0.1895, 0.231, 0.1974, 0.1746, 0.1907, 0.1769, 0.2128, 0.1675, 0.1809, 0.1495, 0.1353, 0.1868, 0.2092, 0.1616, 0.192, 0.1917, 0.2027, 0.1819, 0.1683, 0.2743, 0.1828, 0.1949, 0.2341, 0.1905, 0.1953, 0.1717, 0.1516, 0.2111, 0.159, 0.1582, 0.1902, 0.1927, 0.1662, 0.172, 0.1798, 0.2403, 0.2152, 0.2906, 0.1718, 0.1842, 0.1942, 0.1829, 0.1634, 0.2079, 0.2132, 0.2075, 0.1953, 0.193, 0.2116, 0.1685, 0.1717, 0.1386, 0.1638, 0.1855, 0.2095, 0.19, 0.135, 0.162, 0.1879, 0.1609, 0.193, 0.1739, 0.1945, 0.2217, 0.1925, 0.1801, 0.1602, 0.2556, 0.1487, 0.1584, 0.1735, 0.1704, 0.1922, 0.1649, 0.1688, 0.1305, 0.2157, 0.2096, 0.2129, 0.1667, 0.1966, 0.2655, 0.1856, 0.1422, 0.1614, 0.1761, 0.1946, 0.2001, 0.2202, 0.188, 0.1931, 0.21600000000000003, 0.1816, 0.1692, 0.1585, 0.1339, 0.1734, 0.1957, 0.1771, 0.1903, 0.1861, 0.1645, 0.1778, 0.1399, 0.1995, 0.2678, 0.1744, 0.1724, 0.1473, 0.254, 0.2222, 0.2548, 0.183, 0.1822, 0.19699999999999998, 0.1971, 0.1844, 0.159, 0.1442, 0.1993, 0.1741, 0.2027, 0.1551, 0.1801, 0.1515, 0.1381, 0.1893, 0.1538, 0.17800000000000002, 0.1959, 0.1598, 0.1966, 0.1566, 0.1928, 0.1722, 0.1669, 0.1794, 0.1395, 0.1466, 0.18, 0.2395, 0.1618, 0.1167, 0.1727, 0.1703, 0.1621, 0.1516, 0.1718, 0.1667, 0.2384, 0.1694, 0.1653, 0.1943, 0.1737, 0.1829, 0.1834, 0.177, 0.1767, 0.195, 0.1979, 0.1506, 0.22, 0.2251, 0.1925, 0.1594, 0.1934, 0.2026, 0.185, 0.1359, 0.1765, 0.1533, 0.1648, 0.1308, 0.2235, 0.2106, 0.1967, 0.1964, 0.2094, 0.1428, 0.136, 0.1962, 0.191, 0.1935, 0.1496, 0.2075, 0.1788, 0.1881, 0.1514, 0.2123, 0.2131, 0.1869, 0.1845, 0.1448, 0.1551, 0.1517, 0.1909, 0.1467, 0.1342, 0.1809, 0.1717, 0.1546, 0.2054, 0.1773, 0.1978, 0.1737, 0.1487, 0.1596, 0.1897, 0.1883, 0.2205, 0.1834, 0.1733, 0.1813, 0.1776, 0.1908, 0.1893, 0.2398, 0.2495, 0.2091, 0.1814, 0.1564, 0.2108, 0.1547, 0.1867, 0.1769, 0.1922, 0.1635, 0.201, 0.1668, 0.1508, 0.1769, 0.1721, 0.2081, 0.1538, 0.2015, 0.1954, 0.155, 0.1573, 0.21100000000000002, 0.1902, 0.2101, 0.1893, 0.1876, 0.1432, 0.1697, 0.1588, 0.1337, 0.2595, 0.2013, 0.1714, 0.1879, 0.17300000000000001, 0.1875, 0.1638, 0.1592, 0.1449, 0.1619, 0.1635, 0.1695, 0.1792, 0.1781, 0.2249, 0.1482, 0.1411, 0.1935, 0.1632, 0.1788, 0.1365, 0.1453, 0.1936, 0.1632, 0.1601, 0.1833, 0.2163, 0.1215, 0.1673, 0.1807, 0.233, 0.1472, 0.1743, 0.1928, 0.1543, 0.2569, 0.1638, 0.1707, 0.1373, 0.1382, 0.1948, 0.1869, 0.1782, 0.1761, 0.19399999999999998, 0.1773, 0.1539, 0.1727, 0.1652, 0.1953, 0.18899999999999997, 0.1797, 0.1912, 0.2036, 0.1776, 0.2082, 0.2009, 0.1633, 0.1555, 0.1521, 0.1634, 0.2459, 0.1671, 0.2375, 0.1956, 0.1647, 0.16899999999999998, 0.1533, 0.2035, 0.1424, 0.193, 0.1506, 0.1528, 0.1815, 0.1759, 0.1495, 0.165, 0.1618, 0.1875, 0.1695, 0.1717, 0.1824, 0.2175, 0.1721, 0.1973, 0.1571, 0.1872, 0.19899999999999998, 0.2188, 0.1421, 0.1792, 0.2196, 0.2018, 0.2003, 0.1203, 0.1779, 0.1617, 0.1627, 0.1646, 0.1607, 0.18100000000000002, 0.1989, 0.18, 0.1985, 0.1929, 0.2162, 0.1937, 0.1641, 0.1806, 0.1574, 0.1535, 0.1847, 0.2113, 0.1601, 0.1874, 0.1735, 0.1571, 0.1486, 0.1735, 0.158, 0.1992, 0.1966, 0.1601, 0.1714, 0.1274, 0.1944, 0.1852, 0.2019, 0.2025, 0.2085, 0.1583, 0.1615, 0.2031, 0.2086, 0.1886, 0.1848, 0.2538, 0.163, 0.1925, 0.2016, 0.1511, 0.1459, 0.2041, 0.1811, 0.1724, 0.1943, 0.1573, 0.1669, 0.1861, 0.1714, 0.1555, 0.1589, 0.1489, 0.1467, 0.1405, 0.2372, 0.172, 0.182, 0.1713, 0.1893, 0.1473, 0.1554, 0.1349, 0.1663, 0.1615, 0.165, 0.1799, 0.1375, 0.1799, 0.1619, 0.1667, 0.1621, 0.1793, 0.2061, 0.1707, 0.1516, 0.1454, 0.1601, 0.1562, 0.168, 0.1696, 0.1957, 0.2238, 0.1854, 0.1687, 0.1701, 0.1861, 0.1705, 0.1506, 0.1813, 0.1779, 0.2151, 0.1464, 0.1579, 0.1779, 0.1732, 0.1784, 0.2082, 0.1409, 0.1823, 0.1853, 0.1846, 0.1544, 0.122, 0.2116, 0.1613, 0.1713, 0.1487, 0.1641, 0.1526, 0.1832, 0.1848, 0.1668, 0.2275, 0.1943, 0.1505, 0.2378, 0.2057, 0.2124, 0.1954, 0.1711, 0.1807, 0.1499, 0.1659, 0.2116, 0.1739, 0.1561, 0.1927, 0.18600000000000003, 0.1802, 0.1709, 0.212, 0.2197, 0.1991, 0.1637, 0.1714, 0.1387, 0.1678, 0.1723, 0.1689, 0.1976, 0.1657, 0.1598, 0.1859, 0.1631, 0.2166, 0.1619, 0.2127, 0.1926, 0.2131, 0.187, 0.2037, 0.1818, 0.1872, 0.184, 0.1628, 0.162, 0.1664, 0.1885, 0.1669, 0.158, 0.1976, 0.1661, 0.203, 0.1539, 0.1692, 0.1566, 0.1593, 0.1791, 0.1742, 0.1454, 0.1388, 0.1537, 0.106, 0.2128, 0.2149, 0.1726, 0.1752, 0.159, 0.2397, 0.1587]}, {\"box\": {\"visible\": true}, \"meanline\": {\"visible\": true}, \"name\": \"fractal_dimension_mean\", \"type\": \"violin\", \"x\": 0.09744, \"y\": [0.07871, 0.056670000000000005, 0.059989999999999995, 0.09744, 0.05882999999999999, 0.07612999999999999, 0.057420000000000006, 0.07451, 0.07389, 0.08242999999999999, 0.05697000000000001, 0.060820000000000006, 0.078, 0.05338, 0.07682, 0.07077, 0.05922, 0.07356, 0.05395, 0.05766, 0.06811, 0.06905, 0.07032000000000001, 0.052779999999999994, 0.0633, 0.07413, 0.06924, 0.05699, 0.0654, 0.061489999999999996, 0.061970000000000004, 0.07799, 0.06382, 0.06261, 0.06515, 0.05656, 0.06125, 0.058629999999999995, 0.05504, 0.06419, 0.05587, 0.0687, 0.06343, 0.06782, 0.061770000000000005, 0.060489999999999995, 0.06502999999999999, 0.06777000000000001, 0.06043, 0.057179999999999995, 0.058879999999999995, 0.05952999999999999, 0.0611, 0.0631, 0.056839999999999995, 0.059070000000000004, 0.05961, 0.06758, 0.05501, 0.07187, 0.0696, 0.06757, 0.07292, 0.06963, 0.0659, 0.06654, 0.06899, 0.056670000000000005, 0.08046, 0.05653, 0.05461, 0.0898, 0.06487000000000001, 0.06566, 0.05914, 0.05391, 0.06641, 0.06673, 0.08142, 0.05997, 0.07005, 0.06902, 0.06782, 0.07224, 0.05968, 0.06022, 0.05636, 0.05629, 0.06404, 0.06346, 0.058660000000000004, 0.06097, 0.05318, 0.0571, 0.06284, 0.05649, 0.06635, 0.0689, 0.06582, 0.0639, 0.058710000000000005, 0.07818, 0.05677000000000001, 0.06322, 0.06481, 0.07692, 0.0652, 0.060660000000000006, 0.07039, 0.06529, 0.07065, 0.0707, 0.07769, 0.07782, 0.07633, 0.061939999999999995, 0.07163, 0.06767999999999999, 0.07331, 0.05025, 0.06113, 0.06213, 0.06877, 0.06402000000000001, 0.05823, 0.0589, 0.0613, 0.05044, 0.06467, 0.06113, 0.06471, 0.057960000000000005, 0.058910000000000004, 0.057229999999999996, 0.05727, 0.06065, 0.05945, 0.05865, 0.06216, 0.06072, 0.06422, 0.062479999999999994, 0.06562, 0.06235, 0.05687999999999999, 0.07839, 0.07371, 0.06493, 0.06081, 0.0558, 0.06087000000000001, 0.08261, 0.09296, 0.06105, 0.06207000000000001, 0.062279999999999995, 0.06166, 0.05268, 0.059070000000000004, 0.057429999999999995, 0.06452999999999999, 0.05176, 0.060820000000000006, 0.06761, 0.055529999999999996, 0.052660000000000005, 0.064, 0.05534, 0.06365, 0.0565, 0.05955, 0.05671, 0.07069, 0.06669, 0.05975, 0.06724, 0.08116, 0.06323, 0.05234, 0.061329999999999996, 0.0577, 0.07397999999999999, 0.05549, 0.06217, 0.06317, 0.06047999999999999, 0.05425, 0.06095, 0.0578, 0.05474, 0.07542, 0.06287000000000001, 0.06447, 0.06937, 0.06672, 0.056670000000000005, 0.06877, 0.0534, 0.05529, 0.06466000000000001, 0.060129999999999996, 0.05491, 0.06229, 0.07421, 0.06373, 0.059860000000000003, 0.06285, 0.05223, 0.0731, 0.055260000000000004, 0.05024, 0.060570000000000006, 0.05525, 0.058660000000000004, 0.06433, 0.06916, 0.06314, 0.06315, 0.055810000000000005, 0.05313, 0.06344, 0.06302999999999999, 0.06907999999999999, 0.06302999999999999, 0.05674, 0.054479999999999994, 0.0645, 0.059070000000000004, 0.06019, 0.07254, 0.06325, 0.05628, 0.05828, 0.055920000000000004, 0.06402999999999999, 0.05835, 0.06309, 0.051770000000000004, 0.06129, 0.059660000000000005, 0.0566, 0.05754, 0.07669, 0.05429, 0.06, 0.0644, 0.05635, 0.06409, 0.06329, 0.06168, 0.05898, 0.05934, 0.06697, 0.05612999999999999, 0.056470000000000006, 0.0613, 0.06232000000000001, 0.07596, 0.08104, 0.0665, 0.055720000000000006, 0.053070000000000006, 0.05464, 0.05442999999999999, 0.0558, 0.05674, 0.06491, 0.058589999999999996, 0.05769, 0.06862, 0.05376, 0.0627, 0.061939999999999995, 0.06312000000000001, 0.0551, 0.05875, 0.058210000000000005, 0.049960000000000004, 0.0552, 0.05853, 0.0622, 0.06113, 0.05892000000000001, 0.06684, 0.05935, 0.05855, 0.06766, 0.055810000000000005, 0.062329999999999997, 0.05955, 0.07192, 0.05852, 0.0647, 0.05715, 0.061, 0.059120000000000006, 0.06031, 0.06287000000000001, 0.05586, 0.06556000000000001, 0.06552000000000001, 0.06249, 0.07468999999999999, 0.066, 0.06242999999999999, 0.05878, 0.05894, 0.06833, 0.05335, 0.05517999999999999, 0.061279999999999994, 0.05255, 0.0614, 0.061, 0.07359, 0.056729999999999996, 0.05649, 0.056639999999999996, 0.08743, 0.05561, 0.07279, 0.050960000000000005, 0.06476, 0.0667, 0.06129, 0.05984, 0.057, 0.0607, 0.06277, 0.06532, 0.05976, 0.0654, 0.06027999999999999, 0.06081, 0.05945, 0.06071, 0.07238, 0.060829999999999995, 0.06331, 0.055060000000000005, 0.06412000000000001, 0.07125, 0.06907, 0.05715, 0.06506, 0.07005, 0.06047999999999999, 0.059120000000000006, 0.06372, 0.06581000000000001, 0.05731, 0.07603, 0.06121, 0.06464, 0.060829999999999995, 0.06184, 0.06501, 0.05882999999999999, 0.06621, 0.06959, 0.05185, 0.056960000000000004, 0.061829999999999996, 0.055929999999999994, 0.057010000000000005, 0.05557, 0.0602, 0.059160000000000004, 0.050539999999999995, 0.0614, 0.06217999999999999, 0.055439999999999996, 0.061829999999999996, 0.054779999999999995, 0.05669, 0.06572, 0.0845, 0.057629999999999994, 0.05897, 0.0795, 0.06914, 0.06246, 0.06659, 0.06588, 0.05594, 0.05416, 0.06154, 0.05474, 0.07252, 0.058839999999999996, 0.06569, 0.07098, 0.06744, 0.06606000000000001, 0.061610000000000005, 0.05764, 0.06079, 0.0575, 0.06214, 0.06019, 0.07115, 0.05541, 0.05899, 0.062, 0.05708, 0.06615, 0.05875, 0.06114, 0.06069, 0.055970000000000006, 0.059129999999999995, 0.0634, 0.06724, 0.059129999999999995, 0.05294, 0.0629, 0.06601, 0.06863999999999999, 0.06275, 0.061439999999999995, 0.06267, 0.07406, 0.0632, 0.061810000000000004, 0.07028999999999999, 0.06439, 0.06915, 0.059770000000000004, 0.06147999999999999, 0.055439999999999996, 0.06898, 0.07102, 0.060529999999999994, 0.061320000000000006, 0.05703, 0.06544, 0.06347, 0.05898, 0.056729999999999996, 0.05586, 0.0664, 0.05407000000000001, 0.05848, 0.057679999999999995, 0.0578, 0.0685, 0.059160000000000004, 0.05886, 0.057460000000000004, 0.05661, 0.06612, 0.05391, 0.06104, 0.06121, 0.05826, 0.060160000000000005, 0.06166, 0.05584, 0.05449, 0.05952, 0.06281, 0.056229999999999995, 0.054329999999999996, 0.058589999999999996, 0.05549, 0.06432, 0.0602, 0.06412000000000001, 0.07368999999999999, 0.07255, 0.06412999999999999, 0.056979999999999996, 0.05669, 0.0596, 0.06837, 0.059129999999999995, 0.06009, 0.05536, 0.06573999999999999, 0.06577999999999999, 0.06284, 0.05594, 0.06639, 0.06088, 0.06258999999999999, 0.07325, 0.05355, 0.06115, 0.06401, 0.05325, 0.05976, 0.05243, 0.060770000000000005, 0.060129999999999996, 0.058879999999999995, 0.057479999999999996, 0.06854, 0.06046, 0.06697, 0.062220000000000004, 0.06869, 0.07237, 0.06612, 0.05484, 0.09502000000000001, 0.09575, 0.06894, 0.07976, 0.05657, 0.07082999999999999, 0.06758, 0.05347999999999999, 0.07325, 0.0564, 0.05915, 0.062110000000000005, 0.059410000000000004, 0.06188, 0.07253, 0.06623, 0.07696, 0.06738999999999999, 0.06343, 0.06842999999999999, 0.06891, 0.07126, 0.06317, 0.05807999999999999, 0.06457, 0.06608, 0.06677000000000001, 0.06461, 0.06155, 0.054189999999999995, 0.06408, 0.06251, 0.059820000000000005, 0.07405, 0.07285, 0.07751, 0.06782, 0.06341000000000001, 0.0568, 0.05781, 0.06688, 0.05801, 0.06201, 0.06713999999999999, 0.06235, 0.06327999999999999, 0.05948, 0.06552000000000001, 0.05637, 0.06576, 0.05708, 0.061270000000000005, 0.06331, 0.06059, 0.061470000000000004, 0.0657, 0.06171, 0.055020000000000006, 0.07152, 0.06879, 0.056229999999999995, 0.05533, 0.056479999999999995, 0.07016, 0.058839999999999996]}],\n",
              "                        {\"title\": \"Violin plot of all stats\", \"yaxis\": {\"zeroline\": false}},\n",
              "                        {\"responsive\": true}\n",
              "                    ).then(function(){\n",
              "                            \n",
              "var gd = document.getElementById('3db0e281-f8be-479d-aae4-67d0bbecbf7a');\n",
              "var x = new MutationObserver(function (mutations, observer) {{\n",
              "        var display = window.getComputedStyle(gd).display;\n",
              "        if (!display || display === 'none') {{\n",
              "            console.log([gd, 'removed!']);\n",
              "            Plotly.purge(gd);\n",
              "            observer.disconnect();\n",
              "        }}\n",
              "}});\n",
              "\n",
              "// Listen for the removal of the full notebook cells\n",
              "var notebookContainer = gd.closest('#notebook-container');\n",
              "if (notebookContainer) {{\n",
              "    x.observe(notebookContainer, {childList: true});\n",
              "}}\n",
              "\n",
              "// Listen for the clearing of the current output cell\n",
              "var outputEl = gd.closest('.output');\n",
              "if (outputEl) {{\n",
              "    x.observe(outputEl, {childList: true});\n",
              "}}\n",
              "\n",
              "                        })\n",
              "                };\n",
              "                \n",
              "            </script>\n",
              "        </div>\n",
              "</body>\n",
              "</html>"
            ]
          },
          "metadata": {
            "tags": []
          }
        }
      ]
    },
    {
      "cell_type": "markdown",
      "metadata": {
        "id": "pgli_8p7eI62",
        "colab_type": "text"
      },
      "source": [
        "## **Donut Chart**"
      ]
    },
    {
      "cell_type": "markdown",
      "metadata": {
        "id": "Sk-rFn0beBE-",
        "colab_type": "text"
      },
      "source": [
        "### Donut Chart (also known as Doughnut chart) is a variation on a Pie chart except it has a round hole in the center which makes it look like a donut, hence the name"
      ]
    },
    {
      "cell_type": "code",
      "metadata": {
        "id": "LTDF7D_LcN-8",
        "colab_type": "code",
        "colab": {
          "base_uri": "https://localhost:8080/",
          "height": 542
        },
        "outputId": "e2343343-e279-4861-d22e-a37789d6c1e4"
      },
      "source": [
        "\n",
        "trace=[go.Pie(labels=df.diagnosis.value_counts().index,values=df.diagnosis.value_counts().values\n",
        "       ,hoverinfo=\"label+percent+value\"\n",
        "        ,hole=.5\n",
        "      )]\n",
        "\n",
        "layout2=dict(title=\"Pie Chart of Diagnosis\")\n",
        "\n",
        "iplot(trace,layout2)"
      ],
      "execution_count": 15,
      "outputs": [
        {
          "output_type": "display_data",
          "data": {
            "text/html": [
              "<html>\n",
              "<head><meta charset=\"utf-8\" /></head>\n",
              "<body>\n",
              "    <div>\n",
              "            <script src=\"https://cdnjs.cloudflare.com/ajax/libs/mathjax/2.7.5/MathJax.js?config=TeX-AMS-MML_SVG\"></script><script type=\"text/javascript\">if (window.MathJax) {MathJax.Hub.Config({SVG: {font: \"STIX-Web\"}});}</script>\n",
              "                <script type=\"text/javascript\">window.PlotlyConfig = {MathJaxConfig: 'local'};</script>\n",
              "        <script src=\"https://cdn.plot.ly/plotly-latest.min.js\"></script>    \n",
              "            <div id=\"7572aa10-4309-423f-ab2f-f711c1a320ae\" class=\"plotly-graph-div\" style=\"height:525px; width:100%;\"></div>\n",
              "            <script type=\"text/javascript\">\n",
              "                \n",
              "                    window.PLOTLYENV=window.PLOTLYENV || {};\n",
              "                    window.PLOTLYENV.BASE_URL='https://plot.ly';\n",
              "                    \n",
              "                if (document.getElementById(\"7572aa10-4309-423f-ab2f-f711c1a320ae\")) {\n",
              "                    Plotly.newPlot(\n",
              "                        '7572aa10-4309-423f-ab2f-f711c1a320ae',\n",
              "                        [{\"hole\": 0.5, \"hoverinfo\": \"label+percent+value\", \"labels\": [0, 1], \"type\": \"pie\", \"values\": [357, 212]}],\n",
              "                        {\"template\": {\"data\": {\"bar\": [{\"error_x\": {\"color\": \"#2a3f5f\"}, \"error_y\": {\"color\": \"#2a3f5f\"}, \"marker\": {\"line\": {\"color\": \"#E5ECF6\", \"width\": 0.5}}, \"type\": \"bar\"}], \"barpolar\": [{\"marker\": {\"line\": {\"color\": \"#E5ECF6\", \"width\": 0.5}}, \"type\": \"barpolar\"}], \"carpet\": [{\"aaxis\": {\"endlinecolor\": \"#2a3f5f\", \"gridcolor\": \"white\", \"linecolor\": \"white\", \"minorgridcolor\": \"white\", \"startlinecolor\": \"#2a3f5f\"}, \"baxis\": {\"endlinecolor\": \"#2a3f5f\", \"gridcolor\": \"white\", \"linecolor\": \"white\", \"minorgridcolor\": \"white\", \"startlinecolor\": \"#2a3f5f\"}, \"type\": \"carpet\"}], \"choropleth\": [{\"colorbar\": {\"outlinewidth\": 0, \"ticks\": \"\"}, \"type\": \"choropleth\"}], \"contour\": [{\"colorbar\": {\"outlinewidth\": 0, \"ticks\": \"\"}, \"colorscale\": [[0.0, \"#0d0887\"], [0.1111111111111111, \"#46039f\"], [0.2222222222222222, \"#7201a8\"], [0.3333333333333333, \"#9c179e\"], [0.4444444444444444, \"#bd3786\"], [0.5555555555555556, \"#d8576b\"], [0.6666666666666666, \"#ed7953\"], [0.7777777777777778, \"#fb9f3a\"], [0.8888888888888888, \"#fdca26\"], [1.0, \"#f0f921\"]], \"type\": \"contour\"}], \"contourcarpet\": [{\"colorbar\": {\"outlinewidth\": 0, \"ticks\": \"\"}, \"type\": \"contourcarpet\"}], \"heatmap\": [{\"colorbar\": {\"outlinewidth\": 0, \"ticks\": \"\"}, \"colorscale\": [[0.0, \"#0d0887\"], [0.1111111111111111, \"#46039f\"], [0.2222222222222222, \"#7201a8\"], [0.3333333333333333, \"#9c179e\"], [0.4444444444444444, \"#bd3786\"], [0.5555555555555556, \"#d8576b\"], [0.6666666666666666, \"#ed7953\"], [0.7777777777777778, \"#fb9f3a\"], [0.8888888888888888, \"#fdca26\"], [1.0, \"#f0f921\"]], \"type\": \"heatmap\"}], \"heatmapgl\": [{\"colorbar\": {\"outlinewidth\": 0, \"ticks\": \"\"}, \"colorscale\": [[0.0, \"#0d0887\"], [0.1111111111111111, \"#46039f\"], [0.2222222222222222, \"#7201a8\"], [0.3333333333333333, \"#9c179e\"], [0.4444444444444444, \"#bd3786\"], [0.5555555555555556, \"#d8576b\"], [0.6666666666666666, \"#ed7953\"], [0.7777777777777778, \"#fb9f3a\"], [0.8888888888888888, \"#fdca26\"], [1.0, \"#f0f921\"]], \"type\": \"heatmapgl\"}], \"histogram\": [{\"marker\": {\"colorbar\": {\"outlinewidth\": 0, \"ticks\": \"\"}}, \"type\": \"histogram\"}], \"histogram2d\": [{\"colorbar\": {\"outlinewidth\": 0, \"ticks\": \"\"}, \"colorscale\": [[0.0, \"#0d0887\"], [0.1111111111111111, \"#46039f\"], [0.2222222222222222, \"#7201a8\"], [0.3333333333333333, \"#9c179e\"], [0.4444444444444444, \"#bd3786\"], [0.5555555555555556, \"#d8576b\"], [0.6666666666666666, \"#ed7953\"], [0.7777777777777778, \"#fb9f3a\"], [0.8888888888888888, \"#fdca26\"], [1.0, \"#f0f921\"]], \"type\": \"histogram2d\"}], \"histogram2dcontour\": [{\"colorbar\": {\"outlinewidth\": 0, \"ticks\": \"\"}, \"colorscale\": [[0.0, \"#0d0887\"], [0.1111111111111111, \"#46039f\"], [0.2222222222222222, \"#7201a8\"], [0.3333333333333333, \"#9c179e\"], [0.4444444444444444, \"#bd3786\"], [0.5555555555555556, \"#d8576b\"], [0.6666666666666666, \"#ed7953\"], [0.7777777777777778, \"#fb9f3a\"], [0.8888888888888888, \"#fdca26\"], [1.0, \"#f0f921\"]], \"type\": \"histogram2dcontour\"}], \"mesh3d\": [{\"colorbar\": {\"outlinewidth\": 0, \"ticks\": \"\"}, \"type\": \"mesh3d\"}], \"parcoords\": [{\"line\": {\"colorbar\": {\"outlinewidth\": 0, \"ticks\": \"\"}}, \"type\": \"parcoords\"}], \"pie\": [{\"automargin\": true, \"type\": \"pie\"}], \"scatter\": [{\"marker\": {\"colorbar\": {\"outlinewidth\": 0, \"ticks\": \"\"}}, \"type\": \"scatter\"}], \"scatter3d\": [{\"line\": {\"colorbar\": {\"outlinewidth\": 0, \"ticks\": \"\"}}, \"marker\": {\"colorbar\": {\"outlinewidth\": 0, \"ticks\": \"\"}}, \"type\": \"scatter3d\"}], \"scattercarpet\": [{\"marker\": {\"colorbar\": {\"outlinewidth\": 0, \"ticks\": \"\"}}, \"type\": \"scattercarpet\"}], \"scattergeo\": [{\"marker\": {\"colorbar\": {\"outlinewidth\": 0, \"ticks\": \"\"}}, \"type\": \"scattergeo\"}], \"scattergl\": [{\"marker\": {\"colorbar\": {\"outlinewidth\": 0, \"ticks\": \"\"}}, \"type\": \"scattergl\"}], \"scattermapbox\": [{\"marker\": {\"colorbar\": {\"outlinewidth\": 0, \"ticks\": \"\"}}, \"type\": \"scattermapbox\"}], \"scatterpolar\": [{\"marker\": {\"colorbar\": {\"outlinewidth\": 0, \"ticks\": \"\"}}, \"type\": \"scatterpolar\"}], \"scatterpolargl\": [{\"marker\": {\"colorbar\": {\"outlinewidth\": 0, \"ticks\": \"\"}}, \"type\": \"scatterpolargl\"}], \"scatterternary\": [{\"marker\": {\"colorbar\": {\"outlinewidth\": 0, \"ticks\": \"\"}}, \"type\": \"scatterternary\"}], \"surface\": [{\"colorbar\": {\"outlinewidth\": 0, \"ticks\": \"\"}, \"colorscale\": [[0.0, \"#0d0887\"], [0.1111111111111111, \"#46039f\"], [0.2222222222222222, \"#7201a8\"], [0.3333333333333333, \"#9c179e\"], [0.4444444444444444, \"#bd3786\"], [0.5555555555555556, \"#d8576b\"], [0.6666666666666666, \"#ed7953\"], [0.7777777777777778, \"#fb9f3a\"], [0.8888888888888888, \"#fdca26\"], [1.0, \"#f0f921\"]], \"type\": \"surface\"}], \"table\": [{\"cells\": {\"fill\": {\"color\": \"#EBF0F8\"}, \"line\": {\"color\": \"white\"}}, \"header\": {\"fill\": {\"color\": \"#C8D4E3\"}, \"line\": {\"color\": \"white\"}}, \"type\": \"table\"}]}, \"layout\": {\"annotationdefaults\": {\"arrowcolor\": \"#2a3f5f\", \"arrowhead\": 0, \"arrowwidth\": 1}, \"coloraxis\": {\"colorbar\": {\"outlinewidth\": 0, \"ticks\": \"\"}}, \"colorscale\": {\"diverging\": [[0, \"#8e0152\"], [0.1, \"#c51b7d\"], [0.2, \"#de77ae\"], [0.3, \"#f1b6da\"], [0.4, \"#fde0ef\"], [0.5, \"#f7f7f7\"], [0.6, \"#e6f5d0\"], [0.7, \"#b8e186\"], [0.8, \"#7fbc41\"], [0.9, \"#4d9221\"], [1, \"#276419\"]], \"sequential\": [[0.0, \"#0d0887\"], [0.1111111111111111, \"#46039f\"], [0.2222222222222222, \"#7201a8\"], [0.3333333333333333, \"#9c179e\"], [0.4444444444444444, \"#bd3786\"], [0.5555555555555556, \"#d8576b\"], [0.6666666666666666, \"#ed7953\"], [0.7777777777777778, \"#fb9f3a\"], [0.8888888888888888, \"#fdca26\"], [1.0, \"#f0f921\"]], \"sequentialminus\": [[0.0, \"#0d0887\"], [0.1111111111111111, \"#46039f\"], [0.2222222222222222, \"#7201a8\"], [0.3333333333333333, \"#9c179e\"], [0.4444444444444444, \"#bd3786\"], [0.5555555555555556, \"#d8576b\"], [0.6666666666666666, \"#ed7953\"], [0.7777777777777778, \"#fb9f3a\"], [0.8888888888888888, \"#fdca26\"], [1.0, \"#f0f921\"]]}, \"colorway\": [\"#636efa\", \"#EF553B\", \"#00cc96\", \"#ab63fa\", \"#FFA15A\", \"#19d3f3\", \"#FF6692\", \"#B6E880\", \"#FF97FF\", \"#FECB52\"], \"font\": {\"color\": \"#2a3f5f\"}, \"geo\": {\"bgcolor\": \"white\", \"lakecolor\": \"white\", \"landcolor\": \"#E5ECF6\", \"showlakes\": true, \"showland\": true, \"subunitcolor\": \"white\"}, \"hoverlabel\": {\"align\": \"left\"}, \"hovermode\": \"closest\", \"mapbox\": {\"style\": \"light\"}, \"paper_bgcolor\": \"white\", \"plot_bgcolor\": \"#E5ECF6\", \"polar\": {\"angularaxis\": {\"gridcolor\": \"white\", \"linecolor\": \"white\", \"ticks\": \"\"}, \"bgcolor\": \"#E5ECF6\", \"radialaxis\": {\"gridcolor\": \"white\", \"linecolor\": \"white\", \"ticks\": \"\"}}, \"scene\": {\"xaxis\": {\"backgroundcolor\": \"#E5ECF6\", \"gridcolor\": \"white\", \"gridwidth\": 2, \"linecolor\": \"white\", \"showbackground\": true, \"ticks\": \"\", \"zerolinecolor\": \"white\"}, \"yaxis\": {\"backgroundcolor\": \"#E5ECF6\", \"gridcolor\": \"white\", \"gridwidth\": 2, \"linecolor\": \"white\", \"showbackground\": true, \"ticks\": \"\", \"zerolinecolor\": \"white\"}, \"zaxis\": {\"backgroundcolor\": \"#E5ECF6\", \"gridcolor\": \"white\", \"gridwidth\": 2, \"linecolor\": \"white\", \"showbackground\": true, \"ticks\": \"\", \"zerolinecolor\": \"white\"}}, \"shapedefaults\": {\"line\": {\"color\": \"#2a3f5f\"}}, \"ternary\": {\"aaxis\": {\"gridcolor\": \"white\", \"linecolor\": \"white\", \"ticks\": \"\"}, \"baxis\": {\"gridcolor\": \"white\", \"linecolor\": \"white\", \"ticks\": \"\"}, \"bgcolor\": \"#E5ECF6\", \"caxis\": {\"gridcolor\": \"white\", \"linecolor\": \"white\", \"ticks\": \"\"}}, \"title\": {\"x\": 0.05}, \"xaxis\": {\"automargin\": true, \"gridcolor\": \"white\", \"linecolor\": \"white\", \"ticks\": \"\", \"title\": {\"standoff\": 15}, \"zerolinecolor\": \"white\", \"zerolinewidth\": 2}, \"yaxis\": {\"automargin\": true, \"gridcolor\": \"white\", \"linecolor\": \"white\", \"ticks\": \"\", \"title\": {\"standoff\": 15}, \"zerolinecolor\": \"white\", \"zerolinewidth\": 2}}}},\n",
              "                        {\"showLink\": {\"title\": \"Pie Chart of Diagnosis\"}, \"linkText\": \"Export to plot.ly\", \"plotlyServerURL\": \"https://plot.ly\", \"responsive\": true}\n",
              "                    ).then(function(){\n",
              "                            \n",
              "var gd = document.getElementById('7572aa10-4309-423f-ab2f-f711c1a320ae');\n",
              "var x = new MutationObserver(function (mutations, observer) {{\n",
              "        var display = window.getComputedStyle(gd).display;\n",
              "        if (!display || display === 'none') {{\n",
              "            console.log([gd, 'removed!']);\n",
              "            Plotly.purge(gd);\n",
              "            observer.disconnect();\n",
              "        }}\n",
              "}});\n",
              "\n",
              "// Listen for the removal of the full notebook cells\n",
              "var notebookContainer = gd.closest('#notebook-container');\n",
              "if (notebookContainer) {{\n",
              "    x.observe(notebookContainer, {childList: true});\n",
              "}}\n",
              "\n",
              "// Listen for the clearing of the current output cell\n",
              "var outputEl = gd.closest('.output');\n",
              "if (outputEl) {{\n",
              "    x.observe(outputEl, {childList: true});\n",
              "}}\n",
              "\n",
              "                        })\n",
              "                };\n",
              "                \n",
              "            </script>\n",
              "        </div>\n",
              "</body>\n",
              "</html>"
            ]
          },
          "metadata": {
            "tags": []
          }
        }
      ]
    },
    {
      "cell_type": "markdown",
      "metadata": {
        "id": "SfeyQqXEglQz",
        "colab_type": "text"
      },
      "source": [
        "#### In above donut chart, Malignant(M=1) is 37.3 % and Benign(B=0) is 62.7 %"
      ]
    },
    {
      "cell_type": "code",
      "metadata": {
        "id": "JENv2nJdEK0h",
        "colab_type": "code",
        "colab": {}
      },
      "source": [
        ""
      ],
      "execution_count": null,
      "outputs": []
    }
  ]
}